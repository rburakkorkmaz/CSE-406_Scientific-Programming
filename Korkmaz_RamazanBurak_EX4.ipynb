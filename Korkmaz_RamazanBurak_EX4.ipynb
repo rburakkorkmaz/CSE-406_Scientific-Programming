{
  "nbformat": 4,
  "nbformat_minor": 0,
  "metadata": {
    "colab": {
      "name": "Korkmaz_RamazanBurak_EX4",
      "provenance": [],
      "collapsed_sections": [],
      "authorship_tag": "ABX9TyP8X6uAUmHwUBU3qFpZcdbr",
      "include_colab_link": true
    },
    "kernelspec": {
      "name": "python3",
      "display_name": "Python 3"
    },
    "language_info": {
      "name": "python"
    }
  },
  "cells": [
    {
      "cell_type": "markdown",
      "metadata": {
        "id": "view-in-github",
        "colab_type": "text"
      },
      "source": [
        "<a href=\"https://colab.research.google.com/github/rburakkorkmaz/CSE-406_Scientific-Programming/blob/main/Korkmaz_RamazanBurak_EX4.ipynb\" target=\"_parent\"><img src=\"https://colab.research.google.com/assets/colab-badge.svg\" alt=\"Open In Colab\"/></a>"
      ]
    },
    {
      "cell_type": "markdown",
      "source": [
        "<h1><strong>Exercise 4</strong></h1>\n",
        "<h1><strong>Student Name & Surname:</strong> Ramazan Burak Korkmaz</h1>\n",
        "<h1><strong>Student ID:</strong> 202151056004</h1>"
      ],
      "metadata": {
        "id": "BSRS8_hE2Th4"
      }
    },
    {
      "cell_type": "markdown",
      "source": [
        "<h2>Needed packages</h2>"
      ],
      "metadata": {
        "id": "-TnPk18K6mfY"
      }
    },
    {
      "cell_type": "code",
      "execution_count": 1,
      "metadata": {
        "id": "zwnM4_x5w-C6"
      },
      "outputs": [],
      "source": [
        "import numpy as np\n",
        "import time"
      ]
    },
    {
      "cell_type": "code",
      "source": [
        "# Function to check if given matrix is Toeplitz.\n",
        "# It was not asked in the exercise. I just use it\n",
        "# to debugging\n",
        "def isToeplitz(matrix):\n",
        "    temp = list(matrix)\n",
        "    # base case\n",
        "    if not temp:\n",
        "        return True\n",
        " \n",
        "    for i in range(len(temp) - 1):\n",
        "        for j in range(len(temp[0]) - 1):\n",
        "            if temp[i][j] != temp[i + 1][j + 1]:\n",
        "                return False\n",
        " \n",
        "    return True"
      ],
      "metadata": {
        "id": "gz8QZvhj2G9w"
      },
      "execution_count": 57,
      "outputs": []
    },
    {
      "cell_type": "markdown",
      "source": [
        "<h2>Generate matrices A, with random Gaussian entries, B, a Toeplitz matrix</h2>"
      ],
      "metadata": {
        "id": "Qwz--2lU64Uy"
      }
    },
    {
      "cell_type": "code",
      "source": [
        "N = 200\n",
        "M = 300\n",
        "\n",
        "# Create A matrix\n",
        "A = np.random.normal(size=(N, M))\n",
        "\n",
        "# Create B Matrix\n",
        "B_row = np.random.rand(1, M*2)\n",
        "B = np.empty((0, M))\n",
        "\n",
        "for i in range(0, M):\n",
        "  B = np.append(B, B_row[:, :M], axis = 0)\n",
        "  B_row = np.roll(B_row, 1)\n"
      ],
      "metadata": {
        "id": "TPa861n7xP5X"
      },
      "execution_count": 59,
      "outputs": []
    },
    {
      "cell_type": "code",
      "source": [
        "A.shape"
      ],
      "metadata": {
        "colab": {
          "base_uri": "https://localhost:8080/"
        },
        "id": "NdJUijCoyWu9",
        "outputId": "40e8c324-a73f-4eb8-9f43-e020eb7e709f"
      },
      "execution_count": 60,
      "outputs": [
        {
          "output_type": "execute_result",
          "data": {
            "text/plain": [
              "(200, 300)"
            ]
          },
          "metadata": {},
          "execution_count": 60
        }
      ]
    },
    {
      "cell_type": "code",
      "source": [
        "B.shape"
      ],
      "metadata": {
        "colab": {
          "base_uri": "https://localhost:8080/"
        },
        "id": "2pV8CGAxz4LL",
        "outputId": "7a0dd1af-852a-4373-a59b-674d926ef357"
      },
      "execution_count": 61,
      "outputs": [
        {
          "output_type": "execute_result",
          "data": {
            "text/plain": [
              "(300, 300)"
            ]
          },
          "metadata": {},
          "execution_count": 61
        }
      ]
    },
    {
      "cell_type": "code",
      "source": [
        "isToeplitz(B)"
      ],
      "metadata": {
        "colab": {
          "base_uri": "https://localhost:8080/"
        },
        "id": "ndMpVgQ41KkE",
        "outputId": "c048e004-169f-43fb-eeb8-402ac0a58416"
      },
      "execution_count": 62,
      "outputs": [
        {
          "output_type": "execute_result",
          "data": {
            "text/plain": [
              "True"
            ]
          },
          "metadata": {},
          "execution_count": 62
        }
      ]
    },
    {
      "cell_type": "markdown",
      "source": [
        "<h1><strong>Exercise 9.1:</strong> Matrix operations</h1>\n",
        "Calculate A + A, AAT, ATA and AB.  Write a function that computes A(B − λI) for any λ.\n"
      ],
      "metadata": {
        "id": "0GSRaB-62247"
      }
    },
    {
      "cell_type": "code",
      "source": [
        "A+A"
      ],
      "metadata": {
        "colab": {
          "base_uri": "https://localhost:8080/"
        },
        "id": "uXL9sCu42Kr6",
        "outputId": "7261d26d-69dd-47df-c36e-d6c5c41ab014"
      },
      "execution_count": 63,
      "outputs": [
        {
          "output_type": "execute_result",
          "data": {
            "text/plain": [
              "array([[-0.70454012, -0.35734186, -2.77046916, ...,  0.74097443,\n",
              "         0.37839309, -0.20175506],\n",
              "       [-1.38769293,  1.88967816,  1.12238009, ..., -0.67005426,\n",
              "        -0.501799  , -1.83023404],\n",
              "       [ 1.6272957 ,  3.28582184,  1.18067787, ...,  1.29249107,\n",
              "        -0.25549283,  1.11956523],\n",
              "       ...,\n",
              "       [-3.21835182, -0.25401583, -2.12134323, ..., -0.66850709,\n",
              "        -0.37832811,  2.002575  ],\n",
              "       [-2.99806772, -0.6830963 , -0.8761254 , ...,  1.5434886 ,\n",
              "         2.41290236, -3.44189675],\n",
              "       [ 5.46208977,  1.16085232, -3.10006872, ..., -0.87926726,\n",
              "        -1.17941972,  4.89788647]])"
            ]
          },
          "metadata": {},
          "execution_count": 63
        }
      ]
    },
    {
      "cell_type": "code",
      "source": [
        "np.matmul(A, A.T)"
      ],
      "metadata": {
        "colab": {
          "base_uri": "https://localhost:8080/"
        },
        "id": "m-ML3zu84ZW7",
        "outputId": "5d744299-7a44-4ff0-d7e3-2f799f0af2dc"
      },
      "execution_count": 64,
      "outputs": [
        {
          "output_type": "execute_result",
          "data": {
            "text/plain": [
              "array([[310.27781726,  24.77283429, -12.3291704 , ...,  34.97149675,\n",
              "          7.30381841,   0.83309681],\n",
              "       [ 24.77283429, 268.91308696,   5.72265363, ...,   7.93178994,\n",
              "         10.68373992,  -0.34619784],\n",
              "       [-12.3291704 ,   5.72265363, 278.20521533, ...,  -4.95583231,\n",
              "         -1.27857796, -19.72009675],\n",
              "       ...,\n",
              "       [ 34.97149675,   7.93178994,  -4.95583231, ..., 279.12205465,\n",
              "         28.44701142,   6.26561563],\n",
              "       [  7.30381841,  10.68373992,  -1.27857796, ...,  28.44701142,\n",
              "        284.74563098, -18.43502889],\n",
              "       [  0.83309681,  -0.34619784, -19.72009675, ...,   6.26561563,\n",
              "        -18.43502889, 302.25880264]])"
            ]
          },
          "metadata": {},
          "execution_count": 64
        }
      ]
    },
    {
      "cell_type": "code",
      "source": [
        "np.matmul(A, B)"
      ],
      "metadata": {
        "colab": {
          "base_uri": "https://localhost:8080/"
        },
        "id": "cey_O8lc4gQx",
        "outputId": "ddf8537f-bd98-4c5b-96f4-cff69ab9790a"
      },
      "execution_count": 65,
      "outputs": [
        {
          "output_type": "execute_result",
          "data": {
            "text/plain": [
              "array([[  3.11320558,  -0.0301465 ,   0.51131343, ...,   5.93086156,\n",
              "         10.73854236,   7.16844864],\n",
              "       [  1.21138779,   1.33233574,   2.33921499, ...,   4.32578165,\n",
              "         -0.16029908,   6.17281475],\n",
              "       [ 13.31504463,   9.67120753,  16.49469878, ...,   6.39910452,\n",
              "          3.34014524,  19.04116823],\n",
              "       ...,\n",
              "       [  2.52780338, -10.37179877,  -1.8612019 , ...,   4.76576481,\n",
              "          6.56673964,   9.25062483],\n",
              "       [  4.87904142,   4.39231062,  15.91173364, ...,   7.64020683,\n",
              "          9.44283739,  11.6215776 ],\n",
              "       [  8.50879871,  19.62933499,  15.25762528, ...,   8.28155041,\n",
              "          9.17823164,  10.3392895 ]])"
            ]
          },
          "metadata": {},
          "execution_count": 65
        }
      ]
    },
    {
      "cell_type": "code",
      "source": [
        "def func_to_solve(A, B, L):\n",
        "  return np.matmul(A, (B - L*np.identity(len(B))))"
      ],
      "metadata": {
        "id": "L34eW_I0462A"
      },
      "execution_count": 66,
      "outputs": []
    },
    {
      "cell_type": "code",
      "source": [
        "func_to_solve(A, B, 2)"
      ],
      "metadata": {
        "colab": {
          "base_uri": "https://localhost:8080/"
        },
        "id": "aDavLGXI5TVR",
        "outputId": "74867b0e-234d-4594-d28f-19697acd6e47"
      },
      "execution_count": 67,
      "outputs": [
        {
          "output_type": "execute_result",
          "data": {
            "text/plain": [
              "array([[  3.8177457 ,   0.32719536,   3.2817826 , ...,   5.18988713,\n",
              "         10.36014927,   7.3702037 ],\n",
              "       [  2.59908071,  -0.55734242,   1.2168349 , ...,   4.99583591,\n",
              "          0.34149992,   8.00304879],\n",
              "       [ 11.68774893,   6.38538569,  15.31402091, ...,   5.10661345,\n",
              "          3.59563807,  17.921603  ],\n",
              "       ...,\n",
              "       [  5.74615519, -10.11778294,   0.26014133, ...,   5.4342719 ,\n",
              "          6.94506775,   7.24804983],\n",
              "       [  7.87710915,   5.07540692,  16.78785904, ...,   6.09671822,\n",
              "          7.02993504,  15.06347435],\n",
              "       [  3.04670894,  18.46848267,  18.357694  , ...,   9.16081766,\n",
              "         10.35765136,   5.44140303]])"
            ]
          },
          "metadata": {},
          "execution_count": 67
        }
      ]
    },
    {
      "cell_type": "markdown",
      "source": [
        "<h1><strong>Exercise 9.2:</strong> Solving a linear system</h1>\n",
        "Generate a vector b with m entries and solve Bx = b.\n",
        "\n"
      ],
      "metadata": {
        "id": "Lg7bPKVH7_Pw"
      }
    },
    {
      "cell_type": "code",
      "source": [
        "b = np.random.rand(M, 1)"
      ],
      "metadata": {
        "id": "6K5wsVj05hWA"
      },
      "execution_count": 68,
      "outputs": []
    },
    {
      "cell_type": "code",
      "source": [
        "b.shape"
      ],
      "metadata": {
        "colab": {
          "base_uri": "https://localhost:8080/"
        },
        "id": "cCEuEtY0u4Pm",
        "outputId": "b80225f7-ef5f-409b-8c1b-31aea6d22d2d"
      },
      "execution_count": 69,
      "outputs": [
        {
          "output_type": "execute_result",
          "data": {
            "text/plain": [
              "(300, 1)"
            ]
          },
          "metadata": {},
          "execution_count": 69
        }
      ]
    },
    {
      "cell_type": "code",
      "source": [
        "B_inv = np.linalg.inv(B)\n",
        "X = np.matmul(B_inv, b)"
      ],
      "metadata": {
        "id": "68BtLXGAu4m-"
      },
      "execution_count": 70,
      "outputs": []
    },
    {
      "cell_type": "code",
      "source": [
        "X.shape"
      ],
      "metadata": {
        "colab": {
          "base_uri": "https://localhost:8080/"
        },
        "id": "3AkdGsshvPkA",
        "outputId": "ed262bec-c954-4ab2-d2a9-489d11bcf118"
      },
      "execution_count": 71,
      "outputs": [
        {
          "output_type": "execute_result",
          "data": {
            "text/plain": [
              "(300, 1)"
            ]
          },
          "metadata": {},
          "execution_count": 71
        }
      ]
    },
    {
      "cell_type": "markdown",
      "source": [
        "<h1><strong>Exercise 9.3:</strong> Norms</h1>\n",
        "Compute the Frobenius norm of A:||A||F and the infinity norm of B:||B||∞.  Also find the largest and smallest singular values of B.\n",
        "\n",
        "\n"
      ],
      "metadata": {
        "id": "tN_fBeFu8WC_"
      }
    },
    {
      "cell_type": "code",
      "source": [
        "A_norm = np.linalg.norm(A, ord=None)\n",
        "B_norm = np.linalg.norm(B, ord=np.inf)\n",
        "largest_singular_values = np.linalg.norm(B, ord = 2)\n",
        "smallest_singular_values = np.linalg.norm(B, ord = -2)"
      ],
      "metadata": {
        "id": "A6gKKLPGvQIt"
      },
      "execution_count": 72,
      "outputs": []
    },
    {
      "cell_type": "code",
      "source": [
        "A_norm"
      ],
      "metadata": {
        "colab": {
          "base_uri": "https://localhost:8080/"
        },
        "id": "95zex5JgwA6e",
        "outputId": "0b998b2e-3c12-4091-be47-80fc22f88cfb"
      },
      "execution_count": 73,
      "outputs": [
        {
          "output_type": "execute_result",
          "data": {
            "text/plain": [
              "245.72184865699964"
            ]
          },
          "metadata": {},
          "execution_count": 73
        }
      ]
    },
    {
      "cell_type": "code",
      "source": [
        "B_norm"
      ],
      "metadata": {
        "colab": {
          "base_uri": "https://localhost:8080/"
        },
        "id": "UOQMFkJGwDEY",
        "outputId": "6fc24cc5-d41c-4bc6-82a7-7d70ebf89907"
      },
      "execution_count": 74,
      "outputs": [
        {
          "output_type": "execute_result",
          "data": {
            "text/plain": [
              "151.63485548161674"
            ]
          },
          "metadata": {},
          "execution_count": 74
        }
      ]
    },
    {
      "cell_type": "code",
      "source": [
        "largest_singular_values"
      ],
      "metadata": {
        "colab": {
          "base_uri": "https://localhost:8080/"
        },
        "id": "xSNybYr7wDrt",
        "outputId": "c93453c0-033b-4fb6-bf4e-811ebc195d1e"
      },
      "execution_count": 75,
      "outputs": [
        {
          "output_type": "execute_result",
          "data": {
            "text/plain": [
              "147.89879973117434"
            ]
          },
          "metadata": {},
          "execution_count": 75
        }
      ]
    },
    {
      "cell_type": "code",
      "source": [
        "smallest_singular_values"
      ],
      "metadata": {
        "colab": {
          "base_uri": "https://localhost:8080/"
        },
        "id": "KaHNZnr3wEs1",
        "outputId": "3a96c727-e5ef-4f96-e91e-ad851b3a3cb3"
      },
      "execution_count": 76,
      "outputs": [
        {
          "output_type": "execute_result",
          "data": {
            "text/plain": [
              "0.02278433995912373"
            ]
          },
          "metadata": {},
          "execution_count": 76
        }
      ]
    },
    {
      "cell_type": "markdown",
      "source": [
        "<h1><strong>Exercise 9.4:</strong> Power iteration</h1>\n",
        "Generate  a  matrix  Z,  n      n,  with  Gaussian  entries,  and  use  the  power  iteration  to find  the  largest eigenvalue and corresponding eigenvector of Z.  How many iterations are needed till convergence?\n",
        "\n",
        "Optional:  use the time.clock() method to compare computation time when varying n.\n",
        "\n",
        "\n",
        "\n"
      ],
      "metadata": {
        "id": "bfVUZFb29Ds3"
      }
    },
    {
      "cell_type": "code",
      "source": [
        "def power_method(Z, start_lambda, tolerate):\n",
        "  # Initial matrix\n",
        "  v = np.ones((len(Z), 1))\n",
        "\n",
        "  # List that holds last two lambda values, so we can calculate error\n",
        "  lambda_history = [0, start_lambda]\n",
        "\n",
        "  # Initializing error variable\n",
        "  error = abs(lambda_history[-1] - lambda_history[0])\n",
        "\n",
        "  # Variable to count loop numbers\n",
        "  counter = 0\n",
        "\n",
        "  # Start time variable that holds when loop started\n",
        "  start = time.time()\n",
        "\n",
        "  # COnvering loop. Each iteration we get close to the real eigenvector values\n",
        "  while error > tolerate:\n",
        "    v = np.matmul(Z, v)\n",
        "    lambda_history = [lambda_history[-1], max(abs(v))]\n",
        "    v = v / lambda_history[-1]\n",
        "    error = abs(lambda_history[-1] - lambda_history[0])\n",
        "    counter += 1\n",
        "  \n",
        "  # Calcualte elapsed time in while loop\n",
        "  elapsed_time = time.time() - start\n",
        "\n",
        "  print(f\"Elapsed time: {elapsed_time}\")\n",
        "  print(f\"Loop count: {counter}\")\n",
        "  return elapsed_time, counter, v"
      ],
      "metadata": {
        "id": "BrERHdMxwFa-"
      },
      "execution_count": 77,
      "outputs": []
    },
    {
      "cell_type": "code",
      "source": [
        "Z = np.random.normal(size=(N, N))\n",
        "elapsed_time, loop_counter, a = power_method(Z, 1, 0.001)"
      ],
      "metadata": {
        "colab": {
          "base_uri": "https://localhost:8080/"
        },
        "id": "Lo6GB2u_4-FZ",
        "outputId": "b6bcbe3b-2b59-4fd8-a17c-17d848bf0207"
      },
      "execution_count": 78,
      "outputs": [
        {
          "output_type": "stream",
          "name": "stdout",
          "text": [
            "Elapsed time: 2.9385650157928467\n",
            "Loop count: 8764\n"
          ]
        }
      ]
    },
    {
      "cell_type": "code",
      "source": [
        "a"
      ],
      "metadata": {
        "colab": {
          "base_uri": "https://localhost:8080/"
        },
        "id": "ku4ENSVV49_R",
        "outputId": "46d1552b-4e5b-4f9c-ac4a-902e41faacb3"
      },
      "execution_count": 79,
      "outputs": [
        {
          "output_type": "execute_result",
          "data": {
            "text/plain": [
              "array([[ 0.18258929],\n",
              "       [-0.3944868 ],\n",
              "       [-0.5720586 ],\n",
              "       [ 0.13386498],\n",
              "       [-0.1096334 ],\n",
              "       [-0.21811183],\n",
              "       [-0.15493372],\n",
              "       [ 0.14838403],\n",
              "       [ 0.19517958],\n",
              "       [ 0.73119567],\n",
              "       [-0.09191164],\n",
              "       [ 0.24777669],\n",
              "       [ 0.0015    ],\n",
              "       [ 0.26036879],\n",
              "       [ 0.15879646],\n",
              "       [-0.45480748],\n",
              "       [ 0.60918933],\n",
              "       [-0.18233682],\n",
              "       [ 0.45113962],\n",
              "       [-0.03079444],\n",
              "       [-0.24582891],\n",
              "       [ 0.51328521],\n",
              "       [ 0.30929607],\n",
              "       [ 0.32211753],\n",
              "       [ 0.18150775],\n",
              "       [-0.41086958],\n",
              "       [-0.02144664],\n",
              "       [ 0.27835171],\n",
              "       [ 0.20498957],\n",
              "       [ 0.09894573],\n",
              "       [-0.11445256],\n",
              "       [-0.00261156],\n",
              "       [-0.55470555],\n",
              "       [-0.21716259],\n",
              "       [-0.12735365],\n",
              "       [-0.05912227],\n",
              "       [-0.10881907],\n",
              "       [-0.74641148],\n",
              "       [-0.29514283],\n",
              "       [-0.23161464],\n",
              "       [ 0.35844746],\n",
              "       [-0.08611628],\n",
              "       [-0.20810092],\n",
              "       [ 0.07807671],\n",
              "       [ 0.05316798],\n",
              "       [ 0.05522879],\n",
              "       [ 0.34196559],\n",
              "       [ 0.62259729],\n",
              "       [ 0.58890864],\n",
              "       [-0.03890598],\n",
              "       [ 0.4719094 ],\n",
              "       [-0.07188734],\n",
              "       [ 0.10671501],\n",
              "       [-0.61711748],\n",
              "       [-0.04051258],\n",
              "       [ 0.11787927],\n",
              "       [ 0.18972033],\n",
              "       [ 0.04193483],\n",
              "       [ 0.03104652],\n",
              "       [-0.14613788],\n",
              "       [ 0.19274104],\n",
              "       [ 0.13558582],\n",
              "       [ 0.08539338],\n",
              "       [-0.05342527],\n",
              "       [ 0.2219589 ],\n",
              "       [-0.21433107],\n",
              "       [-0.10617181],\n",
              "       [-0.18703174],\n",
              "       [ 0.19737783],\n",
              "       [-0.41129358],\n",
              "       [ 0.04628264],\n",
              "       [ 0.15990966],\n",
              "       [ 0.09150856],\n",
              "       [ 0.41909335],\n",
              "       [-0.26848906],\n",
              "       [-0.68656768],\n",
              "       [-0.06684815],\n",
              "       [ 0.50843316],\n",
              "       [-0.3137678 ],\n",
              "       [ 0.27174123],\n",
              "       [ 0.08911948],\n",
              "       [-0.08153249],\n",
              "       [ 0.03833941],\n",
              "       [-0.72675683],\n",
              "       [-0.15142867],\n",
              "       [-0.63606771],\n",
              "       [-0.24451088],\n",
              "       [-0.14661254],\n",
              "       [ 0.58754273],\n",
              "       [ 0.17404774],\n",
              "       [-0.4780723 ],\n",
              "       [ 0.02466902],\n",
              "       [ 0.2717284 ],\n",
              "       [ 0.189427  ],\n",
              "       [ 0.18386368],\n",
              "       [-0.15199843],\n",
              "       [ 0.14718074],\n",
              "       [ 0.32722133],\n",
              "       [ 0.48155052],\n",
              "       [-0.30870477],\n",
              "       [ 0.46012403],\n",
              "       [ 0.4601753 ],\n",
              "       [-0.18955871],\n",
              "       [-0.06045396],\n",
              "       [-0.1842192 ],\n",
              "       [ 0.36736649],\n",
              "       [ 0.00262122],\n",
              "       [ 0.30890411],\n",
              "       [ 0.02490935],\n",
              "       [ 0.40091289],\n",
              "       [ 0.1777559 ],\n",
              "       [ 0.31125921],\n",
              "       [ 0.0427487 ],\n",
              "       [-0.05369019],\n",
              "       [-0.05566759],\n",
              "       [ 0.20098239],\n",
              "       [-0.2177113 ],\n",
              "       [-0.46979018],\n",
              "       [-0.08771377],\n",
              "       [-0.21256351],\n",
              "       [ 0.38748789],\n",
              "       [ 0.04266063],\n",
              "       [ 0.26851529],\n",
              "       [ 0.69940316],\n",
              "       [ 0.00162736],\n",
              "       [ 0.14282456],\n",
              "       [ 0.48024387],\n",
              "       [ 0.35205197],\n",
              "       [ 0.06396597],\n",
              "       [-0.51100912],\n",
              "       [-0.14766651],\n",
              "       [ 0.23852131],\n",
              "       [ 0.06195282],\n",
              "       [-0.14244856],\n",
              "       [-0.19443902],\n",
              "       [ 0.32554059],\n",
              "       [-0.30098353],\n",
              "       [-0.04787568],\n",
              "       [-0.46469828],\n",
              "       [ 0.21456555],\n",
              "       [ 0.1006642 ],\n",
              "       [ 0.67971575],\n",
              "       [-0.09008275],\n",
              "       [-0.15320484],\n",
              "       [ 0.21622564],\n",
              "       [-0.09506674],\n",
              "       [ 0.5258166 ],\n",
              "       [ 0.26978014],\n",
              "       [ 0.34518316],\n",
              "       [ 0.09714925],\n",
              "       [ 0.45821383],\n",
              "       [-0.43196586],\n",
              "       [ 0.01922279],\n",
              "       [-0.13117064],\n",
              "       [-0.13123535],\n",
              "       [ 0.2148765 ],\n",
              "       [ 0.09527975],\n",
              "       [-0.17661843],\n",
              "       [-0.64390033],\n",
              "       [ 0.40878001],\n",
              "       [ 0.69773547],\n",
              "       [-0.38597819],\n",
              "       [-0.12131176],\n",
              "       [ 0.43846133],\n",
              "       [-0.01974755],\n",
              "       [ 0.24146342],\n",
              "       [ 0.19939919],\n",
              "       [-0.12575288],\n",
              "       [-0.34207577],\n",
              "       [-0.0418667 ],\n",
              "       [-0.41872587],\n",
              "       [ 0.20989613],\n",
              "       [-0.11837135],\n",
              "       [ 0.0387627 ],\n",
              "       [-0.48621486],\n",
              "       [-0.35371399],\n",
              "       [ 0.13437147],\n",
              "       [ 0.22092655],\n",
              "       [-0.35485704],\n",
              "       [-0.24552562],\n",
              "       [-0.6624186 ],\n",
              "       [ 0.0364689 ],\n",
              "       [ 0.25970095],\n",
              "       [ 0.28231137],\n",
              "       [ 0.06896611],\n",
              "       [ 0.16246474],\n",
              "       [ 0.35032776],\n",
              "       [ 0.26529163],\n",
              "       [ 0.45076278],\n",
              "       [ 0.35948638],\n",
              "       [ 0.19666955],\n",
              "       [ 0.22027975],\n",
              "       [ 0.28592409],\n",
              "       [-1.        ],\n",
              "       [-0.47629357],\n",
              "       [-0.15812758],\n",
              "       [-0.27224591],\n",
              "       [-0.35350552],\n",
              "       [ 0.59069807],\n",
              "       [-0.45622426]])"
            ]
          },
          "metadata": {},
          "execution_count": 79
        }
      ]
    },
    {
      "cell_type": "markdown",
      "source": [
        "<h1><strong>Exercise 9.6:</strong> Nearest neighbor</h1>\n",
        "Write a function that takes a value z and an array A and finds the element in A that is closest to \n",
        "z.  The function should return the closest value, not index.\n",
        "Hint:  Use the built-in functionality of Numpy rather than writing code to find this value \n",
        "manually.  In particular, use brackets and argmin.\n",
        "\n",
        "\n",
        "\n",
        "\n"
      ],
      "metadata": {
        "id": "R_9SN5VU_Deg"
      }
    },
    {
      "cell_type": "code",
      "source": [
        "def find_nearest_neighbor(z, A):\n",
        "  # Create a matrix that has same dimensions with matrix A and each element of\n",
        "  # this matrix is z\n",
        "  z_matrix = z*np.ones((len(A), len(A)))\n",
        "\n",
        "  # Subtract z matrix from A and apply absolute to all elements\n",
        "  # This way we can know distance between each element of A with z\n",
        "  temp = abs(A - z_matrix)\n",
        "\n",
        "  # By using argmin function, simply find smallest distance in the temp matrix\n",
        "  # Smallest distance's index is the nearest neighbor\n",
        "  row, column = np.unravel_index(np.argmin(temp, axis=None), temp.shape)\n",
        "  return A[row][column]"
      ],
      "metadata": {
        "id": "LMwh7fl35cyN"
      },
      "execution_count": 80,
      "outputs": []
    },
    {
      "cell_type": "code",
      "source": [
        "A = np.array([[10, 30, 53],\n",
        "              [72,  1,  3],\n",
        "              [4,  32, 21]])\n",
        "\n",
        "find_nearest_neighbor(28, A)"
      ],
      "metadata": {
        "colab": {
          "base_uri": "https://localhost:8080/"
        },
        "id": "HHglIVA7GVe4",
        "outputId": "d3ab562a-983a-4c57-9da3-aaf5f318a8bd"
      },
      "execution_count": 81,
      "outputs": [
        {
          "output_type": "execute_result",
          "data": {
            "text/plain": [
              "30"
            ]
          },
          "metadata": {},
          "execution_count": 81
        }
      ]
    },
    {
      "cell_type": "code",
      "source": [
        ""
      ],
      "metadata": {
        "id": "_lKCdvwHAYSi"
      },
      "execution_count": 81,
      "outputs": []
    }
  ]
}