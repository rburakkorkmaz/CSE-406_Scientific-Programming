{
  "nbformat": 4,
  "nbformat_minor": 0,
  "metadata": {
    "colab": {
      "name": "KorkmazRamazanBurak_E1",
      "provenance": [],
      "collapsed_sections": [],
      "authorship_tag": "ABX9TyMTfD6ooMq0l4NfFcNiRI7T",
      "include_colab_link": true
    },
    "kernelspec": {
      "name": "python3",
      "display_name": "Python 3"
    },
    "language_info": {
      "name": "python"
    }
  },
  "cells": [
    {
      "cell_type": "markdown",
      "metadata": {
        "id": "view-in-github",
        "colab_type": "text"
      },
      "source": [
        "<a href=\"https://colab.research.google.com/github/rburakkorkmaz/CSE-406_Scientific-Programming/blob/main/KorkmazRamazanBurak_E1.ipynb\" target=\"_parent\"><img src=\"https://colab.research.google.com/assets/colab-badge.svg\" alt=\"Open In Colab\"/></a>"
      ]
    },
    {
      "cell_type": "markdown",
      "source": [
        "<h1><strong>Exercise 1</strong></h1>\n",
        "<h3><strong>Student Name:</strong> Ramazan Burak Korkmaz</h3>\n",
        "<h3><strong>Student ID:</strong> 202151056004</h3>\n",
        "<h3><strong>Due:</strong> 04.03.2022</h3>"
      ],
      "metadata": {
        "id": "6WgxaCVrxQRg"
      }
    },
    {
      "cell_type": "markdown",
      "source": [
        "<h1><strong>1) Basic</strong></h1>"
      ],
      "metadata": {
        "id": "ZBg--U-VyKm9"
      }
    },
    {
      "cell_type": "markdown",
      "source": [
        "<h2><strong>Exercise 1.1:</strong> The interpreter</h2>\n",
        "Open the Python interpeter. What happens when you input the following statements:\n",
        "<ul>\n",
        "  <li>(a) 3 + 1</li>\n",
        "  <li>(b) 3 * 3</li>\n",
        "  <li>(c) 2 ** 3</li>\n",
        "  <li>(d) \"Hello, world!\"</li>"
      ],
      "metadata": {
        "id": "re0sKTpWyXkD"
      }
    },
    {
      "cell_type": "code",
      "execution_count": null,
      "metadata": {
        "colab": {
          "base_uri": "https://localhost:8080/"
        },
        "id": "6Uq-pEkJxO1E",
        "outputId": "c9f0cf6a-1292-4823-d3f3-878c6ffa16f2"
      },
      "outputs": [
        {
          "output_type": "execute_result",
          "data": {
            "text/plain": [
              "4"
            ]
          },
          "metadata": {},
          "execution_count": 1
        }
      ],
      "source": [
        "3+1"
      ]
    },
    {
      "cell_type": "code",
      "source": [
        "3*3"
      ],
      "metadata": {
        "colab": {
          "base_uri": "https://localhost:8080/"
        },
        "id": "fSyeCtT3zBWd",
        "outputId": "b03c9b9c-eda6-4199-fdac-a305b82d36b4"
      },
      "execution_count": null,
      "outputs": [
        {
          "output_type": "execute_result",
          "data": {
            "text/plain": [
              "9"
            ]
          },
          "metadata": {},
          "execution_count": 2
        }
      ]
    },
    {
      "cell_type": "code",
      "source": [
        "2**3"
      ],
      "metadata": {
        "colab": {
          "base_uri": "https://localhost:8080/"
        },
        "id": "MfKxjkcKzCur",
        "outputId": "ef65734c-c10f-4aaf-a5a9-533349ddf995"
      },
      "execution_count": null,
      "outputs": [
        {
          "output_type": "execute_result",
          "data": {
            "text/plain": [
              "8"
            ]
          },
          "metadata": {},
          "execution_count": 3
        }
      ]
    },
    {
      "cell_type": "code",
      "source": [
        "\"Hello, world!\""
      ],
      "metadata": {
        "colab": {
          "base_uri": "https://localhost:8080/",
          "height": 35
        },
        "id": "xzihELZazEFt",
        "outputId": "dbdefa9b-607f-4753-cd3a-0d5359b67c40"
      },
      "execution_count": null,
      "outputs": [
        {
          "output_type": "execute_result",
          "data": {
            "application/vnd.google.colaboratory.intrinsic+json": {
              "type": "string"
            },
            "text/plain": [
              "'Hello, world!'"
            ]
          },
          "metadata": {},
          "execution_count": 4
        }
      ]
    },
    {
      "cell_type": "markdown",
      "source": [
        "<h2><strong>Exercise 1.3:</strong> More interpreter</h2>\n",
        "Explain the output of the following statements if executed subsequently:\n",
        "\n",
        "<ul>\n",
        "  <li>(a) 'py' + 'thon'</li>\n",
        "  <li>(b) 'py' * 3 + 'thon'</li>\n",
        "  <li>(c) 'py' - 'py'</li>\n",
        "  <li>(d) '3' + 3</li>\n",
        "  <li>(e) 3 * '3'</li>\n",
        "  <li>(f) a</li>\n",
        "  <li>(g) a = 3</li>\n",
        "  <li>(h) a</li>\n"
      ],
      "metadata": {
        "id": "in3JY2z7z0G-"
      }
    },
    {
      "cell_type": "markdown",
      "source": [
        "<h2>Answer (a)</h2>\n",
        "<h3>Concatenating two string to one</h3>"
      ],
      "metadata": {
        "id": "ccrUCLkh0k8h"
      }
    },
    {
      "cell_type": "code",
      "source": [
        "'py' + 'thon'"
      ],
      "metadata": {
        "colab": {
          "base_uri": "https://localhost:8080/",
          "height": 35
        },
        "id": "tqcy_CqIzGf7",
        "outputId": "8f8f05b8-e5cb-42d9-ffc7-a145c65220e4"
      },
      "execution_count": null,
      "outputs": [
        {
          "output_type": "execute_result",
          "data": {
            "application/vnd.google.colaboratory.intrinsic+json": {
              "type": "string"
            },
            "text/plain": [
              "'python'"
            ]
          },
          "metadata": {},
          "execution_count": 5
        }
      ]
    },
    {
      "cell_type": "markdown",
      "source": [
        "<h2>Answer (b)</h2>\n",
        "<h3> In python, when you use multiplation operator with string, it copies the string number of times indicated. After copying, '+' operator will concatenate two string together.</h3>"
      ],
      "metadata": {
        "id": "OpV3_Yu50xsp"
      }
    },
    {
      "cell_type": "code",
      "source": [
        "'py'*3 + 'thon'"
      ],
      "metadata": {
        "colab": {
          "base_uri": "https://localhost:8080/",
          "height": 35
        },
        "id": "38HvjDH90Up-",
        "outputId": "276fc1e6-aa76-4e15-e3da-594c4fb4d690"
      },
      "execution_count": null,
      "outputs": [
        {
          "output_type": "execute_result",
          "data": {
            "application/vnd.google.colaboratory.intrinsic+json": {
              "type": "string"
            },
            "text/plain": [
              "'pypypython'"
            ]
          },
          "metadata": {},
          "execution_count": 6
        }
      ]
    },
    {
      "cell_type": "markdown",
      "source": [
        "<h2>Answer (c)</h2>\n",
        "<h3> Even though '+' and '*' operators are supported operators for string, '-' is not supported. Another way to say, it is not a valid operator strings. Therefore, we got the error.</h3>"
      ],
      "metadata": {
        "id": "CLVAGRU11W1r"
      }
    },
    {
      "cell_type": "code",
      "source": [
        " 'py' - 'py'"
      ],
      "metadata": {
        "colab": {
          "base_uri": "https://localhost:8080/",
          "height": 165
        },
        "id": "VMAeUhBh0X9D",
        "outputId": "0e4555f3-020f-40a7-81c8-d429dd06cb4a"
      },
      "execution_count": null,
      "outputs": [
        {
          "output_type": "error",
          "ename": "TypeError",
          "evalue": "ignored",
          "traceback": [
            "\u001b[0;31m---------------------------------------------------------------------------\u001b[0m",
            "\u001b[0;31mTypeError\u001b[0m                                 Traceback (most recent call last)",
            "\u001b[0;32m<ipython-input-8-7bde3f189cb3>\u001b[0m in \u001b[0;36m<module>\u001b[0;34m()\u001b[0m\n\u001b[0;32m----> 1\u001b[0;31m \u001b[0;34m'py'\u001b[0m \u001b[0;34m-\u001b[0m \u001b[0;34m'py'\u001b[0m\u001b[0;34m\u001b[0m\u001b[0;34m\u001b[0m\u001b[0m\n\u001b[0m",
            "\u001b[0;31mTypeError\u001b[0m: unsupported operand type(s) for -: 'str' and 'str'"
          ]
        }
      ]
    },
    {
      "cell_type": "code",
      "source": [
        " '3' + 3"
      ],
      "metadata": {
        "colab": {
          "base_uri": "https://localhost:8080/",
          "height": 165
        },
        "id": "URtznxpd0Za7",
        "outputId": "51e95a5b-8a5a-4e74-8863-ac639ed43bcf"
      },
      "execution_count": null,
      "outputs": [
        {
          "output_type": "error",
          "ename": "TypeError",
          "evalue": "ignored",
          "traceback": [
            "\u001b[0;31m---------------------------------------------------------------------------\u001b[0m",
            "\u001b[0;31mTypeError\u001b[0m                                 Traceback (most recent call last)",
            "\u001b[0;32m<ipython-input-9-489614762790>\u001b[0m in \u001b[0;36m<module>\u001b[0;34m()\u001b[0m\n\u001b[0;32m----> 1\u001b[0;31m \u001b[0;34m'3'\u001b[0m \u001b[0;34m+\u001b[0m \u001b[0;36m3\u001b[0m\u001b[0;34m\u001b[0m\u001b[0;34m\u001b[0m\u001b[0m\n\u001b[0m",
            "\u001b[0;31mTypeError\u001b[0m: can only concatenate str (not \"int\") to str"
          ]
        }
      ]
    },
    {
      "cell_type": "code",
      "source": [
        "3 * '3'"
      ],
      "metadata": {
        "colab": {
          "base_uri": "https://localhost:8080/",
          "height": 35
        },
        "id": "TioILdSI0bZB",
        "outputId": "64425907-f15b-4913-aeca-792c5b4b10aa"
      },
      "execution_count": null,
      "outputs": [
        {
          "output_type": "execute_result",
          "data": {
            "application/vnd.google.colaboratory.intrinsic+json": {
              "type": "string"
            },
            "text/plain": [
              "'333'"
            ]
          },
          "metadata": {},
          "execution_count": 10
        }
      ]
    },
    {
      "cell_type": "code",
      "source": [
        " a"
      ],
      "metadata": {
        "colab": {
          "base_uri": "https://localhost:8080/",
          "height": 165
        },
        "id": "z8vz7DBS0dbl",
        "outputId": "aad46811-2d57-43e2-e2f7-9dba5d39e65e"
      },
      "execution_count": null,
      "outputs": [
        {
          "output_type": "error",
          "ename": "NameError",
          "evalue": "ignored",
          "traceback": [
            "\u001b[0;31m---------------------------------------------------------------------------\u001b[0m",
            "\u001b[0;31mNameError\u001b[0m                                 Traceback (most recent call last)",
            "\u001b[0;32m<ipython-input-11-3f786850e387>\u001b[0m in \u001b[0;36m<module>\u001b[0;34m()\u001b[0m\n\u001b[0;32m----> 1\u001b[0;31m \u001b[0ma\u001b[0m\u001b[0;34m\u001b[0m\u001b[0;34m\u001b[0m\u001b[0m\n\u001b[0m",
            "\u001b[0;31mNameError\u001b[0m: name 'a' is not defined"
          ]
        }
      ]
    },
    {
      "cell_type": "code",
      "source": [
        "a = 3"
      ],
      "metadata": {
        "id": "fC_6A_8u0eiy"
      },
      "execution_count": null,
      "outputs": []
    },
    {
      "cell_type": "code",
      "source": [
        "a"
      ],
      "metadata": {
        "colab": {
          "base_uri": "https://localhost:8080/"
        },
        "id": "CFGsqSbo0gIK",
        "outputId": "eb79c26a-0f5a-443b-bd7c-7ad63c732c07"
      },
      "execution_count": null,
      "outputs": [
        {
          "output_type": "execute_result",
          "data": {
            "text/plain": [
              "3"
            ]
          },
          "metadata": {},
          "execution_count": 13
        }
      ]
    },
    {
      "cell_type": "markdown",
      "source": [
        "<h2><strong>Exercise 1.4:</strong> Booleans</h2>\n",
        "Explain the output of the following statements:\n",
        "\n",
        "<ul>\n",
        "  <li>(a) 1 == 1</li>\n",
        "  <li>(b) 1 == True</li>\n",
        "  <li>(c) 0 == True</li>\n",
        "  <li>(d) 0 == False</li>\n",
        "  <li>(e) 3 == 1 * 3</li>\n",
        "  <li>(f) (3 == 1) * 3</li>\n",
        "  <li>(g) (3 == 3) * 4 + 3 == 1</li>\n",
        "  <li>(h) 3**5 >= 4**4</li>\n"
      ],
      "metadata": {
        "id": "hsLlAaebtVv2"
      }
    },
    {
      "cell_type": "markdown",
      "source": [
        "<h2>Answer (a)</h2>\n",
        "<h3>Checking equality of two values.</h3>"
      ],
      "metadata": {
        "id": "n-qo_Gcltvjy"
      }
    },
    {
      "cell_type": "code",
      "source": [
        "1 == 1"
      ],
      "metadata": {
        "id": "ppC9mNe60hfC",
        "colab": {
          "base_uri": "https://localhost:8080/"
        },
        "outputId": "1193aae3-34e5-47b2-f2a5-029cd87eb675"
      },
      "execution_count": null,
      "outputs": [
        {
          "output_type": "execute_result",
          "data": {
            "text/plain": [
              "True"
            ]
          },
          "metadata": {},
          "execution_count": 1
        }
      ]
    },
    {
      "cell_type": "markdown",
      "source": [
        "<h2>Answer (b)</h2>\n",
        "<h3>This time equality is between different types. At the left side integer, at the right side Boolean. However usually 1 means True and 0 means false. You can examine second code I wrote for further understanding</h3>"
      ],
      "metadata": {
        "id": "_GG2-zEDuDzJ"
      }
    },
    {
      "cell_type": "code",
      "source": [
        "1 == True"
      ],
      "metadata": {
        "colab": {
          "base_uri": "https://localhost:8080/"
        },
        "id": "tB-GQgBTuAmh",
        "outputId": "133ef91b-ee1f-4da3-a3c8-f259f652c36c"
      },
      "execution_count": null,
      "outputs": [
        {
          "output_type": "execute_result",
          "data": {
            "text/plain": [
              "True"
            ]
          },
          "metadata": {},
          "execution_count": 2
        }
      ]
    },
    {
      "cell_type": "code",
      "source": [
        "2 == True"
      ],
      "metadata": {
        "colab": {
          "base_uri": "https://localhost:8080/"
        },
        "id": "WrYyyZ6uu1zQ",
        "outputId": "25c642d1-73ea-4359-e836-73f1c1cc37b2"
      },
      "execution_count": null,
      "outputs": [
        {
          "output_type": "execute_result",
          "data": {
            "text/plain": [
              "False"
            ]
          },
          "metadata": {},
          "execution_count": 4
        }
      ]
    },
    {
      "cell_type": "markdown",
      "source": [
        "<h2>Answer (c) & Answer (d)</h2>\n",
        "<h3>Like I explained question above, 0 is usally equal to False in programming languages</h3>"
      ],
      "metadata": {
        "id": "3KgdrMpOvJcG"
      }
    },
    {
      "cell_type": "code",
      "source": [
        "0 == True"
      ],
      "metadata": {
        "colab": {
          "base_uri": "https://localhost:8080/"
        },
        "id": "eZlGTvZEwMW4",
        "outputId": "956f223c-6d80-4f6c-edea-d503868282a1"
      },
      "execution_count": null,
      "outputs": [
        {
          "output_type": "execute_result",
          "data": {
            "text/plain": [
              "False"
            ]
          },
          "metadata": {},
          "execution_count": 5
        }
      ]
    },
    {
      "cell_type": "code",
      "source": [
        "0 == False"
      ],
      "metadata": {
        "colab": {
          "base_uri": "https://localhost:8080/"
        },
        "id": "CF8ClByewSTI",
        "outputId": "fc66a8f7-9ca3-4a00-e1c0-0e44ca1cd405"
      },
      "execution_count": null,
      "outputs": [
        {
          "output_type": "execute_result",
          "data": {
            "text/plain": [
              "True"
            ]
          },
          "metadata": {},
          "execution_count": 6
        }
      ]
    },
    {
      "cell_type": "markdown",
      "source": [
        "<h2>Answer (e)</h2>\n",
        "<h3>Checks equality of both sides after certain operations are done</h3>"
      ],
      "metadata": {
        "id": "EaPw6LR3wgJg"
      }
    },
    {
      "cell_type": "code",
      "source": [
        " 3 == 1 * 3"
      ],
      "metadata": {
        "colab": {
          "base_uri": "https://localhost:8080/"
        },
        "id": "os1loIC-wdPA",
        "outputId": "2275ddf1-c7df-469e-b0ea-79b74ef89669"
      },
      "execution_count": null,
      "outputs": [
        {
          "output_type": "execute_result",
          "data": {
            "text/plain": [
              "True"
            ]
          },
          "metadata": {},
          "execution_count": 11
        }
      ]
    },
    {
      "cell_type": "markdown",
      "source": [
        "<h2>Answer (f)</h2>\n",
        "<h3>Checks equality of both sides after certain operations are done. Output is 0 becuase first eqality is false which is 0 in integer type. After that operation becomes 0 * 3 which is 0 eventually</h3>"
      ],
      "metadata": {
        "id": "XN_JDGH_w1C4"
      }
    },
    {
      "cell_type": "code",
      "source": [
        "(3 == 1) * 3"
      ],
      "metadata": {
        "colab": {
          "base_uri": "https://localhost:8080/"
        },
        "id": "TYWOOwsxwxc1",
        "outputId": "74986e8b-e719-4964-c07b-c223225a9d90"
      },
      "execution_count": null,
      "outputs": [
        {
          "output_type": "execute_result",
          "data": {
            "text/plain": [
              "0"
            ]
          },
          "metadata": {},
          "execution_count": 12
        }
      ]
    },
    {
      "cell_type": "markdown",
      "source": [
        "<h2>Answer (g)</h2>\n",
        "<h3>A bit different version of question above.</h3>"
      ],
      "metadata": {
        "id": "CEE5C6R1xQnx"
      }
    },
    {
      "cell_type": "code",
      "source": [
        "(3 == 3) * 4 + 3 == 1"
      ],
      "metadata": {
        "colab": {
          "base_uri": "https://localhost:8080/"
        },
        "id": "FBD8TCf-w6Wn",
        "outputId": "56d74fe9-f00e-4d2c-8cea-1d83ae5e5031"
      },
      "execution_count": null,
      "outputs": [
        {
          "output_type": "execute_result",
          "data": {
            "text/plain": [
              "False"
            ]
          },
          "metadata": {},
          "execution_count": 9
        }
      ]
    },
    {
      "cell_type": "markdown",
      "source": [
        "<h2>Answer (h)</h2>\n",
        "<h3>A bit different version of question above.</h3>"
      ],
      "metadata": {
        "id": "YId_OcryyE9j"
      }
    },
    {
      "cell_type": "code",
      "source": [
        "3**5 >= 4**4"
      ],
      "metadata": {
        "colab": {
          "base_uri": "https://localhost:8080/"
        },
        "id": "uFG92Nynxtlm",
        "outputId": "52f67bb9-b6f9-4d8a-9486-28b1b93b3361"
      },
      "execution_count": null,
      "outputs": [
        {
          "output_type": "execute_result",
          "data": {
            "text/plain": [
              "False"
            ]
          },
          "metadata": {},
          "execution_count": 13
        }
      ]
    },
    {
      "cell_type": "markdown",
      "source": [
        "<h2><strong>Exercise 1.5:</strong> Integers</h2>\n",
        "Explain the output of the following statements:\n",
        "\n",
        "<ul>\n",
        "  <li>(a) 5 / 3</li>\n",
        "  <li>(b) 5 % 3</li>\n",
        "  <li>(c) 5.0 / 3</li>\n",
        "  <li>(d) 5 / 3.0</li>\n",
        "  <li>(e) 5.2 % 3</li>\n",
        "  <li>(f) 2001 ** 200</li>\n"
      ],
      "metadata": {
        "id": "s0DR1mJzyxnv"
      }
    },
    {
      "cell_type": "markdown",
      "source": [
        "<h2>Answer (a)</h2>\n",
        "<h3>5 and 3 are Integers, but output is always float</h3>"
      ],
      "metadata": {
        "id": "gJFQOTHmzCEi"
      }
    },
    {
      "cell_type": "code",
      "source": [
        "5 / 3"
      ],
      "metadata": {
        "colab": {
          "base_uri": "https://localhost:8080/"
        },
        "id": "9y1O5IzYyqf-",
        "outputId": "710bc812-38d2-4677-a571-d197dfe93ff8"
      },
      "execution_count": null,
      "outputs": [
        {
          "output_type": "execute_result",
          "data": {
            "text/plain": [
              "1.6666666666666667"
            ]
          },
          "metadata": {},
          "execution_count": 14
        }
      ]
    },
    {
      "cell_type": "markdown",
      "source": [
        "<h2>Answer (b)</h2>\n",
        "<h3>% operator is module operator for two integers. It returns remainder</h3>"
      ],
      "metadata": {
        "id": "5yXa3ssXzlp_"
      }
    },
    {
      "cell_type": "code",
      "source": [
        "5 % 3"
      ],
      "metadata": {
        "colab": {
          "base_uri": "https://localhost:8080/"
        },
        "id": "gkvS13paziA_",
        "outputId": "e3018810-52a3-4d97-a659-216f13f28cff"
      },
      "execution_count": null,
      "outputs": [
        {
          "output_type": "execute_result",
          "data": {
            "text/plain": [
              "2"
            ]
          },
          "metadata": {},
          "execution_count": 16
        }
      ]
    },
    {
      "cell_type": "markdown",
      "source": [
        "<h2>Answer (c) & Answer (d)</h2>\n",
        "<h3>This time 5.0 is float and 3 is integer, but output does not differ from 5 / 3</h3>\n",
        "<h3>This time 5 is integer and 3.0 is float, but output does not differ from 5 / 3</h3>"
      ],
      "metadata": {
        "id": "QA85SF_Az0Wo"
      }
    },
    {
      "cell_type": "code",
      "source": [
        "5.0 / 3"
      ],
      "metadata": {
        "colab": {
          "base_uri": "https://localhost:8080/"
        },
        "id": "NeDS2NOyzyUk",
        "outputId": "6d0e7808-8ae8-444e-a9cf-fcc07be9cddf"
      },
      "execution_count": null,
      "outputs": [
        {
          "output_type": "execute_result",
          "data": {
            "text/plain": [
              "1.6666666666666667"
            ]
          },
          "metadata": {},
          "execution_count": 17
        }
      ]
    },
    {
      "cell_type": "code",
      "source": [
        "5 / 3.0"
      ],
      "metadata": {
        "colab": {
          "base_uri": "https://localhost:8080/"
        },
        "id": "xdsdd57J0Og3",
        "outputId": "1d01bc45-404c-4866-93c6-ee758598f944"
      },
      "execution_count": null,
      "outputs": [
        {
          "output_type": "execute_result",
          "data": {
            "text/plain": [
              "1.6666666666666667"
            ]
          },
          "metadata": {},
          "execution_count": 18
        }
      ]
    },
    {
      "cell_type": "markdown",
      "source": [
        "<h2>Answer (e)</h2>\n",
        "<h3>Modulo problem with float</h3>"
      ],
      "metadata": {
        "id": "iUEQXtK80mpw"
      }
    },
    {
      "cell_type": "code",
      "source": [
        "5.2 % 3"
      ],
      "metadata": {
        "colab": {
          "base_uri": "https://localhost:8080/"
        },
        "id": "Se5SsFv00gLM",
        "outputId": "65216f61-06de-45dd-dc18-209ad03c7d4b"
      },
      "execution_count": null,
      "outputs": [
        {
          "output_type": "execute_result",
          "data": {
            "text/plain": [
              "2.2"
            ]
          },
          "metadata": {},
          "execution_count": 19
        }
      ]
    },
    {
      "cell_type": "markdown",
      "source": [
        "<h2>Answer (f)</h2>\n",
        "<h3>2001 to the power of 200. It is same as pow function</h3>"
      ],
      "metadata": {
        "id": "rzjB0Chd0zKP"
      }
    },
    {
      "cell_type": "code",
      "source": [
        "2001**200"
      ],
      "metadata": {
        "colab": {
          "base_uri": "https://localhost:8080/"
        },
        "id": "SDB1tChp0wXM",
        "outputId": "e3ab57d7-540e-419e-9bfa-9e90b1338bcb"
      },
      "execution_count": null,
      "outputs": [
        {
          "output_type": "execute_result",
          "data": {
            "text/plain": [
              "1775896810483121914350934797871501063452843428843794422323202530887281536545210629921129898113201749875234297340507804201761453596034016264189501186924066128377025843892373608427790859511135990682732202975330824797118808624727351608183194154557208730494440110429635650057431833674286462463508755276302896154336475782768613964332764108132533925570342220340698973761380541294970139762186212823359128790706292900765512137078550033912252338262922477518858757114840012576514724742388124595061301502222934806074032688691170880996881967426442947828261057852871032366879179996122216385870273020506079240103910728766397733398071775041745854959302025036249707279600400001"
            ]
          },
          "metadata": {},
          "execution_count": 20
        }
      ]
    },
    {
      "cell_type": "markdown",
      "source": [
        "<h2><strong>Exercise 1.6:</strong> Floats</h2>\n",
        "Explain the output of the following statements:\n",
        "\n",
        "<ul>\n",
        "  <li>(a) 2000.3 ** 200 (compare with above)</li>\n",
        "  <li>(b) 1.0 + 1.0 - 1.0</li>\n",
        "  <li>(c) 1.0 + 1.0e20 - 1.0e20</li>\n",
        "</ul>\n"
      ],
      "metadata": {
        "id": "0TJI8cdK150_"
      }
    },
    {
      "cell_type": "markdown",
      "source": [
        "<h2>Answer (a)</h2>\n",
        "<h3>2000.3 to the power of 200.</h3>\n",
        "<h3>According to the link below, maximum value of float can be 3.402823466 E + 38. However, our output is bigger than that number</h3>"
      ],
      "metadata": {
        "id": "vCxjI7DL2HZv"
      }
    },
    {
      "cell_type": "markdown",
      "source": [
        "[Link](https://docs.microsoft.com/en-us/cpp/c-language/type-float?view=msvc-170) "
      ],
      "metadata": {
        "id": "C0LJvJ0KIMaT"
      }
    },
    {
      "cell_type": "code",
      "source": [
        "(200.3)**100"
      ],
      "metadata": {
        "colab": {
          "base_uri": "https://localhost:8080/"
        },
        "id": "YQzm926jBoMf",
        "outputId": "83a5e6fe-cda8-4290-bf34-ff611ea4ada5"
      },
      "execution_count": null,
      "outputs": [
        {
          "output_type": "execute_result",
          "data": {
            "text/plain": [
              "1.4726343599791828e+230"
            ]
          },
          "metadata": {},
          "execution_count": 34
        }
      ]
    },
    {
      "cell_type": "code",
      "source": [
        "(200.3)**200"
      ],
      "metadata": {
        "colab": {
          "base_uri": "https://localhost:8080/",
          "height": 165
        },
        "id": "zpkIAfjQ1Smu",
        "outputId": "312135e0-ef49-4eb9-8a06-b53d9c79ce88"
      },
      "execution_count": null,
      "outputs": [
        {
          "output_type": "error",
          "ename": "OverflowError",
          "evalue": "ignored",
          "traceback": [
            "\u001b[0;31m---------------------------------------------------------------------------\u001b[0m",
            "\u001b[0;31mOverflowError\u001b[0m                             Traceback (most recent call last)",
            "\u001b[0;32m<ipython-input-35-a27fa6fb2a6d>\u001b[0m in \u001b[0;36m<module>\u001b[0;34m()\u001b[0m\n\u001b[0;32m----> 1\u001b[0;31m \u001b[0;34m(\u001b[0m\u001b[0;36m200.3\u001b[0m\u001b[0;34m)\u001b[0m\u001b[0;34m**\u001b[0m\u001b[0;36m200\u001b[0m\u001b[0;34m\u001b[0m\u001b[0;34m\u001b[0m\u001b[0m\n\u001b[0m",
            "\u001b[0;31mOverflowError\u001b[0m: (34, 'Numerical result out of range')"
          ]
        }
      ]
    },
    {
      "cell_type": "markdown",
      "source": [
        "<h2>Answer (b)</h2>\n",
        "<h3>Classic addition with float</h3>"
      ],
      "metadata": {
        "id": "5SZVRzwIAeyY"
      }
    },
    {
      "cell_type": "code",
      "source": [
        "1.0 + 1.0 - 1.0"
      ],
      "metadata": {
        "colab": {
          "base_uri": "https://localhost:8080/"
        },
        "id": "rftpA_aK2z1X",
        "outputId": "e52cce50-81ce-453e-d07d-a8bf887661ff"
      },
      "execution_count": null,
      "outputs": [
        {
          "output_type": "execute_result",
          "data": {
            "text/plain": [
              "1.0"
            ]
          },
          "metadata": {},
          "execution_count": 27
        }
      ]
    },
    {
      "cell_type": "markdown",
      "source": [
        "<h2>Answer (c)</h2>\n",
        "<h3>Classic addition with float</h3>"
      ],
      "metadata": {
        "id": "jlIUrK2cAoL9"
      }
    },
    {
      "cell_type": "code",
      "source": [
        "1.0 + 1.0e20 - 1.0e20"
      ],
      "metadata": {
        "colab": {
          "base_uri": "https://localhost:8080/"
        },
        "id": "Vg-Vt3PAAlu0",
        "outputId": "81d215e9-557f-4e30-ae1b-7bd56162fef2"
      },
      "execution_count": null,
      "outputs": [
        {
          "output_type": "execute_result",
          "data": {
            "text/plain": [
              "0.0"
            ]
          },
          "metadata": {},
          "execution_count": 31
        }
      ]
    },
    {
      "cell_type": "markdown",
      "source": [
        "<h2><strong>Exercise 1.7:</strong> Variables</h2>\n",
        "<h3>Write a script where the variable name holds a string with your name. Then, assuming for now your name is John Doe, have the script output: Hello, John Doe! (and obviously, do not use print \"Hello, John Doe!\". </h3>\n"
      ],
      "metadata": {
        "id": "oDpT5G02I7Oc"
      }
    },
    {
      "cell_type": "code",
      "source": [
        "name = \"Ramazan Burak Korkmaz\""
      ],
      "metadata": {
        "id": "2lrM4HcjAwz9"
      },
      "execution_count": null,
      "outputs": []
    },
    {
      "cell_type": "code",
      "source": [
        "print(f\"Hello, {name}\")"
      ],
      "metadata": {
        "colab": {
          "base_uri": "https://localhost:8080/"
        },
        "id": "1yjI7sUNJQSR",
        "outputId": "7a05b542-527a-47d4-b0f3-3d1641c06a97"
      },
      "execution_count": null,
      "outputs": [
        {
          "output_type": "stream",
          "name": "stdout",
          "text": [
            "Hello, Ramazan Burak Korkmaz\n"
          ]
        }
      ]
    },
    {
      "cell_type": "markdown",
      "source": [
        "<h2><strong>Exercise 1.8:</strong> Type casting</h2>\n",
        "Very often, one wants to \\cast\" variables of a certain type into another type. Suppose we have variable x = '123', but really we would like x to be an integer.\n",
        "This is easy to do in Python, just use desiredtype(x), e.g. int(x) to obtain an integer.\n",
        "\n",
        "Try the following and explain the output\n",
        "\n",
        "<ul>\n",
        "  <li>(a) float(123)</li>\n",
        "  <li>(b) float('123')</li>\n",
        "  <li>(c) float('123.23')</li>\n",
        "  <li>(d) int(123.23)</li>\n",
        "  <li>(e) int('123.23')</li>\n",
        "  <li>(f) int(float('123.23'))</li>\n",
        "  <li>(g) str(12)</li>\n",
        "  <li>(h) str(12.2)</li>\n",
        "  <li>(i) bool('a')</li>\n",
        "  <li>(j) bool(0)</li>\n",
        "  <li>(k) bool(0.1)</li>\n",
        "</ul>\n"
      ],
      "metadata": {
        "id": "CLYUFuF_JaZ7"
      }
    },
    {
      "cell_type": "markdown",
      "source": [
        "<h2>Answer (a)</h2>"
      ],
      "metadata": {
        "id": "zp_fGP-WKNg-"
      }
    },
    {
      "cell_type": "code",
      "source": [
        "float(123)"
      ],
      "metadata": {
        "colab": {
          "base_uri": "https://localhost:8080/"
        },
        "id": "9DbYyI_pJWHJ",
        "outputId": "a67504cb-e0a3-4c99-aa5f-d54579ee0017"
      },
      "execution_count": null,
      "outputs": [
        {
          "output_type": "execute_result",
          "data": {
            "text/plain": [
              "123.0"
            ]
          },
          "metadata": {},
          "execution_count": 48
        }
      ]
    },
    {
      "cell_type": "markdown",
      "source": [
        "<h2>Answer (b)</h2>"
      ],
      "metadata": {
        "id": "U2FSE3JAKTju"
      }
    },
    {
      "cell_type": "code",
      "source": [
        " float('123')"
      ],
      "metadata": {
        "colab": {
          "base_uri": "https://localhost:8080/"
        },
        "id": "DxlL54NeKRuY",
        "outputId": "0fa29f6e-508d-4502-e39f-e62c4ac66f6b"
      },
      "execution_count": null,
      "outputs": [
        {
          "output_type": "execute_result",
          "data": {
            "text/plain": [
              "123.0"
            ]
          },
          "metadata": {},
          "execution_count": 49
        }
      ]
    },
    {
      "cell_type": "markdown",
      "source": [
        "<h2>Answer (c)</h2>"
      ],
      "metadata": {
        "id": "bye8WlqkKX6L"
      }
    },
    {
      "cell_type": "code",
      "source": [
        "float('123.23')"
      ],
      "metadata": {
        "colab": {
          "base_uri": "https://localhost:8080/"
        },
        "id": "kzC068gBKVSA",
        "outputId": "1271f553-b8b8-4a62-e505-f084a5f06d0f"
      },
      "execution_count": null,
      "outputs": [
        {
          "output_type": "execute_result",
          "data": {
            "text/plain": [
              "123.23"
            ]
          },
          "metadata": {},
          "execution_count": 50
        }
      ]
    },
    {
      "cell_type": "markdown",
      "source": [
        "<h2>Answer (d)</h2>"
      ],
      "metadata": {
        "id": "mfKeVTmaKnQN"
      }
    },
    {
      "cell_type": "code",
      "source": [
        " int(123.23)"
      ],
      "metadata": {
        "colab": {
          "base_uri": "https://localhost:8080/"
        },
        "id": "7cRGCDq3KZSC",
        "outputId": "1d6b5649-4a0f-444b-e400-b720b89ea6b1"
      },
      "execution_count": null,
      "outputs": [
        {
          "output_type": "execute_result",
          "data": {
            "text/plain": [
              "123"
            ]
          },
          "metadata": {},
          "execution_count": 51
        }
      ]
    },
    {
      "cell_type": "markdown",
      "source": [
        "<h2>Answer (e)</h2>\n",
        "<h3>123.23 is a float number, but we are trying to convert string version of 123.23 to integer. That's simply wrong. What we have to do is first convert to float then int</h3>"
      ],
      "metadata": {
        "id": "Kb-PMNe-Knla"
      }
    },
    {
      "cell_type": "code",
      "source": [
        "int('123.23')"
      ],
      "metadata": {
        "colab": {
          "base_uri": "https://localhost:8080/",
          "height": 165
        },
        "id": "DWC4cqT9LNUX",
        "outputId": "be4bca6a-0a2a-484c-d1dc-40545621920e"
      },
      "execution_count": null,
      "outputs": [
        {
          "output_type": "error",
          "ename": "ValueError",
          "evalue": "ignored",
          "traceback": [
            "\u001b[0;31m---------------------------------------------------------------------------\u001b[0m",
            "\u001b[0;31mValueError\u001b[0m                                Traceback (most recent call last)",
            "\u001b[0;32m<ipython-input-52-a052266f23da>\u001b[0m in \u001b[0;36m<module>\u001b[0;34m()\u001b[0m\n\u001b[0;32m----> 1\u001b[0;31m \u001b[0mint\u001b[0m\u001b[0;34m(\u001b[0m\u001b[0;34m'123.23'\u001b[0m\u001b[0;34m)\u001b[0m\u001b[0;34m\u001b[0m\u001b[0;34m\u001b[0m\u001b[0m\n\u001b[0m",
            "\u001b[0;31mValueError\u001b[0m: invalid literal for int() with base 10: '123.23'"
          ]
        }
      ]
    },
    {
      "cell_type": "code",
      "source": [
        "int(float('123.23'))"
      ],
      "metadata": {
        "colab": {
          "base_uri": "https://localhost:8080/"
        },
        "id": "5rReMDxEEfnK",
        "outputId": "ec103e96-3700-4758-961f-2c2060cc87da"
      },
      "execution_count": null,
      "outputs": [
        {
          "output_type": "execute_result",
          "data": {
            "text/plain": [
              "123"
            ]
          },
          "metadata": {},
          "execution_count": 1
        }
      ]
    },
    {
      "cell_type": "markdown",
      "source": [
        "<h2>Answer (f)</h2>"
      ],
      "metadata": {
        "id": "CAg3tNMgKn94"
      }
    },
    {
      "cell_type": "code",
      "source": [
        "int(float('123.23'))"
      ],
      "metadata": {
        "id": "oLtKIX30KalH"
      },
      "execution_count": null,
      "outputs": []
    },
    {
      "cell_type": "markdown",
      "source": [
        "<h2>Answer (g)</h2>"
      ],
      "metadata": {
        "id": "-ywq6-BPKsSu"
      }
    },
    {
      "cell_type": "code",
      "source": [
        "str(12)"
      ],
      "metadata": {
        "colab": {
          "base_uri": "https://localhost:8080/",
          "height": 35
        },
        "id": "BTtYLiCeKcob",
        "outputId": "1b7d3b4b-ff87-47e9-def7-f08550d4ae92"
      },
      "execution_count": null,
      "outputs": [
        {
          "output_type": "execute_result",
          "data": {
            "application/vnd.google.colaboratory.intrinsic+json": {
              "type": "string"
            },
            "text/plain": [
              "'12'"
            ]
          },
          "metadata": {},
          "execution_count": 53
        }
      ]
    },
    {
      "cell_type": "markdown",
      "source": [
        "<h2>Answer (h)</h2>"
      ],
      "metadata": {
        "id": "qvEb3_YhKuiC"
      }
    },
    {
      "cell_type": "code",
      "source": [
        "str(12.2)"
      ],
      "metadata": {
        "colab": {
          "base_uri": "https://localhost:8080/",
          "height": 35
        },
        "id": "D0o__V12Kd43",
        "outputId": "3788d6c7-84a0-47bd-a4cd-ea43cf780370"
      },
      "execution_count": null,
      "outputs": [
        {
          "output_type": "execute_result",
          "data": {
            "application/vnd.google.colaboratory.intrinsic+json": {
              "type": "string"
            },
            "text/plain": [
              "'12.2'"
            ]
          },
          "metadata": {},
          "execution_count": 54
        }
      ]
    },
    {
      "cell_type": "markdown",
      "source": [
        "<h2>Answer (i)</h2>"
      ],
      "metadata": {
        "id": "pECsffsNKt6b"
      }
    },
    {
      "cell_type": "code",
      "source": [
        "bool('a')"
      ],
      "metadata": {
        "colab": {
          "base_uri": "https://localhost:8080/"
        },
        "id": "EG88kGS4KfbH",
        "outputId": "6b38ba0e-d32b-462e-c4d0-4e196d651868"
      },
      "execution_count": null,
      "outputs": [
        {
          "output_type": "execute_result",
          "data": {
            "text/plain": [
              "True"
            ]
          },
          "metadata": {},
          "execution_count": 55
        }
      ]
    },
    {
      "cell_type": "markdown",
      "source": [
        "<h2>Answer (j)</h2>"
      ],
      "metadata": {
        "id": "uonsMBH8KvNV"
      }
    },
    {
      "cell_type": "code",
      "source": [
        "bool(0)"
      ],
      "metadata": {
        "colab": {
          "base_uri": "https://localhost:8080/"
        },
        "id": "Ma_SnBiDKgyH",
        "outputId": "6b69224c-a548-4f3b-88d4-9b507693ac3e"
      },
      "execution_count": null,
      "outputs": [
        {
          "output_type": "execute_result",
          "data": {
            "text/plain": [
              "False"
            ]
          },
          "metadata": {},
          "execution_count": 56
        }
      ]
    },
    {
      "cell_type": "markdown",
      "source": [
        "<h2>Answer (k)</h2>"
      ],
      "metadata": {
        "id": "LpEtpxVbLYh-"
      }
    },
    {
      "cell_type": "code",
      "source": [
        "bool(0.1)"
      ],
      "metadata": {
        "colab": {
          "base_uri": "https://localhost:8080/"
        },
        "id": "gq8NRQGcKin8",
        "outputId": "32d7c031-df8e-4089-9ab8-9fc627fae9b3"
      },
      "execution_count": null,
      "outputs": [
        {
          "output_type": "execute_result",
          "data": {
            "text/plain": [
              "True"
            ]
          },
          "metadata": {},
          "execution_count": 57
        }
      ]
    },
    {
      "cell_type": "markdown",
      "source": [
        "<h1><strong>2) Control Flow</strong></h1>"
      ],
      "metadata": {
        "id": "hJHMawQXL-ZF"
      }
    },
    {
      "cell_type": "markdown",
      "source": [
        "<h2><strong>Exercise 2.1:</strong> Range</h2>\n",
        "\n",
        "Type range(5) in the interpreter, what does the interpreter return? So what does for i in range(5) mean?\n",
        "\n",
        "Let's also find out whether the interpreter can help us understand the object `range(5)' better. Type type(range(5)) in the interpreter. More on this soon!\n"
      ],
      "metadata": {
        "id": "xhFBHmx8MKIk"
      }
    },
    {
      "cell_type": "code",
      "source": [
        "range(5)"
      ],
      "metadata": {
        "colab": {
          "base_uri": "https://localhost:8080/"
        },
        "id": "-bRnGCRHMgCf",
        "outputId": "8b925bff-eb49-4552-f36d-ab55c5f60e64"
      },
      "execution_count": null,
      "outputs": [
        {
          "output_type": "execute_result",
          "data": {
            "text/plain": [
              "range(0, 5)"
            ]
          },
          "metadata": {},
          "execution_count": 58
        }
      ]
    },
    {
      "cell_type": "markdown",
      "source": [
        "<h3>When we use range method, it creates a range type object. According to the link below range type is immutable sequence of number</h3>"
      ],
      "metadata": {
        "id": "EQGNbNZpM4NJ"
      }
    },
    {
      "cell_type": "markdown",
      "source": [
        "[Link](https://docs.python.org/3/library/stdtypes.html#typesseq-range)"
      ],
      "metadata": {
        "id": "ELtsUBErNi5j"
      }
    },
    {
      "cell_type": "code",
      "source": [
        "for i in range(5):\n",
        "  print(i)"
      ],
      "metadata": {
        "colab": {
          "base_uri": "https://localhost:8080/"
        },
        "id": "AGXAZSgaMvzb",
        "outputId": "e0bb38a5-f9e6-42b1-e2dc-89b1c61d958b"
      },
      "execution_count": null,
      "outputs": [
        {
          "output_type": "stream",
          "name": "stdout",
          "text": [
            "0\n",
            "1\n",
            "2\n",
            "3\n",
            "4\n"
          ]
        }
      ]
    },
    {
      "cell_type": "code",
      "source": [
        "type(range(5))"
      ],
      "metadata": {
        "colab": {
          "base_uri": "https://localhost:8080/"
        },
        "id": "Rr_wEWNiM2m3",
        "outputId": "dbaab431-16c5-4f65-c75f-cf6ba39c92cb"
      },
      "execution_count": null,
      "outputs": [
        {
          "output_type": "execute_result",
          "data": {
            "text/plain": [
              "range"
            ]
          },
          "metadata": {},
          "execution_count": 60
        }
      ]
    },
    {
      "cell_type": "markdown",
      "source": [
        "<h2><strong>Exercise 2.2:</strong> For loops</h2>\n",
        "\n",
        "Use a for loop to:\n",
        "\n",
        "<ul>\n",
        "  <li>(a) Print the numbers 0 to 100</li>\n",
        "  <li>(b) Print the numbers 0 to 100 that are divisible by 7</li>\n",
        "  <li>(c) Print the numbers 1 to 100 that are divisible by 5 but not by 3</li>\n",
        "  <li>(d) Print for each of the numbers x = 2; : : : 20, all numbers that divide x, excluding 1 and x. Hence, for 18, it should print 2 3 6 9.</li>\n",
        "</ul>\n"
      ],
      "metadata": {
        "id": "HKmOfv0RN7Ay"
      }
    },
    {
      "cell_type": "markdown",
      "source": [
        "<h2>Answer (a)</h2>"
      ],
      "metadata": {
        "id": "3nwDoyusORzw"
      }
    },
    {
      "cell_type": "code",
      "source": [
        "for number in range(0, 100):\n",
        "  print(number)"
      ],
      "metadata": {
        "colab": {
          "base_uri": "https://localhost:8080/"
        },
        "id": "GhhlplW1OOZn",
        "outputId": "cb141bfb-9aa4-4689-c677-c350c09de061"
      },
      "execution_count": null,
      "outputs": [
        {
          "output_type": "stream",
          "name": "stdout",
          "text": [
            "0\n",
            "1\n",
            "2\n",
            "3\n",
            "4\n",
            "5\n",
            "6\n",
            "7\n",
            "8\n",
            "9\n",
            "10\n",
            "11\n",
            "12\n",
            "13\n",
            "14\n",
            "15\n",
            "16\n",
            "17\n",
            "18\n",
            "19\n",
            "20\n",
            "21\n",
            "22\n",
            "23\n",
            "24\n",
            "25\n",
            "26\n",
            "27\n",
            "28\n",
            "29\n",
            "30\n",
            "31\n",
            "32\n",
            "33\n",
            "34\n",
            "35\n",
            "36\n",
            "37\n",
            "38\n",
            "39\n",
            "40\n",
            "41\n",
            "42\n",
            "43\n",
            "44\n",
            "45\n",
            "46\n",
            "47\n",
            "48\n",
            "49\n",
            "50\n",
            "51\n",
            "52\n",
            "53\n",
            "54\n",
            "55\n",
            "56\n",
            "57\n",
            "58\n",
            "59\n",
            "60\n",
            "61\n",
            "62\n",
            "63\n",
            "64\n",
            "65\n",
            "66\n",
            "67\n",
            "68\n",
            "69\n",
            "70\n",
            "71\n",
            "72\n",
            "73\n",
            "74\n",
            "75\n",
            "76\n",
            "77\n",
            "78\n",
            "79\n",
            "80\n",
            "81\n",
            "82\n",
            "83\n",
            "84\n",
            "85\n",
            "86\n",
            "87\n",
            "88\n",
            "89\n",
            "90\n",
            "91\n",
            "92\n",
            "93\n",
            "94\n",
            "95\n",
            "96\n",
            "97\n",
            "98\n",
            "99\n"
          ]
        }
      ]
    },
    {
      "cell_type": "markdown",
      "source": [
        "<h2>Answer (b)</h2>"
      ],
      "metadata": {
        "id": "vBZgAsS1Obs4"
      }
    },
    {
      "cell_type": "code",
      "source": [
        "for number in range(0, 100, 7):\n",
        "  print(number)"
      ],
      "metadata": {
        "colab": {
          "base_uri": "https://localhost:8080/"
        },
        "id": "A8ttvVMvOXPm",
        "outputId": "f7f5ffb8-6c43-4711-f057-2cb7c751cf9c"
      },
      "execution_count": null,
      "outputs": [
        {
          "output_type": "stream",
          "name": "stdout",
          "text": [
            "0\n",
            "7\n",
            "14\n",
            "21\n",
            "28\n",
            "35\n",
            "42\n",
            "49\n",
            "56\n",
            "63\n",
            "70\n",
            "77\n",
            "84\n",
            "91\n",
            "98\n"
          ]
        }
      ]
    },
    {
      "cell_type": "markdown",
      "source": [
        "<h2>Answer (c)</h2>"
      ],
      "metadata": {
        "id": "kL_CN9acOnpi"
      }
    },
    {
      "cell_type": "code",
      "source": [
        "for number in range(0, 100, 5):\n",
        "  if number % 3 != 0:\n",
        "    print(number)"
      ],
      "metadata": {
        "colab": {
          "base_uri": "https://localhost:8080/"
        },
        "id": "tYRYmm01OjqA",
        "outputId": "ae416223-d058-43d8-ee38-f1dfdc3aab9b"
      },
      "execution_count": null,
      "outputs": [
        {
          "output_type": "stream",
          "name": "stdout",
          "text": [
            "5\n",
            "10\n",
            "20\n",
            "25\n",
            "35\n",
            "40\n",
            "50\n",
            "55\n",
            "65\n",
            "70\n",
            "80\n",
            "85\n",
            "95\n"
          ]
        }
      ]
    },
    {
      "cell_type": "markdown",
      "source": [
        "<h2>Answer (d)</h2>"
      ],
      "metadata": {
        "id": "jUYtMKeRPqnL"
      }
    },
    {
      "cell_type": "code",
      "source": [
        "for xNumbers in range(2, 21):\n",
        "  print(f\"{xNumbers} ==== > \", end=\"\")\n",
        "  for yNumbers in range(2, xNumbers):\n",
        "    if xNumbers % yNumbers == 0:\n",
        "      print(f\"{yNumbers}  \", end = \"\")\n",
        "  print(\"\")"
      ],
      "metadata": {
        "colab": {
          "base_uri": "https://localhost:8080/"
        },
        "id": "cKlZdyhrOv-G",
        "outputId": "ebb07d54-be2c-42a9-e08b-715b2e2bea94"
      },
      "execution_count": null,
      "outputs": [
        {
          "output_type": "stream",
          "name": "stdout",
          "text": [
            "2 ==== > \n",
            "3 ==== > \n",
            "4 ==== > 2  \n",
            "5 ==== > \n",
            "6 ==== > 2  3  \n",
            "7 ==== > \n",
            "8 ==== > 2  4  \n",
            "9 ==== > 3  \n",
            "10 ==== > 2  5  \n",
            "11 ==== > \n",
            "12 ==== > 2  3  4  6  \n",
            "13 ==== > \n",
            "14 ==== > 2  7  \n",
            "15 ==== > 3  5  \n",
            "16 ==== > 2  4  8  \n",
            "17 ==== > \n",
            "18 ==== > 2  3  6  9  \n",
            "19 ==== > \n",
            "20 ==== > 2  4  5  10  \n"
          ]
        }
      ]
    },
    {
      "cell_type": "markdown",
      "source": [
        "<h2><strong>Exercise 2.3:</strong> Simple while loops</h2>\n",
        "\n",
        "Instead of using a for loop, use a while loop to:\n",
        "\n",
        "<ul>\n",
        "  <li>(a) Print the numbers 0 to 100</li>\n",
        "  <li>(b) Print the numbers 0 to 100 that are divisible by 7</li>\n",
        "</ul>\n"
      ],
      "metadata": {
        "id": "6kPNlsRR-Htp"
      }
    },
    {
      "cell_type": "markdown",
      "source": [
        "<h2>Answer (a)</h2>"
      ],
      "metadata": {
        "id": "oDJREN1R-Vtk"
      }
    },
    {
      "cell_type": "code",
      "source": [
        "count = 0\n",
        "\n",
        "while count < 101:\n",
        "  print(count)\n",
        "  count = count + 1"
      ],
      "metadata": {
        "colab": {
          "base_uri": "https://localhost:8080/"
        },
        "id": "MLhv34hY9jtn",
        "outputId": "acfcf27f-3e0c-4935-9bb9-030b96f9fa16"
      },
      "execution_count": null,
      "outputs": [
        {
          "output_type": "stream",
          "name": "stdout",
          "text": [
            "0\n",
            "1\n",
            "2\n",
            "3\n",
            "4\n",
            "5\n",
            "6\n",
            "7\n",
            "8\n",
            "9\n",
            "10\n",
            "11\n",
            "12\n",
            "13\n",
            "14\n",
            "15\n",
            "16\n",
            "17\n",
            "18\n",
            "19\n",
            "20\n",
            "21\n",
            "22\n",
            "23\n",
            "24\n",
            "25\n",
            "26\n",
            "27\n",
            "28\n",
            "29\n",
            "30\n",
            "31\n",
            "32\n",
            "33\n",
            "34\n",
            "35\n",
            "36\n",
            "37\n",
            "38\n",
            "39\n",
            "40\n",
            "41\n",
            "42\n",
            "43\n",
            "44\n",
            "45\n",
            "46\n",
            "47\n",
            "48\n",
            "49\n",
            "50\n",
            "51\n",
            "52\n",
            "53\n",
            "54\n",
            "55\n",
            "56\n",
            "57\n",
            "58\n",
            "59\n",
            "60\n",
            "61\n",
            "62\n",
            "63\n",
            "64\n",
            "65\n",
            "66\n",
            "67\n",
            "68\n",
            "69\n",
            "70\n",
            "71\n",
            "72\n",
            "73\n",
            "74\n",
            "75\n",
            "76\n",
            "77\n",
            "78\n",
            "79\n",
            "80\n",
            "81\n",
            "82\n",
            "83\n",
            "84\n",
            "85\n",
            "86\n",
            "87\n",
            "88\n",
            "89\n",
            "90\n",
            "91\n",
            "92\n",
            "93\n",
            "94\n",
            "95\n",
            "96\n",
            "97\n",
            "98\n",
            "99\n",
            "100\n"
          ]
        }
      ]
    },
    {
      "cell_type": "code",
      "source": [
        "count = 0\n",
        "\n",
        "while count < 101:\n",
        "  print(count)\n",
        "  count = count + 7"
      ],
      "metadata": {
        "colab": {
          "base_uri": "https://localhost:8080/"
        },
        "id": "Srl54Z19-j7v",
        "outputId": "1d80fe4d-0b38-47da-dea6-97e7eec90c8f"
      },
      "execution_count": null,
      "outputs": [
        {
          "output_type": "stream",
          "name": "stdout",
          "text": [
            "0\n",
            "7\n",
            "14\n",
            "21\n",
            "28\n",
            "35\n",
            "42\n",
            "49\n",
            "56\n",
            "63\n",
            "70\n",
            "77\n",
            "84\n",
            "91\n",
            "98\n"
          ]
        }
      ]
    },
    {
      "cell_type": "markdown",
      "source": [
        "<h2><strong>Exercise 2.5:</strong> While loops</h2>\n",
        "\n",
        "Use a while loop to find the first 20 numbers that are divisible by 5, 7 and 11, and print them Hint:\n",
        "store the number found so far in a variable."
      ],
      "metadata": {
        "id": "TWAo8hjW-yaV"
      }
    },
    {
      "cell_type": "code",
      "source": [
        "number_of_founds = 0\n",
        "number = 0\n",
        "while number_of_founds < 21:\n",
        "  if number % (5 * 7 * 11) == 0:\n",
        "    number_of_founds = number_of_founds + 1\n",
        "    print(number)\n",
        "  number = number + 1\n",
        "  \n",
        "\n"
      ],
      "metadata": {
        "colab": {
          "base_uri": "https://localhost:8080/"
        },
        "id": "l_wrsUMy-sYY",
        "outputId": "d47f7f6d-97c0-45da-f116-568bf6bfefda"
      },
      "execution_count": null,
      "outputs": [
        {
          "output_type": "stream",
          "name": "stdout",
          "text": [
            "0\n",
            "385\n",
            "770\n",
            "1155\n",
            "1540\n",
            "1925\n",
            "2310\n",
            "2695\n",
            "3080\n",
            "3465\n",
            "3850\n",
            "4235\n",
            "4620\n",
            "5005\n",
            "5390\n",
            "5775\n",
            "6160\n",
            "6545\n",
            "6930\n",
            "7315\n",
            "7700\n"
          ]
        }
      ]
    },
    {
      "cell_type": "markdown",
      "source": [
        "<h1><strong>Another way to solve it</strong></h2>"
      ],
      "metadata": {
        "id": "r8hiGnrPCl6O"
      }
    },
    {
      "cell_type": "code",
      "source": [
        "number_of_founds = 0\n",
        "number = 0\n",
        "while number_of_founds < 21:\n",
        "  print(number)\n",
        "  number = number + 5 * 7 * 11\n",
        "  number_of_founds = number_of_founds + 1\n",
        "  \n",
        "\n"
      ],
      "metadata": {
        "colab": {
          "base_uri": "https://localhost:8080/"
        },
        "id": "1bxkkMgRCKsl",
        "outputId": "03586e88-b5c5-462a-a097-bebcca06af97"
      },
      "execution_count": null,
      "outputs": [
        {
          "output_type": "stream",
          "name": "stdout",
          "text": [
            "0\n",
            "385\n",
            "770\n",
            "1155\n",
            "1540\n",
            "1925\n",
            "2310\n",
            "2695\n",
            "3080\n",
            "3465\n",
            "3850\n",
            "4235\n",
            "4620\n",
            "5005\n",
            "5390\n",
            "5775\n",
            "6160\n",
            "6545\n",
            "6930\n",
            "7315\n",
            "7700\n"
          ]
        }
      ]
    },
    {
      "cell_type": "markdown",
      "source": [
        "<h2><strong>Exercise 2.6:</strong> More while loops</h2>\n",
        "\n",
        "The smallest number that is divisible by 2, 3 and 4 is 12. Find the smallest number that is divisible by\n",
        "all integers between 1 and 10."
      ],
      "metadata": {
        "id": "PkfBwIxtCqXO"
      }
    },
    {
      "cell_type": "code",
      "source": [
        "# Smallest number is initially 1\n",
        "smallest_number = 1\n",
        "\n",
        "# A boolean variable to control when to multiplicate\n",
        "mul_bool = True\n",
        "\n",
        "# First for loop to loop in numbers from 1 to 10\n",
        "for number in range(1, 11):\n",
        "  # Second for loop to loop in numbers from 2 to current number.\n",
        "  # This loop checks if current number is divisible by previous ones\n",
        "  for i in range(2, number):\n",
        "    if number % i == 0:\n",
        "      mul_bool = False\n",
        "      break\n",
        "  if mul_bool:\n",
        "    smallest_number = smallest_number * number\n",
        "  mul_bool = True\n",
        "\n",
        "print(smallest_number)"
      ],
      "metadata": {
        "colab": {
          "base_uri": "https://localhost:8080/"
        },
        "id": "-KIZ5he-CfTe",
        "outputId": "4ede88a7-e823-45b2-a64f-a987d21d6df9"
      },
      "execution_count": null,
      "outputs": [
        {
          "output_type": "stream",
          "name": "stdout",
          "text": [
            "210\n"
          ]
        }
      ]
    },
    {
      "cell_type": "markdown",
      "source": [
        "<h2><strong>Exercise 2.7:</strong> Collatz sequence</h2>\n",
        "\n",
        "A Collatz sequence is formed as follows: We start with some number x0, and we find the next number in the sequence by\n",
        "\n",
        "\n",
        "![image.png](data:image/png;base64,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)\n",
        "\n",
        "\n",
        "If xi = 1, we stop iterating and have found the full sequence.\n",
        "\n",
        "For example, if we start with x0 = 5, we obtain the sequence:\n",
        "      5 16 8 4 2 1\n",
        "It is conjectured, though not proven, that every chain eventually ends at 1.\n",
        "\n",
        "Print the Collatz sequence starting at x0 = 103.\n",
        "\n"
      ],
      "metadata": {
        "id": "NrpvLWY0ZBuo"
      }
    },
    {
      "cell_type": "code",
      "source": [
        "def checkEven(number):\n",
        "  if number % 2 == 0:\n",
        "    return True\n",
        "  else:\n",
        "    return False\n",
        "\n",
        "x_0 = 103\n",
        "chain = [x_0]\n",
        "\n",
        "while chain[-1] != 1:\n",
        "  if checkEven(chain[-1]):\n",
        "    chain.append(chain[-1] / 2)\n",
        "  else:\n",
        "    chain.append(3 * chain[-1] + 1)\n",
        "\n",
        "print(chain)"
      ],
      "metadata": {
        "colab": {
          "base_uri": "https://localhost:8080/"
        },
        "id": "Ik0ojkuREUYa",
        "outputId": "47dc42c1-2fcf-48db-c337-69b9e7762c13"
      },
      "execution_count": null,
      "outputs": [
        {
          "output_type": "stream",
          "name": "stdout",
          "text": [
            "[103, 310, 155.0, 466.0, 233.0, 700.0, 350.0, 175.0, 526.0, 263.0, 790.0, 395.0, 1186.0, 593.0, 1780.0, 890.0, 445.0, 1336.0, 668.0, 334.0, 167.0, 502.0, 251.0, 754.0, 377.0, 1132.0, 566.0, 283.0, 850.0, 425.0, 1276.0, 638.0, 319.0, 958.0, 479.0, 1438.0, 719.0, 2158.0, 1079.0, 3238.0, 1619.0, 4858.0, 2429.0, 7288.0, 3644.0, 1822.0, 911.0, 2734.0, 1367.0, 4102.0, 2051.0, 6154.0, 3077.0, 9232.0, 4616.0, 2308.0, 1154.0, 577.0, 1732.0, 866.0, 433.0, 1300.0, 650.0, 325.0, 976.0, 488.0, 244.0, 122.0, 61.0, 184.0, 92.0, 46.0, 23.0, 70.0, 35.0, 106.0, 53.0, 160.0, 80.0, 40.0, 20.0, 10.0, 5.0, 16.0, 8.0, 4.0, 2.0, 1.0]\n"
          ]
        }
      ]
    },
    {
      "cell_type": "markdown",
      "source": [
        "<h1><strong>3) Functions</strong></h1>"
      ],
      "metadata": {
        "id": "NXeq14zccWw9"
      }
    },
    {
      "cell_type": "markdown",
      "source": [
        "<h2><strong>Exercise 3.1:</strong> Hello</h2>\n",
        "\n",
        "<ul>\n",
        "  <li>(a) Write a function hello_world that prints 'Hello, world!'</li>\n",
        "  <li>(b) Write a function hello_name(name) that prints 'Hello, name!' where name is a string.</li>\n",
        "  <li>(c) Explain the di\u000berence between the print and return keywords. What would change if instead of print you would use return?</li>\n",
        "</ul>"
      ],
      "metadata": {
        "id": "RednBZ6zcrZ0"
      }
    },
    {
      "cell_type": "markdown",
      "source": [
        "<h2>Answer (a)</h2>"
      ],
      "metadata": {
        "id": "-tUhUHGidDLL"
      }
    },
    {
      "cell_type": "code",
      "source": [
        "def hello_world():\n",
        "  print(\"Hello, world!\")\n",
        "\n",
        "hello_world()"
      ],
      "metadata": {
        "colab": {
          "base_uri": "https://localhost:8080/"
        },
        "id": "JX4v9siRcbcn",
        "outputId": "8a8d2c50-546e-437e-aee6-e18b82b60be9"
      },
      "execution_count": null,
      "outputs": [
        {
          "output_type": "stream",
          "name": "stdout",
          "text": [
            "Hello, world!\n"
          ]
        }
      ]
    },
    {
      "cell_type": "markdown",
      "source": [
        "<h2>Answer (b)</h2>"
      ],
      "metadata": {
        "id": "KzWlqmQ0dLJm"
      }
    },
    {
      "cell_type": "code",
      "source": [
        "def hello_name(name):\n",
        "  print(f\"Hello, {name}\")\n",
        "\n",
        "hello_name(\"Ramazan Burak Korkmaz\")"
      ],
      "metadata": {
        "colab": {
          "base_uri": "https://localhost:8080/"
        },
        "id": "Pl8Q0nm3dJFT",
        "outputId": "751e0eb1-c585-492f-dbbc-17ad784bcc7c"
      },
      "execution_count": null,
      "outputs": [
        {
          "output_type": "stream",
          "name": "stdout",
          "text": [
            "Hello, Ramazan Burak Korkmaz\n"
          ]
        }
      ]
    },
    {
      "cell_type": "markdown",
      "source": [
        "<h2>Answer (c)</h2>\n",
        "<h3>If we use return in function, there would be almost no change for this application. However there would be need of returning values from the function.</h3>"
      ],
      "metadata": {
        "id": "WQPBIFrodcAi"
      }
    },
    {
      "cell_type": "code",
      "source": [
        "def hello_name(name):\n",
        "  print(f\"Hello, {name}\")\n",
        "\n",
        "def hello_name_with_return(name):\n",
        "  return f\"Hello, {name}\"\n",
        "\n",
        "# hello_name function prints string directly in function\n",
        "hello_name(\"Ramazan Burak Korkmaz\")\n",
        "\n",
        "# hello_name_with_return function returns string to print the string\n",
        "print(hello_name_with_return(\"Ramazan Burak Korkmaz\"))"
      ],
      "metadata": {
        "colab": {
          "base_uri": "https://localhost:8080/"
        },
        "id": "6FQqiM0_dUjn",
        "outputId": "b07ddabe-81e5-48c6-f857-026d116dd666"
      },
      "execution_count": null,
      "outputs": [
        {
          "output_type": "stream",
          "name": "stdout",
          "text": [
            "Hello, Ramazan Burak Korkmaz\n",
            "Hello, Ramazan Burak Korkmaz\n"
          ]
        }
      ]
    },
    {
      "cell_type": "markdown",
      "source": [
        "<h2><strong>Exercise 3.2:</strong> Polynomial</h2>\n",
        "\n",
        "Write a function that evaluates the polynomial 3*X^2 - X + 2\n",
        "\n"
      ],
      "metadata": {
        "id": "-6css7RzezA7"
      }
    },
    {
      "cell_type": "code",
      "source": [
        "def solve_function(x):\n",
        "  return 3 * (x**2) - x + 2\n",
        "\n",
        "# Solve for x = 3\n",
        "print(\"X = 3\")\n",
        "print(f\"Answer: {solve_function(3)}\")\n",
        "\n",
        "# Solve for x = 5\n",
        "print(\"X = 5\")\n",
        "print(f\"Answer: {solve_function(5)}\")\n",
        "\n",
        "# Solve for x = 10\n",
        "print(\"X = 10\")\n",
        "print(f\"Answer: {solve_function(10)}\")"
      ],
      "metadata": {
        "colab": {
          "base_uri": "https://localhost:8080/"
        },
        "id": "swi5edJofPvm",
        "outputId": "997a45cb-15d3-418b-ac97-34b0b7711fe8"
      },
      "execution_count": null,
      "outputs": [
        {
          "output_type": "stream",
          "name": "stdout",
          "text": [
            "X = 3\n",
            "Answer: 26\n",
            "X = 5\n",
            "Answer: 72\n",
            "X = 10\n",
            "Answer: 292\n"
          ]
        }
      ]
    },
    {
      "cell_type": "markdown",
      "source": [
        "<h2><strong>Exercise 3.3:</strong> Maximum</h2>\n",
        "\n",
        "Write a function my_max(x,y) that returns the maximum of x and y. Do not use the max function, but use if instead in following two ways:\n",
        "\n",
        "<ul>\n",
        "  <li>(a) Use both if and else.</li>\n",
        "  <li>(b) Use if but not else (nor elif).</li>\n",
        "</ul>\n"
      ],
      "metadata": {
        "id": "atUFKytsf5tY"
      }
    },
    {
      "cell_type": "markdown",
      "source": [
        "<h2>Answer (a)</h2>"
      ],
      "metadata": {
        "id": "rpTSG0Gugumu"
      }
    },
    {
      "cell_type": "code",
      "source": [
        "def my_max(x, y):\n",
        "  if x > y:\n",
        "    return x\n",
        "  else:\n",
        "    return y\n",
        "\n",
        "# Find max between 23 and 56 numbers\n",
        "print(my_max(23, 56))"
      ],
      "metadata": {
        "colab": {
          "base_uri": "https://localhost:8080/"
        },
        "id": "uYAgwPrefiF1",
        "outputId": "b45f927b-2d9b-4a9e-c793-a0506ef7f0bc"
      },
      "execution_count": null,
      "outputs": [
        {
          "output_type": "stream",
          "name": "stdout",
          "text": [
            "56\n"
          ]
        }
      ]
    },
    {
      "cell_type": "markdown",
      "source": [
        "<h2>Answer (b)</h2>"
      ],
      "metadata": {
        "id": "i2F2DUlZgxcp"
      }
    },
    {
      "cell_type": "code",
      "source": [
        "def my_max(x, y):\n",
        "  if x > y:\n",
        "    return x\n",
        "  return y\n",
        "\n",
        "# Find max between 23 and 56 numbers\n",
        "print(my_max(23, 56))"
      ],
      "metadata": {
        "colab": {
          "base_uri": "https://localhost:8080/"
        },
        "id": "1gSGYaQcgoNF",
        "outputId": "814ac27d-e2dd-4098-f229-f5d33ab6a237"
      },
      "execution_count": null,
      "outputs": [
        {
          "output_type": "stream",
          "name": "stdout",
          "text": [
            "56\n"
          ]
        }
      ]
    },
    {
      "cell_type": "markdown",
      "source": [
        "<h2><strong>Exercise 3.4:</strong> Primes</h2>\n",
        "\n",
        "<ul>\n",
        "  <li>(a) Write a function is_prime(n) that returns True only if n is prime.   </li>\n",
        "  <li>(b) Note that apart from 2 and 3, all primes are of the form 6k +- 1 (though not all numbers of the form 6k +- 1 are prime of course). Using this, we can improve the computation time by a factor 3. Update your function to use this.\n",
        "  </li>\n",
        "  <li>(c) Write a function that returns all primes up to n.\n",
        "  </li>\n",
        "  <li>(d) Write a function that returns the first n primes.\n",
        "  </li>\n",
        "</ul>\n"
      ],
      "metadata": {
        "id": "UsfWxLZog3rz"
      }
    },
    {
      "cell_type": "markdown",
      "source": [
        "<h2>Answer (a)</h2>"
      ],
      "metadata": {
        "id": "ERm7azkIhctG"
      }
    },
    {
      "cell_type": "code",
      "source": [
        "def is_prime(n):\n",
        "  prime = True\n",
        "  for number in range(2, n):\n",
        "    if n % number == 0:\n",
        "      prime = False\n",
        "  return prime\n",
        "\n",
        "# Check if 10 is a prime number\n",
        "print(\"Check for 10\")\n",
        "print(is_prime(10))\n",
        "\n",
        "# Check if 11 is a prime number\n",
        "print(\"Check for 11\")\n",
        "print(is_prime(11))\n",
        "\n",
        "# Check if 21 is a prime number\n",
        "print(\"Check for 21\")\n",
        "print(is_prime(21))"
      ],
      "metadata": {
        "colab": {
          "base_uri": "https://localhost:8080/"
        },
        "id": "QNpAlynJhbI9",
        "outputId": "6a13fdd1-650e-4c9a-e806-ba1516e8710f"
      },
      "execution_count": null,
      "outputs": [
        {
          "output_type": "stream",
          "name": "stdout",
          "text": [
            "Check for 10\n",
            "False\n",
            "Check for 11\n",
            "True\n",
            "Check for 21\n",
            "False\n"
          ]
        }
      ]
    },
    {
      "cell_type": "markdown",
      "source": [
        "<h2>Answer (b)</h2>"
      ],
      "metadata": {
        "id": "QZWIaweHjfxi"
      }
    },
    {
      "cell_type": "code",
      "source": [
        "def is_prime(n):\n",
        "  if ((n + 1) % 6 == 0) or ((n - 1) % 6 == 0):\n",
        "    return True\n",
        "  return False\n",
        "\n",
        "# Check if 11 is prime\n",
        "print(\"Check if 11 is prime\")\n",
        "print(is_prime(11))\n",
        "\n",
        "# Check if 21 is prime\n",
        "print(\"Check if 21 is prime\")\n",
        "print(is_prime(21))\n",
        "\n",
        "# Check if 13 is prime\n",
        "print(\"Check if 13 is prime\")\n",
        "print(is_prime(13))"
      ],
      "metadata": {
        "colab": {
          "base_uri": "https://localhost:8080/"
        },
        "id": "5UXozp_7iRuH",
        "outputId": "fa1fbdb7-7690-4ebc-a78c-6996d3f83705"
      },
      "execution_count": null,
      "outputs": [
        {
          "output_type": "stream",
          "name": "stdout",
          "text": [
            "Check if 11 is prime\n",
            "True\n",
            "Check if 21 is prime\n",
            "False\n",
            "Check if 13 is prime\n",
            "True\n"
          ]
        }
      ]
    },
    {
      "cell_type": "markdown",
      "source": [
        "<h2>Answer (c)</h2>"
      ],
      "metadata": {
        "id": "4VcYY5U8ljFc"
      }
    },
    {
      "cell_type": "code",
      "source": [
        "# This function will use is_prime()\n",
        "def primes_up_to_n(n):\n",
        "  prime_values = [2, 3]\n",
        "  for number in range(3, n):\n",
        "    if is_prime(number):\n",
        "      prime_values.append(number)\n",
        "\n",
        "  return prime_values\n",
        "\n",
        "# Up to 20 prime numbers\n",
        "print(\"Up to 20:\")\n",
        "print(primes_up_to_n(20))\n",
        "\n",
        "# Up to 50 prime numbers\n",
        "print(\"Up to 50:\")\n",
        "print(primes_up_to_n(50))\n",
        "\n",
        "# Up to 100 prime numbers\n",
        "print(\"Up to 100:\")\n",
        "print(primes_up_to_n(100))"
      ],
      "metadata": {
        "colab": {
          "base_uri": "https://localhost:8080/"
        },
        "id": "vFvM3kdPlBFB",
        "outputId": "fe043ccc-75a4-49ff-865a-31db1b32c415"
      },
      "execution_count": null,
      "outputs": [
        {
          "output_type": "stream",
          "name": "stdout",
          "text": [
            "Up to 20:\n",
            "[2, 3, 5, 7, 11, 13, 17, 19]\n",
            "Up to 50:\n",
            "[2, 3, 5, 7, 11, 13, 17, 19, 23, 25, 29, 31, 35, 37, 41, 43, 47, 49]\n",
            "Up to 100:\n",
            "[2, 3, 5, 7, 11, 13, 17, 19, 23, 25, 29, 31, 35, 37, 41, 43, 47, 49, 53, 55, 59, 61, 65, 67, 71, 73, 77, 79, 83, 85, 89, 91, 95, 97]\n"
          ]
        }
      ]
    },
    {
      "cell_type": "markdown",
      "source": [
        "<h2>Answer (d)</h2>"
      ],
      "metadata": {
        "id": "kFG-nT3Qo_qb"
      }
    },
    {
      "cell_type": "code",
      "source": [
        "# This function will use is_prime()\n",
        "def first_n_primes(n):\n",
        "  prime_values = []\n",
        "  number_to_check = 2\n",
        "  count = 0\n",
        "  while count < n:\n",
        "    if is_prime(number_to_check):\n",
        "      prime_values.append(number_to_check)\n",
        "      count = count + 1\n",
        "\n",
        "    number_to_check = number_to_check + 1\n",
        "\n",
        "  return prime_values\n",
        "\n",
        "# First 20 prime numbers\n",
        "print(\"First 20:\")\n",
        "print(first_n_primes(20))\n",
        "print(f\"Length: {len(first_n_primes(20))}\")\n",
        "\n",
        "# First 50 prime numbers\n",
        "print(\"First 50:\")\n",
        "print(first_n_primes(50))\n",
        "print(f\"Length: {len(first_n_primes(50))}\")\n",
        "\n",
        "# First 100 prime numbers\n",
        "print(\"First 100:\")\n",
        "print(first_n_primes(100))\n",
        "print(f\"Length: {len(first_n_primes(100))}\")"
      ],
      "metadata": {
        "colab": {
          "base_uri": "https://localhost:8080/"
        },
        "id": "XH_TS81jmQ_1",
        "outputId": "a4f7759a-1da2-4703-f426-5e9718e0213c"
      },
      "execution_count": null,
      "outputs": [
        {
          "output_type": "stream",
          "name": "stdout",
          "text": [
            "First 20:\n",
            "[5, 7, 11, 13, 17, 19, 23, 25, 29, 31, 35, 37, 41, 43, 47, 49, 53, 55, 59, 61]\n",
            "Length: 20\n",
            "First 50:\n",
            "[5, 7, 11, 13, 17, 19, 23, 25, 29, 31, 35, 37, 41, 43, 47, 49, 53, 55, 59, 61, 65, 67, 71, 73, 77, 79, 83, 85, 89, 91, 95, 97, 101, 103, 107, 109, 113, 115, 119, 121, 125, 127, 131, 133, 137, 139, 143, 145, 149, 151]\n",
            "Length: 50\n",
            "First 100:\n",
            "[5, 7, 11, 13, 17, 19, 23, 25, 29, 31, 35, 37, 41, 43, 47, 49, 53, 55, 59, 61, 65, 67, 71, 73, 77, 79, 83, 85, 89, 91, 95, 97, 101, 103, 107, 109, 113, 115, 119, 121, 125, 127, 131, 133, 137, 139, 143, 145, 149, 151, 155, 157, 161, 163, 167, 169, 173, 175, 179, 181, 185, 187, 191, 193, 197, 199, 203, 205, 209, 211, 215, 217, 221, 223, 227, 229, 233, 235, 239, 241, 245, 247, 251, 253, 257, 259, 263, 265, 269, 271, 275, 277, 281, 283, 287, 289, 293, 295, 299, 301]\n",
            "Length: 100\n"
          ]
        }
      ]
    }
  ]
}