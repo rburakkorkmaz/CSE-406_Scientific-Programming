{
  "nbformat": 4,
  "nbformat_minor": 0,
  "metadata": {
    "colab": {
      "name": "Korkmaz_RamazanBurak_E5",
      "provenance": [],
      "collapsed_sections": [],
      "authorship_tag": "ABX9TyMSa90sctkIR3eL2/mrwJR0",
      "include_colab_link": true
    },
    "kernelspec": {
      "name": "python3",
      "display_name": "Python 3"
    },
    "language_info": {
      "name": "python"
    }
  },
  "cells": [
    {
      "cell_type": "markdown",
      "metadata": {
        "id": "view-in-github",
        "colab_type": "text"
      },
      "source": [
        "<a href=\"https://colab.research.google.com/github/rburakkorkmaz/CSE-406_Scientific-Programming/blob/main/Korkmaz_RamazanBurak_E5.ipynb\" target=\"_parent\"><img src=\"https://colab.research.google.com/assets/colab-badge.svg\" alt=\"Open In Colab\"/></a>"
      ]
    },
    {
      "cell_type": "markdown",
      "source": [
        "<h1><strong>Exercise 5</strong></h1>\n",
        "<h1><strong>Student Name & Surname:</strong> Ramazan Burak Korkmaz</h1>\n",
        "<h1><strong>Student ID:</strong> 202151056004</h1>"
      ],
      "metadata": {
        "id": "BSRS8_hE2Th4"
      }
    },
    {
      "cell_type": "markdown",
      "source": [
        "<h2>Needed packages</h2>"
      ],
      "metadata": {
        "id": "-TnPk18K6mfY"
      }
    },
    {
      "cell_type": "code",
      "execution_count": 168,
      "metadata": {
        "id": "zwnM4_x5w-C6"
      },
      "outputs": [],
      "source": [
        "import numpy as np\n",
        "import random\n",
        "from scipy.optimize import least_squares, fmin\n",
        "from scipy.spatial.distance import cdist\n",
        "from scipy.stats import gaussian_kde\n",
        "import matplotlib.pyplot as plt\n",
        "import pandas as pd\n",
        "import math"
      ]
    },
    {
      "cell_type": "markdown",
      "source": [
        "<h1><strong>Exercise 9.5:</strong> Singular values</h1>\n",
        "Generate an nxn matrix, denoted by C, where each entry is 1 with probability p and 0 otherwise. Use the linear algebra library of Scipy to compute the singular values of C. What can you say about the relationship between n, p and the largest singular value?\n",
        "\n"
      ],
      "metadata": {
        "id": "0GSRaB-62247"
      }
    },
    {
      "cell_type": "markdown",
      "source": [
        "<h2> Largest singular value of a matrix C is almost same with n x p. </h2>"
      ],
      "metadata": {
        "id": "po7lcxdLDXVp"
      }
    },
    {
      "cell_type": "code",
      "source": [
        "# For loop to simulate different sizes\n",
        "for n in range(10, 110, 20):\n",
        "  # For loop to simulate different p probability\n",
        "  for i in range(0, 11, 1):\n",
        "    # Create C matrix with current n and p values.\n",
        "    C = np.random.binomial(n=1, p=i/10, size=(n, n))\n",
        "    # Scipy library svd function to find singular values of matrix C\n",
        "    U, s, Vh = np.linalg.svd(C)\n",
        "    # Print p, n and s values to compare\n",
        "    print(f\"p = {i/10}\")\n",
        "    print(f\"n = {n}\")\n",
        "    print(f\"s = {s[0]}\")\n",
        "    print(\"-----------------------------------------------------------------------------\")"
      ],
      "metadata": {
        "colab": {
          "base_uri": "https://localhost:8080/"
        },
        "id": "7nuE7_2ZBIif",
        "outputId": "a0935e55-3c69-4f6d-88e6-98da7b2355be"
      },
      "execution_count": 169,
      "outputs": [
        {
          "output_type": "stream",
          "name": "stdout",
          "text": [
            "p = 0.0\n",
            "n = 10\n",
            "s = 0.0\n",
            "-----------------------------------------------------------------------------\n",
            "p = 0.1\n",
            "n = 10\n",
            "s = 2.1357792050698565\n",
            "-----------------------------------------------------------------------------\n",
            "p = 0.2\n",
            "n = 10\n",
            "s = 2.574126946539232\n",
            "-----------------------------------------------------------------------------\n",
            "p = 0.3\n",
            "n = 10\n",
            "s = 3.6410106386074084\n",
            "-----------------------------------------------------------------------------\n",
            "p = 0.4\n",
            "n = 10\n",
            "s = 4.587002870020242\n",
            "-----------------------------------------------------------------------------\n",
            "p = 0.5\n",
            "n = 10\n",
            "s = 5.8154501354342045\n",
            "-----------------------------------------------------------------------------\n",
            "p = 0.6\n",
            "n = 10\n",
            "s = 5.741957937438438\n",
            "-----------------------------------------------------------------------------\n",
            "p = 0.7\n",
            "n = 10\n",
            "s = 8.225453841812241\n",
            "-----------------------------------------------------------------------------\n",
            "p = 0.8\n",
            "n = 10\n",
            "s = 7.627367612867192\n",
            "-----------------------------------------------------------------------------\n",
            "p = 0.9\n",
            "n = 10\n",
            "s = 8.980258544536454\n",
            "-----------------------------------------------------------------------------\n",
            "p = 1.0\n",
            "n = 10\n",
            "s = 9.999999999999996\n",
            "-----------------------------------------------------------------------------\n",
            "p = 0.0\n",
            "n = 30\n",
            "s = 0.0\n",
            "-----------------------------------------------------------------------------\n",
            "p = 0.1\n",
            "n = 30\n",
            "s = 3.6404049383569363\n",
            "-----------------------------------------------------------------------------\n",
            "p = 0.2\n",
            "n = 30\n",
            "s = 6.608150519863667\n",
            "-----------------------------------------------------------------------------\n",
            "p = 0.3\n",
            "n = 30\n",
            "s = 10.036638463436176\n",
            "-----------------------------------------------------------------------------\n",
            "p = 0.4\n",
            "n = 30\n",
            "s = 13.117974012724735\n",
            "-----------------------------------------------------------------------------\n",
            "p = 0.5\n",
            "n = 30\n",
            "s = 15.501223347760076\n",
            "-----------------------------------------------------------------------------\n",
            "p = 0.6\n",
            "n = 30\n",
            "s = 19.17928979902866\n",
            "-----------------------------------------------------------------------------\n",
            "p = 0.7\n",
            "n = 30\n",
            "s = 21.258119927579035\n",
            "-----------------------------------------------------------------------------\n",
            "p = 0.8\n",
            "n = 30\n",
            "s = 23.916106841210272\n",
            "-----------------------------------------------------------------------------\n",
            "p = 0.9\n",
            "n = 30\n",
            "s = 26.875685036985463\n",
            "-----------------------------------------------------------------------------\n",
            "p = 1.0\n",
            "n = 30\n",
            "s = 30.000000000000004\n",
            "-----------------------------------------------------------------------------\n",
            "p = 0.0\n",
            "n = 50\n",
            "s = 0.0\n",
            "-----------------------------------------------------------------------------\n",
            "p = 0.1\n",
            "n = 50\n",
            "s = 6.108635633190645\n",
            "-----------------------------------------------------------------------------\n",
            "p = 0.2\n",
            "n = 50\n",
            "s = 11.085806344610958\n",
            "-----------------------------------------------------------------------------\n",
            "p = 0.3\n",
            "n = 50\n",
            "s = 15.821314129825454\n",
            "-----------------------------------------------------------------------------\n",
            "p = 0.4\n",
            "n = 50\n",
            "s = 19.446269936774645\n",
            "-----------------------------------------------------------------------------\n",
            "p = 0.5\n",
            "n = 50\n",
            "s = 26.01992320739856\n",
            "-----------------------------------------------------------------------------\n",
            "p = 0.6\n",
            "n = 50\n",
            "s = 29.939923693898518\n",
            "-----------------------------------------------------------------------------\n",
            "p = 0.7\n",
            "n = 50\n",
            "s = 35.54329271543027\n",
            "-----------------------------------------------------------------------------\n",
            "p = 0.8\n",
            "n = 50\n",
            "s = 39.97852903247429\n",
            "-----------------------------------------------------------------------------\n",
            "p = 0.9\n",
            "n = 50\n",
            "s = 45.07938524039433\n",
            "-----------------------------------------------------------------------------\n",
            "p = 1.0\n",
            "n = 50\n",
            "s = 50.00000000000001\n",
            "-----------------------------------------------------------------------------\n",
            "p = 0.0\n",
            "n = 70\n",
            "s = 0.0\n",
            "-----------------------------------------------------------------------------\n",
            "p = 0.1\n",
            "n = 70\n",
            "s = 7.9345047396432475\n",
            "-----------------------------------------------------------------------------\n",
            "p = 0.2\n",
            "n = 70\n",
            "s = 13.93948482188538\n",
            "-----------------------------------------------------------------------------\n",
            "p = 0.3\n",
            "n = 70\n",
            "s = 21.54373444677367\n",
            "-----------------------------------------------------------------------------\n",
            "p = 0.4\n",
            "n = 70\n",
            "s = 28.776610519088027\n",
            "-----------------------------------------------------------------------------\n",
            "p = 0.5\n",
            "n = 70\n",
            "s = 36.08895667409723\n",
            "-----------------------------------------------------------------------------\n",
            "p = 0.6\n",
            "n = 70\n",
            "s = 42.77822539402111\n",
            "-----------------------------------------------------------------------------\n",
            "p = 0.7\n",
            "n = 70\n",
            "s = 49.362575615570115\n",
            "-----------------------------------------------------------------------------\n",
            "p = 0.8\n",
            "n = 70\n",
            "s = 56.833822460739036\n",
            "-----------------------------------------------------------------------------\n",
            "p = 0.9\n",
            "n = 70\n",
            "s = 63.000824493461614\n",
            "-----------------------------------------------------------------------------\n",
            "p = 1.0\n",
            "n = 70\n",
            "s = 70.0\n",
            "-----------------------------------------------------------------------------\n",
            "p = 0.0\n",
            "n = 90\n",
            "s = 0.0\n",
            "-----------------------------------------------------------------------------\n",
            "p = 0.1\n",
            "n = 90\n",
            "s = 10.210927912794551\n",
            "-----------------------------------------------------------------------------\n",
            "p = 0.2\n",
            "n = 90\n",
            "s = 18.72678391489125\n",
            "-----------------------------------------------------------------------------\n",
            "p = 0.3\n",
            "n = 90\n",
            "s = 27.4410832678764\n",
            "-----------------------------------------------------------------------------\n",
            "p = 0.4\n",
            "n = 90\n",
            "s = 36.791004954160705\n",
            "-----------------------------------------------------------------------------\n",
            "p = 0.5\n",
            "n = 90\n",
            "s = 45.727167733614905\n",
            "-----------------------------------------------------------------------------\n",
            "p = 0.6\n",
            "n = 90\n",
            "s = 54.296869007050596\n",
            "-----------------------------------------------------------------------------\n",
            "p = 0.7\n",
            "n = 90\n",
            "s = 63.481976783069086\n",
            "-----------------------------------------------------------------------------\n",
            "p = 0.8\n",
            "n = 90\n",
            "s = 72.19029249615338\n",
            "-----------------------------------------------------------------------------\n",
            "p = 0.9\n",
            "n = 90\n",
            "s = 81.20161496543189\n",
            "-----------------------------------------------------------------------------\n",
            "p = 1.0\n",
            "n = 90\n",
            "s = 90.0\n",
            "-----------------------------------------------------------------------------\n"
          ]
        }
      ]
    },
    {
      "cell_type": "markdown",
      "source": [
        "<h1><strong>Exercise 10.1:</strong> Least squares</h1>\n",
        "Generate matrix A ∈ Rᵐ×ⁿ with m > n.  Also generate some vector b ∈ Rᵐ.\n",
        "\n",
        "Now find x = arg minₓ /Ax − b/₂.\n",
        "\n",
        "Print the norm of the residual.\n",
        "\n",
        "\n"
      ],
      "metadata": {
        "id": "tR_nB4fmYniH"
      }
    },
    {
      "cell_type": "code",
      "source": [
        "# Dimensions of the matrix\n",
        "m = 50\n",
        "n = 40"
      ],
      "metadata": {
        "id": "vNxMDKw-aOe_"
      },
      "execution_count": 170,
      "outputs": []
    },
    {
      "cell_type": "code",
      "source": [
        "# Creating A and b matrices.\n",
        "# Values of these matrices are between -100 and 100\n",
        "A = np.random.randint(-100, 100, size = (m, n))\n",
        "b = np.random.randint(-100, 100, size = m)\n",
        "\n",
        "print(A)\n",
        "print(b)"
      ],
      "metadata": {
        "colab": {
          "base_uri": "https://localhost:8080/"
        },
        "id": "gfCTo1oKaIe0",
        "outputId": "7635c554-066d-42da-8c99-6339790580c7"
      },
      "execution_count": 171,
      "outputs": [
        {
          "output_type": "stream",
          "name": "stdout",
          "text": [
            "[[-56  28  53 ... -52  82  -1]\n",
            " [-71  39 -85 ...  63  21  54]\n",
            " [-75  73 -29 ...  50  93 -87]\n",
            " ...\n",
            " [ 61   4  80 ...  63 -42 -34]\n",
            " [  4  -3 -19 ...  31  78  16]\n",
            " [ 66 -84 -76 ... -85  57 -36]]\n",
            "[-30 -76  70 -20 -51 -37  47   9  79  88 -34 -56  94 -18 -86 -97  47  -1\n",
            " -69  42 -56  69  49  23  15  41  22 -87  25 -47  22  43 -97  98  27 -68\n",
            "  26  52  40 -84  -2  90 -64 -92 -21  19  35 -28 -24  45]\n"
          ]
        }
      ]
    },
    {
      "cell_type": "code",
      "source": [
        "# A function that returns result of Ax-b equation\n",
        "def fun(x):\n",
        "  return A@x - b"
      ],
      "metadata": {
        "id": "4oY5dtOxb2sG"
      },
      "execution_count": 172,
      "outputs": []
    },
    {
      "cell_type": "code",
      "source": [
        "# Create a initial x matrix to start with\n",
        "x = np.random.randint(-100, 100, size = n)\n",
        "\n",
        "# Calculate residuals by scipy least_squares function\n",
        "res = least_squares(fun, x)\n",
        "\n",
        "print(res.optimality)"
      ],
      "metadata": {
        "colab": {
          "base_uri": "https://localhost:8080/"
        },
        "id": "5cKMS2lPaawk",
        "outputId": "e2d63a96-32d2-4257-8e21-e9128b291c0b"
      },
      "execution_count": 173,
      "outputs": [
        {
          "output_type": "stream",
          "name": "stdout",
          "text": [
            "3.899071998603176e-08\n"
          ]
        }
      ]
    },
    {
      "cell_type": "markdown",
      "source": [
        "<h1><strong>Exercise 10.2:</strong> Optimization</h1>\n",
        "Find the maximum of the function\n",
        "\n",
        "![image.png](data:image/png;base64,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)\n",
        "\n",
        "\n",
        "\n"
      ],
      "metadata": {
        "id": "QC9B9lMVhZWu"
      }
    },
    {
      "cell_type": "code",
      "source": [
        "# Negative of the given function. Negative because we are trying to find maximum\n",
        "# value of the function, therefore we get the negative of the function and \n",
        "# try to find min value instead.\n",
        "def negative_f(x):\n",
        "  return -1 * (math.sin(x -2) ** 2) * math.exp(-1 * (x ** 2))"
      ],
      "metadata": {
        "id": "Zx-ri4n3bQ_n"
      },
      "execution_count": 174,
      "outputs": []
    },
    {
      "cell_type": "code",
      "source": [
        "max_x = fmin(negative_f, 0)\n",
        "print(max_x)"
      ],
      "metadata": {
        "colab": {
          "base_uri": "https://localhost:8080/"
        },
        "id": "jkaRVzffiKss",
        "outputId": "bb445bca-ca05-4533-bbb8-36fd67b69aaf"
      },
      "execution_count": 175,
      "outputs": [
        {
          "output_type": "stream",
          "name": "stdout",
          "text": [
            "Optimization terminated successfully.\n",
            "         Current function value: -0.911685\n",
            "         Iterations: 20\n",
            "         Function evaluations: 40\n",
            "[0.21625]\n"
          ]
        }
      ]
    },
    {
      "cell_type": "markdown",
      "source": [
        "<h1><strong>Exercise 10.3:</strong> Pairwise distances</h1>\n",
        "Let X  be a matrix with n rows and m columns.  How can you compute the pairwise distances between every two rows?\n",
        "\n",
        "As  an  example  application,  consider  n cities,  and  we  are  given  their  coordinates  in two  columns.  Now we want a nice table that tells us for each two cities, how far they are apart.\n",
        "\n",
        "Again, make sure you make use of Scipy’s functionality instead of writing your own routine.\n",
        "\n",
        "\n",
        "\n",
        "\n"
      ],
      "metadata": {
        "id": "rh55mJGzjX6n"
      }
    },
    {
      "cell_type": "code",
      "source": [
        "# Creating a X matrix that has values between -100 and 100 with size of (n, m)\n",
        "X = np.random.randint(-100, 100, size = (n, m))"
      ],
      "metadata": {
        "id": "c_1j467xjiek"
      },
      "execution_count": 176,
      "outputs": []
    },
    {
      "cell_type": "code",
      "source": [
        "# Print X matrix we just created\n",
        "print(X)"
      ],
      "metadata": {
        "colab": {
          "base_uri": "https://localhost:8080/"
        },
        "id": "d-Wspx4wj9j5",
        "outputId": "ab2caca8-0316-4ee7-bf85-27cf7d8bfec5"
      },
      "execution_count": 177,
      "outputs": [
        {
          "output_type": "stream",
          "name": "stdout",
          "text": [
            "[[ 91  17 -17 ...  28  -3 -94]\n",
            " [  3 -19  27 ... -17 -46 -70]\n",
            " [-72  57 -21 ...  -6  22  36]\n",
            " ...\n",
            " [-45   3  47 ...  63  30  63]\n",
            " [-23  32 -46 ... -61  15  81]\n",
            " [ 40 -69  54 ...  71 -47  -2]]\n"
          ]
        }
      ]
    },
    {
      "cell_type": "code",
      "source": [
        "# Calculate distance of two rows pair\n",
        "dm = cdist(X, X, 'euclidean')"
      ],
      "metadata": {
        "id": "MAtQ6O2hir9z"
      },
      "execution_count": 178,
      "outputs": []
    },
    {
      "cell_type": "code",
      "source": [
        "# Print raw array of distances\n",
        "print(dm)"
      ],
      "metadata": {
        "colab": {
          "base_uri": "https://localhost:8080/"
        },
        "id": "XWTQjxTLjoQK",
        "outputId": "f5b964c3-c115-4770-9b77-ed059abc221f"
      },
      "execution_count": 179,
      "outputs": [
        {
          "output_type": "stream",
          "name": "stdout",
          "text": [
            "[[  0.         568.27458152 549.33596278 ... 696.96628326 573.45531648\n",
            "  577.34565037]\n",
            " [568.27458152   0.         587.22738356 ... 615.92532015 602.26987306\n",
            "  576.9558042 ]\n",
            " [549.33596278 587.22738356   0.         ... 532.13907956 621.89950957\n",
            "  621.01690798]\n",
            " ...\n",
            " [696.96628326 615.92532015 532.13907956 ...   0.         543.5669232\n",
            "  500.81333848]\n",
            " [573.45531648 602.26987306 621.89950957 ... 543.5669232    0.\n",
            "  570.0622773 ]\n",
            " [577.34565037 576.9558042  621.01690798 ... 500.81333848 570.0622773\n",
            "    0.        ]]\n"
          ]
        }
      ]
    },
    {
      "cell_type": "code",
      "source": [
        "# Table view with pandas Dataframe\n",
        "pd.set_option('display.width', dm.shape[0] * dm.shape[1])\n",
        "print(pd.DataFrame(dm))"
      ],
      "metadata": {
        "colab": {
          "base_uri": "https://localhost:8080/"
        },
        "id": "mATG5vCUj2s6",
        "outputId": "024950c2-3157-40d2-b397-f9bfad009a31"
      },
      "execution_count": 180,
      "outputs": [
        {
          "output_type": "stream",
          "name": "stdout",
          "text": [
            "            0           1           2           3           4           5           6           7           8           9           10          11          12          13          14          15          16          17          18          19          20          21          22          23          24          25          26          27          28          29          30          31          32          33          34          35          36          37          38          39\n",
            "0     0.000000  568.274582  549.335963  569.469929  601.457397  548.556287  501.648283  603.024046  567.896998  562.841008  629.514098  647.976851  608.076475  535.213976  557.043086  671.895825  586.448634  536.716871  572.993892  629.123994  594.265934  705.644386  562.112978  634.898417  594.494743  570.639115  521.406751  649.412812  564.655647  652.569537  647.068775  547.759984  550.411664  579.946549  638.818441  496.568223  560.242805  696.966283  573.455316  577.345650\n",
            "1   568.274582    0.000000  587.227384  564.381077  617.126405  584.229407  581.371654  501.238466  514.580412  615.488424  499.659884  557.250393  571.542649  569.478709  562.000890  629.522041  548.805977  592.848210  592.295534  603.457538  552.472624  640.694935  553.529584  606.559148  570.147349  518.990366  557.904114  665.497558  634.873216  658.766271  575.991319  556.552783  556.489892  635.562743  533.103180  572.141591  650.119989  615.925320  602.269873  576.955804\n",
            "2   549.335963  587.227384    0.000000  604.430310  585.601400  578.762473  573.427415  571.303772  532.932454  503.751923  550.334444  594.597343  544.337212  548.725797  487.451536  540.286961  546.529048  552.576692  533.895121  588.226997  527.840885  593.034569  551.799783  580.765013  541.130299  592.141030  518.255728  600.080828  532.246184  631.733330  553.880854  609.331601  580.199104  615.399058  502.044819  593.499789  462.335376  532.139080  621.899510  621.016908\n",
            "3   569.469929  564.381077  604.430310    0.000000  486.948663  587.409568  500.164973  619.115498  548.901631  635.033857  565.092913  610.563674  633.293771  534.147920  594.051345  633.063978  599.928329  487.656642  567.050262  569.681490  403.011166  599.569846  662.684691  622.300570  606.249124  565.610290  439.912491  561.789106  651.889561  580.752099  496.108859  623.957531  591.483728  594.385397  578.308741  490.825835  594.308001  602.564519  602.470746  655.946644\n",
            "4   601.457397  617.126405  585.601400  486.948663    0.000000  595.179805  550.299918  622.063502  578.107256  624.857584  588.313692  624.314824  533.696543  539.913882  609.071424  681.585651  628.467183  545.066968  587.218017  647.606362  525.384621  611.233998  635.274744  688.069037  613.197358  529.390215  486.061724  566.084799  505.344437  602.362017  520.625585  654.004587  621.385549  569.534020  544.622805  621.659875  567.428410  612.208298  568.608829  608.804566\n",
            "5   548.556287  584.229407  578.762473  587.409568  595.179805    0.000000  560.753957  517.211755  536.096073  604.967768  586.866254  619.467513  535.696743  552.134042  579.176139  549.696280  570.356029  559.212840  612.083328  617.834120  549.654437  605.948843  559.025044  619.846755  604.120849  581.760260  540.032406  612.876007  549.699918  532.881788  505.679741  570.214872  567.572903  560.860054  587.177145  556.866232  595.726447  592.508228  626.233982  565.803853\n",
            "6   501.648283  581.371654  573.427415  500.164973  550.299918  560.753957    0.000000  554.125437  492.686513  573.136109  645.093017  538.244368  582.801853  545.137597  594.010101  583.197222  520.493035  517.725796  567.800141  517.926636  564.791112  580.817527  570.522567  601.186327  567.652182  484.594676  541.379719  590.108465  594.485492  606.832761  521.117069  518.906543  618.530517  503.959324  614.995935  442.887119  569.914906  607.069189  557.230652  558.201576\n",
            "7   603.024046  501.238466  571.303772  619.115498  622.063502  517.211755  554.125437    0.000000  553.842035  538.276880  474.744142  552.304264  601.535535  564.462576  574.004355  539.316234  574.109746  579.566217  580.716798  532.588960  555.440366  564.136508  547.723470  549.854526  550.218139  531.575959  570.079819  587.170333  547.571000  552.129514  515.862385  563.646166  618.099507  601.705908  436.784844  603.511392  588.705359  574.329174  593.279867  535.271894\n",
            "8   567.896998  514.580412  532.932454  548.901631  578.107256  536.096073  492.686513  553.842035    0.000000  644.196399  551.531504  527.483649  547.207456  521.293583  532.435912  640.996880  595.829674  517.739317  530.417760  593.893930  557.805522  480.442504  598.178903  576.056421  550.596949  536.630227  526.022813  607.735140  605.822581  579.768919  533.676869  542.265618  460.614807  563.851931  552.868881  513.981517  536.836102  601.947672  590.553977  582.310055\n",
            "9   562.841008  615.488424  503.751923  635.033857  624.857584  604.967768  573.136109  538.276880  644.196399    0.000000  592.258390  581.749087  577.954150  487.690476  584.982906  536.432661  557.395730  545.537350  507.148893  476.129184  524.722784  617.978964  533.577548  565.556363  586.179154  556.218482  532.446241  534.171321  617.258455  628.214135  593.302621  572.670062  662.808419  559.058137  580.934592  598.810488  571.405285  572.211499  528.163800  595.555203\n",
            "10  629.514098  499.659884  550.334444  565.092913  588.313692  586.866254  645.093017  474.744142  551.531504  592.258390    0.000000  526.811162  590.490474  542.062727  487.260711  609.532608  605.737567  573.709857  593.833310  640.750341  482.526683  638.103440  526.259442  636.495090  630.255504  575.252119  485.212325  596.316191  582.020618  522.634672  581.809247  588.395275  551.546009  572.064682  453.708056  654.032109  571.375533  538.091070  571.476159  544.839426\n",
            "11  647.976851  557.250393  594.597343  610.563674  624.314824  619.467513  538.244368  552.304264  527.483649  581.749087  526.811162    0.000000  564.945130  524.137387  589.113741  551.416358  521.635888  539.889804  590.367682  597.257901  592.410331  569.787680  552.388450  582.305762  486.573735  495.533046  560.860945  606.197163  585.185441  545.410854  567.039681  650.039230  538.103150  566.752150  510.906058  625.491807  588.202346  622.466063  491.592311  620.862304\n",
            "12  608.076475  571.542649  544.337212  633.293771  533.696543  535.696743  582.801853  601.535535  547.207456  577.954150  590.490474  564.945130    0.000000  520.781144  587.475957  619.610361  537.828039  526.668776  556.356900  620.430496  596.185374  635.863979  540.011111  624.420531  546.636076  524.402517  595.273047  614.535597  573.484961  612.630394  514.413258  591.952701  590.381233  580.130158  637.670761  640.325698  515.760603  602.303080  602.896343  626.229191\n",
            "13  535.213976  569.478709  548.725797  534.147920  539.913882  552.134042  545.137597  564.462576  521.293583  487.690476  542.062727  524.137387  520.781144    0.000000  532.804842  516.644946  563.540593  464.937630  423.015366  564.250831  468.014957  549.683545  524.020038  609.635957  495.669245  535.181278  510.206821  453.052977  533.432282  494.162929  503.235531  570.998249  541.554245  504.059520  619.027463  483.222516  469.491214  517.810776  492.646932  573.431774\n",
            "14  557.043086  562.000890  487.451536  594.051345  609.071424  579.176139  594.010101  574.004355  532.435912  584.982906  487.260711  589.113741  587.475957  532.804842    0.000000  580.214615  607.133428  516.145328  573.451829  644.833312  564.006206  595.955535  527.901506  594.424932  605.847341  638.637612  478.255162  652.092018  535.698609  577.646951  634.492711  548.711217  598.673534  621.597136  479.749935  589.615977  520.631348  499.544793  528.100369  539.650813\n",
            "15  671.895825  629.522041  540.286961  633.063978  681.585651  549.696280  583.197222  539.316234  640.996880  536.432661  609.532608  551.416358  619.610361  516.644946  580.214615    0.000000  519.413130  608.219533  605.247057  518.313612  555.841704  596.632215  537.558369  512.763103  523.641098  538.756903  545.797582  601.282795  635.545435  530.076410  597.841116  625.513389  662.014350  532.426521  543.228313  565.027433  599.284573  537.082861  543.224631  623.793235\n",
            "16  586.448634  548.805977  546.529048  599.928329  628.467183  570.356029  520.493035  574.109746  595.829674  557.395730  605.737567  521.635888  537.828039  563.540593  607.133428  519.413130    0.000000  582.241359  513.404324  569.595470  570.820462  593.482940  565.905469  550.781263  495.905233  454.762575  543.397644  574.239497  567.762274  581.688061  506.229197  539.567419  638.060342  574.545037  592.455062  580.470499  553.326305  602.357037  504.710808  645.285983\n",
            "17  536.716871  592.848210  552.576692  487.656642  545.066968  559.212840  517.725796  579.566217  517.739317  545.537350  573.709857  539.889804  526.668776  464.937630  516.145328  608.219533  582.241359    0.000000  480.685968  524.657984  535.728476  573.404744  561.556765  588.786039  599.967499  571.951047  489.097127  542.927251  561.605734  532.811411  576.961870  527.397383  554.214760  564.048757  589.898296  533.211965  492.957402  563.640843  504.929698  648.966101\n",
            "18  572.993892  592.295534  533.895121  567.050262  587.218017  612.083328  567.800141  580.716798  530.417760  507.148893  593.833310  590.367682  556.356900  423.015366  573.451829  605.247057  513.404324  480.685968    0.000000  536.230361  538.572186  594.472876  582.086763  606.559148  481.678316  585.932590  508.441737  442.392360  551.102531  579.410908  477.573031  529.100180  639.361400  493.495694  585.051280  522.685374  525.532111  546.946067  545.628995  665.244316\n",
            "19  629.123994  603.457538  588.226997  569.681490  647.606362  617.834120  517.926636  532.588960  593.893930  476.129184  640.750341  597.257901  620.430496  564.250831  644.833312  518.313612  569.595470  524.657984  536.230361    0.000000  508.933198  678.372317  636.359961  497.426376  572.710223  542.612200  543.799595  535.260684  617.299765  632.842792  559.032199  504.418477  647.802439  521.015355  621.187572  568.426776  612.911902  568.175149  560.421270  677.509410\n",
            "20  594.265934  552.472624  527.840885  403.011166  525.384621  549.654437  564.791112  555.440366  557.805522  524.722784  482.526683  592.410331  596.185374  468.014957  564.006206  555.841704  570.820462  535.728476  538.572186  508.933198    0.000000  633.780719  565.659792  596.036912  590.648796  536.461555  453.436875  496.422199  630.734492  553.818562  474.267857  627.960986  574.035713  601.742470  556.849172  540.205516  563.851044  500.037999  571.796292  599.663239\n",
            "21  705.644386  640.694935  593.034569  599.569846  611.233998  605.948843  580.817527  564.136508  480.442504  617.978964  638.103440  569.787680  635.863979  549.683545  595.955535  596.632215  593.482940  573.404744  594.472876  678.372317  633.780719    0.000000  574.457135  589.386121  620.359573  586.735886  587.703156  608.625501  580.339556  598.749530  609.488310  631.343805  585.266606  627.059806  568.581568  620.009677  537.505349  565.048670  593.070822  588.914255\n",
            "22  562.112978  553.529584  551.799783  662.684691  635.274744  559.025044  570.522567  547.723470  598.178903  533.577548  526.259442  552.388450  540.011111  524.020038  527.901506  537.558369  565.905469  561.556765  582.086763  636.359961  565.659792  574.457135    0.000000  628.713766  569.670958  537.270881  531.988722  607.621593  529.846204  536.656315  619.699121  542.776197  554.579120  563.768570  538.189558  641.308818  615.245479  555.561878  590.933160  500.334888\n",
            "23  634.898417  606.559148  580.765013  622.300570  688.069037  619.846755  601.186327  549.854526  576.056421  565.556363  636.495090  582.305762  624.420531  609.635957  594.424932  512.763103  550.781263  588.786039  606.559148  497.426376  596.036912  589.386121  628.713766    0.000000  567.934855  613.137016  567.007055  605.753250  627.541234  597.448743  671.746976  591.243605  639.792935  595.754983  610.659480  628.222890  604.713155  624.735144  612.773204  657.464828\n",
            "24  594.494743  570.147349  541.130299  606.249124  613.197358  604.120849  567.652182  550.218139  550.596949  586.179154  630.255504  486.573735  546.636076  495.669245  605.847341  523.641098  495.905233  599.967499  481.678316  572.710223  590.648796  620.359573  569.670958  567.934855    0.000000  542.808438  539.576686  576.830131  577.949825  589.018675  497.905614  607.691534  617.426109  591.016074  516.543319  560.852922  585.822499  618.700251  594.140556  654.429523\n",
            "25  570.639115  518.990366  592.141030  565.610290  529.390215  581.760260  484.594676  531.575959  536.630227  556.218482  575.252119  495.533046  524.402517  535.181278  638.637612  538.756903  454.762575  571.951047  585.932590  542.612200  536.461555  586.735886  537.270881  613.137016  542.808438    0.000000  529.074664  623.799647  594.428297  564.760126  455.998904  558.816607  609.537530  506.196602  568.510334  494.706984  594.061445  669.726063  525.421735  586.533034\n",
            "26  521.406751  557.904114  518.255728  439.912491  486.061724  540.032406  541.379719  570.079819  526.022813  532.446241  485.212325  560.860945  595.273047  510.206821  478.255162  545.797582  543.397644  489.097127  508.441737  543.799595  453.436875  587.703156  531.988722  567.007055  539.576686  529.074664    0.000000  564.944245  527.244725  578.774568  508.996071  583.576902  564.101055  467.154150  466.628332  507.447534  545.854376  577.504113  551.798876  611.780189\n",
            "27  649.412812  665.497558  600.080828  561.789106  566.084799  612.876007  590.108465  587.170333  607.735140  534.171321  596.316191  606.197163  614.535597  453.052977  652.092018  601.282795  574.239497  542.927251  442.392360  535.260684  496.422199  608.625501  607.621593  605.753250  576.830131  623.799647  564.944245    0.000000  589.895754  549.488853  497.623352  570.611952  607.615010  547.248572  631.382610  606.226855  531.921987  562.399324  550.692292  571.043781\n",
            "28  564.655647  634.873216  532.246184  651.889561  505.344437  549.699918  594.485492  547.571000  605.822581  617.258455  582.020618  585.185441  573.484961  533.432282  535.698609  635.545435  567.762274  561.605734  551.102531  617.299765  630.734492  580.339556  529.846204  627.541234  577.949825  594.428297  527.244725  589.895754    0.000000  545.346679  567.904922  545.989927  543.439969  571.373783  561.390239  660.761682  448.138371  581.105842  550.057270  584.159225\n",
            "29  652.569537  658.766271  631.733330  580.752099  602.362017  532.881788  606.832761  552.129514  579.768919  628.214135  522.634672  545.410854  612.630394  494.162929  577.646951  530.076410  581.688061  532.811411  579.410908  632.842792  553.818562  598.749530  536.656315  597.448743  589.018675  564.760126  578.774568  549.488853  545.346679    0.000000  570.702199  599.969999  553.660546  603.160841  570.950085  634.331932  526.965843  603.063015  561.571011  608.607427\n",
            "30  647.068775  575.991319  553.880854  496.108859  520.625585  505.679741  521.117069  515.862385  533.676869  593.302621  581.809247  567.039681  514.413258  503.235531  634.492711  597.841116  506.229197  576.961870  477.573031  559.032199  474.267857  609.488310  619.699121  671.746976  497.905614  455.998904  508.996071  497.623352  567.904922  570.702199    0.000000  573.153557  600.682112  535.376503  564.500664  516.509438  573.550347  576.962737  629.732483  609.824565\n",
            "31  547.759984  556.552783  609.331601  623.957531  654.004587  570.214872  518.906543  563.646166  542.265618  572.670062  588.395275  650.039230  591.952701  570.998249  548.711217  625.513389  539.567419  527.397383  529.100180  504.418477  627.960986  631.343805  542.776197  591.243605  607.691534  558.816607  583.576902  570.611952  545.989927  599.969999  573.153557    0.000000  578.266375  546.226144  634.375283  544.298631  555.599676  591.642629  515.216459  575.950519\n",
            "32  550.411664  556.489892  580.199104  591.483728  621.385549  567.572903  618.530517  618.099507  460.614807  662.808419  551.546009  538.103150  590.381233  541.554245  598.673534  662.014350  638.060342  554.214760  639.361400  647.802439  574.035713  585.266606  554.579120  639.792935  617.426109  609.537530  564.101055  607.615010  543.439969  553.660546  600.682112  578.266375    0.000000  609.169106  612.752805  602.449168  505.603600  588.556709  611.673115  524.407284\n",
            "33  579.946549  635.562743  615.399058  594.385397  569.534020  560.860054  503.959324  601.705908  563.851931  559.058137  572.064682  566.752150  580.130158  504.059520  621.597136  532.426521  574.545037  564.048757  493.495694  521.015355  601.742470  627.059806  563.768570  595.754983  591.016074  506.196602  467.154150  547.248572  571.373783  603.160841  535.376503  546.226144  609.169106    0.000000  565.208811  523.090814  587.046847  563.547691  576.812795  568.232347\n",
            "34  638.818441  533.103180  502.044819  578.308741  544.622805  587.177145  614.995935  436.784844  552.868881  580.934592  453.708056  510.906058  637.670761  619.027463  479.749935  543.228313  592.455062  589.898296  585.051280  621.187572  556.849172  568.581568  538.189558  610.659480  516.543319  568.510334  466.628332  631.382610  561.390239  570.950085  564.500664  634.375283  612.752805  565.208811    0.000000  639.441162  622.200129  544.616379  572.814106  535.986007\n",
            "35  496.568223  572.141591  593.499789  490.825835  621.659875  556.866232  442.887119  603.511392  513.981517  598.810488  654.032109  625.491807  640.325698  483.222516  589.615977  565.027433  580.470499  533.211965  522.685374  568.426776  540.205516  620.009677  641.308818  628.222890  560.852922  494.706984  507.447534  606.226855  660.761682  634.331932  516.509438  544.298631  602.449168  523.090814  639.441162    0.000000  575.840256  656.903341  583.855290  616.520884\n",
            "36  560.242805  650.119989  462.335376  594.308001  567.428410  595.726447  569.914906  588.705359  536.836102  571.405285  571.375533  588.202346  515.760603  469.491214  520.631348  599.284573  553.326305  492.957402  525.532111  612.911902  563.851044  537.505349  615.245479  604.713155  585.822499  594.061445  545.854376  531.921987  448.138371  526.965843  573.550347  555.599676  505.603600  587.046847  622.200129  575.840256    0.000000  556.222977  552.867977  597.278829\n",
            "37  696.966283  615.925320  532.139080  602.564519  612.208298  592.508228  607.069189  574.329174  601.947672  572.211499  538.091070  622.466063  602.303080  517.810776  499.544793  537.082861  602.357037  563.640843  546.946067  568.175149  500.037999  565.048670  555.561878  624.735144  618.700251  669.726063  577.504113  562.399324  581.105842  603.063015  576.962737  591.642629  588.556709  563.547691  544.616379  656.903341  556.222977    0.000000  543.566923  500.813338\n",
            "38  573.455316  602.269873  621.899510  602.470746  568.608829  626.233982  557.230652  593.279867  590.553977  528.163800  571.476159  491.592311  602.896343  492.646932  528.100369  543.224631  504.710808  504.929698  545.628995  560.421270  571.796292  593.070822  590.933160  612.773204  594.140556  525.421735  551.798876  550.692292  550.057270  561.571011  629.732483  515.216459  611.673115  576.812795  572.814106  583.855290  552.867977  543.566923    0.000000  570.062277\n",
            "39  577.345650  576.955804  621.016908  655.946644  608.804566  565.803853  558.201576  535.271894  582.310055  595.555203  544.839426  620.862304  626.229191  573.431774  539.650813  623.793235  645.285983  648.966101  665.244316  677.509410  599.663239  588.914255  500.334888  657.464828  654.429523  586.533034  611.780189  571.043781  584.159225  608.607427  609.824565  575.950519  524.407284  568.232347  535.986007  616.520884  597.278829  500.813338  570.062277    0.000000\n"
          ]
        }
      ]
    },
    {
      "cell_type": "markdown",
      "source": [
        "<h1><strong>Exercise 11.1:</strong> Plotting a function</h1>\n",
        "\n",
        "![image.png](data:image/png;base64,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)\n",
        "\n",
        "\n",
        "\n",
        "\n",
        "\n"
      ],
      "metadata": {
        "id": "9OzPkt9OnJEv"
      }
    },
    {
      "cell_type": "code",
      "source": [
        "# Creating a function to return result of the function above\n",
        "def func_body(x):\n",
        "  return (math.sin(x -2) ** 2) * math.exp(-1 * (x ** 2))"
      ],
      "metadata": {
        "id": "hs0k-aczmQQa"
      },
      "execution_count": 181,
      "outputs": []
    },
    {
      "cell_type": "code",
      "source": [
        "# We vectorize the func_body so we can use it in plot function.\n",
        "# Otherwise we get error\n",
        "f = np.vectorize(func_body)"
      ],
      "metadata": {
        "id": "iqMiDnzOo6tX"
      },
      "execution_count": 182,
      "outputs": []
    },
    {
      "cell_type": "code",
      "source": [
        "# Creating a equally spaced X axis vector, so we can\n",
        "# plot our function\n",
        "x_axis = np.linspace(0, 2, 500)\n",
        "\n",
        "# Plot\n",
        "plt.plot(x_axis, f(x_axis))\n",
        "plt.title(\"Function\")\n",
        "plt.xlabel(\"X\")\n",
        "plt.ylabel(\"f(x)\")\n",
        "\n",
        "plt.show()"
      ],
      "metadata": {
        "colab": {
          "base_uri": "https://localhost:8080/",
          "height": 295
        },
        "id": "g8nA0VGGnZ4s",
        "outputId": "38d8ec61-2f66-4a52-ed9a-b1de877e9a29"
      },
      "execution_count": 183,
      "outputs": [
        {
          "output_type": "display_data",
          "data": {
            "text/plain": [
              "<Figure size 432x288 with 1 Axes>"
            ],
            "image/png": "[encoded data removed]"
          },
          "metadata": {
            "needs_background": "light"
          }
        }
      ]
    },
    {
      "cell_type": "markdown",
      "source": [
        "<h1><strong>Exercise 11.3:</strong> Histogram and density estimation</h1>\n",
        "Generate a vector z of 10000 observations from your favorite exotic distribution. Then make a plot that\n",
        "shows a histogram of z (with 25 bins), along with an estimate for the density, using a Gaussian kernel\n",
        "density estimator (see scipy.stats). See Figure 2 for an example plot.\n",
        "\n",
        "\n",
        "\n",
        "\n"
      ],
      "metadata": {
        "id": "-ycDV0P5EVlg"
      }
    },
    {
      "cell_type": "code",
      "source": [
        "# Creating a Gaussian Distrubition\n",
        "mu, sigma = 0.8, 0.15\n",
        "s = np.random.normal(mu, sigma, 10000)"
      ],
      "metadata": {
        "id": "G-jJdXEroBjp"
      },
      "execution_count": 184,
      "outputs": []
    },
    {
      "cell_type": "code",
      "source": [
        "# Plot histogram\n",
        "count, bins, ignored = plt.hist(s, 25, density=True)\n",
        "\n",
        "# Creating a density function with gaussian kernel distrubition estimator func.\n",
        "density = gaussian_kde(s)\n",
        "\n",
        "# Plot density function over histogram\n",
        "plt.plot(bins, density(bins), linewidth=2, color='r')\n",
        "\n",
        "# Show plot\n",
        "plt.show()"
      ],
      "metadata": {
        "colab": {
          "base_uri": "https://localhost:8080/",
          "height": 265
        },
        "id": "Sc31kbCAEt0j",
        "outputId": "e9062f34-eb8f-460f-da27-250bde0b8f1f"
      },
      "execution_count": 185,
      "outputs": [
        {
          "output_type": "display_data",
          "data": {
            "text/plain": [
              "<Figure size 432x288 with 1 Axes>"
            ],
            "image/png": "[encoded data removed]"
          },
          "metadata": {
            "needs_background": "light"
          }
        }
      ]
    }
  ]
}