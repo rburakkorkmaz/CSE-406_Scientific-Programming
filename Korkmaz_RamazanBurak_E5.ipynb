{
  "nbformat": 4,
  "nbformat_minor": 0,
  "metadata": {
    "colab": {
      "name": "Korkmaz_RamazanBurak_E5",
      "provenance": [],
      "collapsed_sections": [],
      "authorship_tag": "ABX9TyMSa90sctkIR3eL2/mrwJR0",
      "include_colab_link": true
    },
    "kernelspec": {
      "name": "python3",
      "display_name": "Python 3"
    },
    "language_info": {
      "name": "python"
    }
  },
  "cells": [
    {
      "cell_type": "markdown",
      "metadata": {
        "id": "view-in-github",
        "colab_type": "text"
      },
      "source": [
        "<a href=\"https://colab.research.google.com/github/rburakkorkmaz/CSE-406_Scientific-Programming/blob/main/Korkmaz_RamazanBurak_E5.ipynb\" target=\"_parent\"><img src=\"https://colab.research.google.com/assets/colab-badge.svg\" alt=\"Open In Colab\"/></a>"
      ]
    },
    {
      "cell_type": "markdown",
      "source": [
        "<h1><strong>Exercise 5</strong></h1>\n",
        "<h1><strong>Student Name & Surname:</strong> Ramazan Burak Korkmaz</h1>\n",
        "<h1><strong>Student ID:</strong> 202151056004</h1>"
      ],
      "metadata": {
        "id": "BSRS8_hE2Th4"
      }
    },
    {
      "cell_type": "markdown",
      "source": [
        "<h2>Needed packages</h2>"
      ],
      "metadata": {
        "id": "-TnPk18K6mfY"
      }
    },
    {
      "cell_type": "code",
      "execution_count": 140,
      "metadata": {
        "id": "zwnM4_x5w-C6"
      },
      "outputs": [],
      "source": [
        "import numpy as np\n",
        "import random\n",
        "from scipy.optimize import least_squares, fmin\n",
        "from scipy.spatial.distance import cdist\n",
        "from scipy.stats import gaussian_kde\n",
        "import matplotlib.pyplot as plt\n",
        "import pandas as pd\n",
        "import math"
      ]
    },
    {
      "cell_type": "markdown",
      "source": [
        "<h1><strong>Exercise 9.5:</strong> Singular values</h1>\n",
        "Generate an nxn matrix, denoted by C, where each entry is 1 with probability p and 0 otherwise. Use the linear algebra library of Scipy to compute the singular values of C. What can you say about the relationship between n, p and the largest singular value?\n",
        "\n"
      ],
      "metadata": {
        "id": "0GSRaB-62247"
      }
    },
    {
      "cell_type": "markdown",
      "source": [
        "<h2> Largest singular value of a matrix C is almost same with n x p. </h2>"
      ],
      "metadata": {
        "id": "po7lcxdLDXVp"
      }
    },
    {
      "cell_type": "code",
      "source": [
        "# For loop to simulate different sizes\n",
        "for n in range(10, 110, 20):\n",
        "  # For loop to simulate different p probability\n",
        "  for i in range(0, 11, 1):\n",
        "    # Create C matrix with current n and p values.\n",
        "    C = np.random.binomial(n=1, p=i/10, size=(n, n))\n",
        "    # Scipy library svd function to find singular values of matrix C\n",
        "    U, s, Vh = np.linalg.svd(C)\n",
        "    # Print p, n and s values to compare\n",
        "    print(f\"p = {i/10}\")\n",
        "    print(f\"n = {n}\")\n",
        "    print(f\"s = {s[0]}\")\n",
        "    print(\"-----------------------------------------------------------------------------\")"
      ],
      "metadata": {
        "colab": {
          "base_uri": "https://localhost:8080/"
        },
        "id": "7nuE7_2ZBIif",
        "outputId": "4d2313f2-71d5-498d-ffc8-a185791195a6"
      },
      "execution_count": 167,
      "outputs": [
        {
          "output_type": "stream",
          "name": "stdout",
          "text": [
            "p = 0.0\n",
            "n = 10\n",
            "s = 0.0\n",
            "-----------------------------------------------------------------------------\n",
            "p = 0.1\n",
            "n = 10\n",
            "s = 1.98288972274762\n",
            "-----------------------------------------------------------------------------\n",
            "p = 0.2\n",
            "n = 10\n",
            "s = 2.562445587377251\n",
            "-----------------------------------------------------------------------------\n",
            "p = 0.3\n",
            "n = 10\n",
            "s = 4.221100383408113\n",
            "-----------------------------------------------------------------------------\n",
            "p = 0.4\n",
            "n = 10\n",
            "s = 4.286211287511008\n",
            "-----------------------------------------------------------------------------\n",
            "p = 0.5\n",
            "n = 10\n",
            "s = 4.557974185467321\n",
            "-----------------------------------------------------------------------------\n",
            "p = 0.6\n",
            "n = 10\n",
            "s = 6.266669394733329\n",
            "-----------------------------------------------------------------------------\n",
            "p = 0.7\n",
            "n = 10\n",
            "s = 6.334862734947987\n",
            "-----------------------------------------------------------------------------\n",
            "p = 0.8\n",
            "n = 10\n",
            "s = 8.20326036621384\n",
            "-----------------------------------------------------------------------------\n",
            "p = 0.9\n",
            "n = 10\n",
            "s = 8.733249177783236\n",
            "-----------------------------------------------------------------------------\n",
            "p = 1.0\n",
            "n = 10\n",
            "s = 9.999999999999996\n",
            "-----------------------------------------------------------------------------\n",
            "p = 0.0\n",
            "n = 30\n",
            "s = 0.0\n",
            "-----------------------------------------------------------------------------\n",
            "p = 0.1\n",
            "n = 30\n",
            "s = 3.3726895853055416\n",
            "-----------------------------------------------------------------------------\n",
            "p = 0.2\n",
            "n = 30\n",
            "s = 6.76260862573604\n",
            "-----------------------------------------------------------------------------\n",
            "p = 0.3\n",
            "n = 30\n",
            "s = 9.258071537821083\n",
            "-----------------------------------------------------------------------------\n",
            "p = 0.4\n",
            "n = 30\n",
            "s = 13.002408886803854\n",
            "-----------------------------------------------------------------------------\n",
            "p = 0.5\n",
            "n = 30\n",
            "s = 15.642761074418553\n",
            "-----------------------------------------------------------------------------\n",
            "p = 0.6\n",
            "n = 30\n",
            "s = 17.75707271967322\n",
            "-----------------------------------------------------------------------------\n",
            "p = 0.7\n",
            "n = 30\n",
            "s = 21.694511205091043\n",
            "-----------------------------------------------------------------------------\n",
            "p = 0.8\n",
            "n = 30\n",
            "s = 24.263309888031387\n",
            "-----------------------------------------------------------------------------\n",
            "p = 0.9\n",
            "n = 30\n",
            "s = 26.912761185512576\n",
            "-----------------------------------------------------------------------------\n",
            "p = 1.0\n",
            "n = 30\n",
            "s = 30.000000000000004\n",
            "-----------------------------------------------------------------------------\n",
            "p = 0.0\n",
            "n = 50\n",
            "s = 0.0\n",
            "-----------------------------------------------------------------------------\n",
            "p = 0.1\n",
            "n = 50\n",
            "s = 6.045526838586844\n",
            "-----------------------------------------------------------------------------\n",
            "p = 0.2\n",
            "n = 50\n",
            "s = 11.419445117043992\n",
            "-----------------------------------------------------------------------------\n",
            "p = 0.3\n",
            "n = 50\n",
            "s = 14.865672430850896\n",
            "-----------------------------------------------------------------------------\n",
            "p = 0.4\n",
            "n = 50\n",
            "s = 21.526685500712496\n",
            "-----------------------------------------------------------------------------\n",
            "p = 0.5\n",
            "n = 50\n",
            "s = 25.82145215404671\n",
            "-----------------------------------------------------------------------------\n",
            "p = 0.6\n",
            "n = 50\n",
            "s = 29.86376195693933\n",
            "-----------------------------------------------------------------------------\n",
            "p = 0.7\n",
            "n = 50\n",
            "s = 36.5083290652415\n",
            "-----------------------------------------------------------------------------\n",
            "p = 0.8\n",
            "n = 50\n",
            "s = 40.13304491353569\n",
            "-----------------------------------------------------------------------------\n",
            "p = 0.9\n",
            "n = 50\n",
            "s = 44.86475385411571\n",
            "-----------------------------------------------------------------------------\n",
            "p = 1.0\n",
            "n = 50\n",
            "s = 50.00000000000001\n",
            "-----------------------------------------------------------------------------\n",
            "p = 0.0\n",
            "n = 70\n",
            "s = 0.0\n",
            "-----------------------------------------------------------------------------\n",
            "p = 0.1\n",
            "n = 70\n",
            "s = 8.304325813275225\n",
            "-----------------------------------------------------------------------------\n",
            "p = 0.2\n",
            "n = 70\n",
            "s = 14.88423842829987\n",
            "-----------------------------------------------------------------------------\n",
            "p = 0.3\n",
            "n = 70\n",
            "s = 21.875952425069094\n",
            "-----------------------------------------------------------------------------\n",
            "p = 0.4\n",
            "n = 70\n",
            "s = 28.811192592517802\n",
            "-----------------------------------------------------------------------------\n",
            "p = 0.5\n",
            "n = 70\n",
            "s = 35.401184249654804\n",
            "-----------------------------------------------------------------------------\n",
            "p = 0.6\n",
            "n = 70\n",
            "s = 42.796493108503896\n",
            "-----------------------------------------------------------------------------\n",
            "p = 0.7\n",
            "n = 70\n",
            "s = 49.140589721555095\n",
            "-----------------------------------------------------------------------------\n",
            "p = 0.8\n",
            "n = 70\n",
            "s = 56.09371038760164\n",
            "-----------------------------------------------------------------------------\n",
            "p = 0.9\n",
            "n = 70\n",
            "s = 63.794944140782114\n",
            "-----------------------------------------------------------------------------\n",
            "p = 1.0\n",
            "n = 70\n",
            "s = 70.0\n",
            "-----------------------------------------------------------------------------\n",
            "p = 0.0\n",
            "n = 90\n",
            "s = 0.0\n",
            "-----------------------------------------------------------------------------\n",
            "p = 0.1\n",
            "n = 90\n",
            "s = 9.99385744713462\n",
            "-----------------------------------------------------------------------------\n",
            "p = 0.2\n",
            "n = 90\n",
            "s = 18.384437697036716\n",
            "-----------------------------------------------------------------------------\n",
            "p = 0.3\n",
            "n = 90\n",
            "s = 28.164290899846296\n",
            "-----------------------------------------------------------------------------\n",
            "p = 0.4\n",
            "n = 90\n",
            "s = 36.49982344749377\n",
            "-----------------------------------------------------------------------------\n",
            "p = 0.5\n",
            "n = 90\n",
            "s = 46.21887925904315\n",
            "-----------------------------------------------------------------------------\n",
            "p = 0.6\n",
            "n = 90\n",
            "s = 54.754103377245634\n",
            "-----------------------------------------------------------------------------\n",
            "p = 0.7\n",
            "n = 90\n",
            "s = 63.60857153237934\n",
            "-----------------------------------------------------------------------------\n",
            "p = 0.8\n",
            "n = 90\n",
            "s = 71.1696772604775\n",
            "-----------------------------------------------------------------------------\n",
            "p = 0.9\n",
            "n = 90\n",
            "s = 80.87542973524421\n",
            "-----------------------------------------------------------------------------\n",
            "p = 1.0\n",
            "n = 90\n",
            "s = 90.0\n",
            "-----------------------------------------------------------------------------\n"
          ]
        }
      ]
    },
    {
      "cell_type": "markdown",
      "source": [
        "<h1><strong>Exercise 10.1:</strong> Least squares</h1>\n",
        "Generate matrix A ∈ Rᵐ×ⁿ with m > n.  Also generate some vector b ∈ Rᵐ.\n",
        "\n",
        "Now find x = arg minₓ /Ax − b/₂.\n",
        "\n",
        "Print the norm of the residual.\n",
        "\n",
        "\n"
      ],
      "metadata": {
        "id": "tR_nB4fmYniH"
      }
    },
    {
      "cell_type": "code",
      "source": [
        "# Dimensions of the matrix\n",
        "m = 50\n",
        "n = 40"
      ],
      "metadata": {
        "id": "vNxMDKw-aOe_"
      },
      "execution_count": 59,
      "outputs": []
    },
    {
      "cell_type": "code",
      "source": [
        "# Creating A and b matrices.\n",
        "# Values of these matrices are between -100 and 100\n",
        "A = np.random.randint(-100, 100, size = (m, n))\n",
        "b = np.random.randint(-100, 100, size = m)\n",
        "\n",
        "print(A)\n",
        "print(b)"
      ],
      "metadata": {
        "colab": {
          "base_uri": "https://localhost:8080/"
        },
        "id": "gfCTo1oKaIe0",
        "outputId": "fac4c8cd-ad70-440e-875e-31af1de31126"
      },
      "execution_count": 60,
      "outputs": [
        {
          "output_type": "stream",
          "name": "stdout",
          "text": [
            "[[-48 -81  67 ... -38 -77 -31]\n",
            " [-92 -32  80 ...  56 -23 -37]\n",
            " [-15 -33 -44 ... -52  78  29]\n",
            " ...\n",
            " [-67 -84 -41 ... -57  16 -23]\n",
            " [  3  64  71 ... -33  24   6]\n",
            " [-23 -75  81 ...  28 -94  13]]\n",
            "[-52  99   5   4  90 -39  80 -78  91  49 -33 -97  46 -13 -40  80   1 -52\n",
            "  31  50   5  73  95  14 -65  81  57  96   8 -40  -1  22  31 -42 -48 -59\n",
            " -87 -32  20  39  82 -82 -23  63 -64  16  44  63   9   3]\n"
          ]
        }
      ]
    },
    {
      "cell_type": "code",
      "source": [
        "# A function that returns result of Ax-b equation\n",
        "def fun(x):\n",
        "  return A@x - b"
      ],
      "metadata": {
        "id": "4oY5dtOxb2sG"
      },
      "execution_count": 61,
      "outputs": []
    },
    {
      "cell_type": "code",
      "source": [
        "# Create a initial x matrix to start with\n",
        "x = np.random.randint(-100, 100, size = n)\n",
        "\n",
        "# Calculate residuals by scipy least_squares function\n",
        "res = least_squares(fun, x)\n",
        "\n",
        "print(res.optimality)"
      ],
      "metadata": {
        "colab": {
          "base_uri": "https://localhost:8080/"
        },
        "id": "5cKMS2lPaawk",
        "outputId": "99d91fef-e36a-4d53-b6fd-82d5a1a049db"
      },
      "execution_count": 62,
      "outputs": [
        {
          "output_type": "stream",
          "name": "stdout",
          "text": [
            "2.319211489520967e-11\n"
          ]
        }
      ]
    },
    {
      "cell_type": "markdown",
      "source": [
        "<h1><strong>Exercise 10.2:</strong> Optimization</h1>\n",
        "Find the maximum of the function\n",
        "\n",
        "![image.png](data:image/png;base64,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)\n",
        "\n",
        "\n",
        "\n"
      ],
      "metadata": {
        "id": "QC9B9lMVhZWu"
      }
    },
    {
      "cell_type": "code",
      "source": [
        "# Negative of the given function. Negative because we are trying to find maximum\n",
        "# value of the function, therefore we get the negative of the function and \n",
        "# try to find min value instead.\n",
        "def negative_f(x):\n",
        "  return -1 * (math.sin(x -2) ** 2) * math.exp(-1 * (x ** 2))"
      ],
      "metadata": {
        "id": "Zx-ri4n3bQ_n"
      },
      "execution_count": 63,
      "outputs": []
    },
    {
      "cell_type": "code",
      "source": [
        "max_x = fmin(negative_f, 0)\n",
        "print(max_x)"
      ],
      "metadata": {
        "colab": {
          "base_uri": "https://localhost:8080/"
        },
        "id": "jkaRVzffiKss",
        "outputId": "9853c4bf-96e9-4b75-ad69-31d18138caf0"
      },
      "execution_count": 64,
      "outputs": [
        {
          "output_type": "stream",
          "name": "stdout",
          "text": [
            "Optimization terminated successfully.\n",
            "         Current function value: -0.911685\n",
            "         Iterations: 20\n",
            "         Function evaluations: 40\n"
          ]
        }
      ]
    },
    {
      "cell_type": "markdown",
      "source": [
        "<h1><strong>Exercise 10.3:</strong> Pairwise distances</h1>\n",
        "Let X  be a matrix with n rows and m columns.  How can you compute the pairwise distances between every two rows?\n",
        "\n",
        "As  an  example  application,  consider  n cities,  and  we  are  given  their  coordinates  in two  columns.  Now we want a nice table that tells us for each two cities, how far they are apart.\n",
        "\n",
        "Again, make sure you make use of Scipy’s functionality instead of writing your own routine.\n",
        "\n",
        "\n",
        "\n",
        "\n"
      ],
      "metadata": {
        "id": "rh55mJGzjX6n"
      }
    },
    {
      "cell_type": "code",
      "source": [
        "# Creating a X matrix that has values between -100 and 100 with size of (n, m)\n",
        "X = np.random.randint(-100, 100, size = (n, m))"
      ],
      "metadata": {
        "id": "c_1j467xjiek"
      },
      "execution_count": 65,
      "outputs": []
    },
    {
      "cell_type": "code",
      "source": [
        "# Print X matrix we just created\n",
        "print(X)"
      ],
      "metadata": {
        "colab": {
          "base_uri": "https://localhost:8080/"
        },
        "id": "d-Wspx4wj9j5",
        "outputId": "f417dbba-5531-4f84-fda4-4ed472dbdd24"
      },
      "execution_count": 67,
      "outputs": [
        {
          "output_type": "stream",
          "name": "stdout",
          "text": [
            "[[ 69  80  13 ...  13  84  22]\n",
            " [  9 -76  37 ... -97   5  18]\n",
            " [ 72  29  57 ...  49  67  24]\n",
            " ...\n",
            " [-46  93 -15 ... -93 -42  63]\n",
            " [ 58  11 -77 ...  65  99 -69]\n",
            " [ 48  -2 -58 ... -22   1 -39]]\n"
          ]
        }
      ]
    },
    {
      "cell_type": "code",
      "source": [
        "# Calculate distance of two rows pair\n",
        "dm = cdist(X, X, 'euclidean')"
      ],
      "metadata": {
        "id": "MAtQ6O2hir9z"
      },
      "execution_count": 66,
      "outputs": []
    },
    {
      "cell_type": "code",
      "source": [
        "# Print raw array of distances\n",
        "print(dm)"
      ],
      "metadata": {
        "colab": {
          "base_uri": "https://localhost:8080/"
        },
        "id": "XWTQjxTLjoQK",
        "outputId": "e990fe9e-1941-40a0-dcbb-401fb196d2dd"
      },
      "execution_count": 68,
      "outputs": [
        {
          "output_type": "stream",
          "name": "stdout",
          "text": [
            "[[  0.         566.58450385 501.27138358 ... 631.17509457 541.52469934\n",
            "  493.77727773]\n",
            " [566.58450385   0.         636.71108048 ... 566.44858549 534.3154499\n",
            "  608.80210249]\n",
            " [501.27138358 636.71108048   0.         ... 611.42701936 618.31221887\n",
            "  589.42599196]\n",
            " ...\n",
            " [631.17509457 566.44858549 611.42701936 ...   0.         648.60080173\n",
            "  568.49098498]\n",
            " [541.52469934 534.3154499  618.31221887 ... 648.60080173   0.\n",
            "  584.94358702]\n",
            " [493.77727773 608.80210249 589.42599196 ... 568.49098498 584.94358702\n",
            "    0.        ]]\n"
          ]
        }
      ]
    },
    {
      "cell_type": "code",
      "source": [
        "# Table view with pandas Dataframe\n",
        "pd.set_option('display.width', dm.shape[0] * dm.shape[1])\n",
        "print(pd.DataFrame(dm))"
      ],
      "metadata": {
        "colab": {
          "base_uri": "https://localhost:8080/"
        },
        "id": "mATG5vCUj2s6",
        "outputId": "b6c9d3c2-c6cc-4188-a899-3201ae8065c9"
      },
      "execution_count": 74,
      "outputs": [
        {
          "output_type": "stream",
          "name": "stdout",
          "text": [
            "            0           1           2           3           4           5           6           7           8           9           10          11          12          13          14          15          16          17          18          19          20          21          22          23          24          25          26          27          28          29          30          31          32          33          34          35          36          37          38          39\n",
            "0     0.000000  566.584504  501.271384  581.234892  555.638372  646.238346  561.771306  549.173015  543.960477  661.672124  572.076918  496.049393  600.979201  594.577161  586.235448  503.281234  640.363178  532.098675  620.373275  580.127572  596.060400  624.209100  569.069416  578.925729  508.220425  522.451912  584.923072  620.222541  497.730851  562.544220  540.964879  664.026355  494.732251  534.518475  471.750994  574.019163  570.157873  631.175095  541.524699  493.777278\n",
            "1   566.584504    0.000000  636.711080  533.256036  571.714964  564.448403  546.484218  569.693777  498.542877  558.000000  498.355295  569.267073  532.937145  551.461694  604.904951  532.685648  531.384042  593.320318  586.836434  512.768954  534.089880  608.392143  478.455850  565.376865  584.889733  570.152611  663.339280  588.299244  592.113165  547.282377  564.055848  545.885519  601.115629  573.426543  483.827449  533.497891  612.001634  566.448585  534.315450  608.802102\n",
            "2   501.271384  636.711080    0.000000  576.785055  641.732810  582.878203  625.192770  559.081389  646.544662  605.094208  700.050712  543.722356  665.760467  546.438469  568.113545  586.019624  597.770859  457.506284  603.186538  592.746995  607.931740  630.656800  601.342664  593.570552  570.929943  574.577236  621.076485  644.606081  485.074221  592.348715  617.606671  608.368309  566.828898  588.600883  582.619945  635.138568  691.000000  611.427019  618.312219  589.425992\n",
            "3   581.234892  533.256036  576.785055    0.000000  601.250364  488.075814  583.126916  490.158138  452.262092  550.739503  548.176979  526.445629  578.171255  614.071657  530.182987  534.823335  565.665095  557.506054  609.045975  528.978260  544.676051  562.852556  447.857120  471.553815  499.265460  521.911870  532.153173  575.643987  522.354286  453.859009  537.969330  528.154334  534.613879  517.223356  507.508621  509.964705  622.454818  560.108918  554.100171  527.499763\n",
            "4   555.638372  571.714964  641.732810  601.250364    0.000000  679.240753  560.088386  571.710591  594.248265  657.595620  554.111902  642.158080  603.706883  635.889928  538.791240  643.261999  586.330112  645.155020  653.529647  640.356151  616.465733  618.526475  540.116654  580.424844  599.598199  558.000000  607.986020  605.783790  607.911178  574.195089  590.419343  652.908110  573.879778  546.958865  579.735284  619.412625  633.089251  636.707154  559.384483  650.507494\n",
            "5   646.238346  564.448403  582.878203  488.075814  679.240753    0.000000  614.531529  634.048105  579.895680  558.838080  614.722702  630.564033  626.676950  566.498014  583.141492  601.391719  586.930149  531.402860  686.735029  591.043146  559.388952  542.668407  574.917385  522.728419  546.554663  530.462063  602.923710  608.050985  535.594996  514.470602  618.125392  587.881791  569.257411  555.108998  450.103321  589.691445  620.396647  564.306654  575.166932  550.835729\n",
            "6   561.771306  546.484218  625.192770  583.126916  560.088386  614.531529    0.000000  539.672123  481.887954  568.340567  603.155867  557.842272  574.918255  568.614984  521.433601  579.319428  534.499766  585.241830  568.930576  533.446342  498.167642  603.145090  543.848324  526.049427  540.073143  572.046327  565.280461  511.959959  599.420554  483.947311  546.722965  575.033912  555.883981  600.020833  542.276682  569.704309  585.058117  539.989815  526.761806  581.512683\n",
            "7   549.173015  569.693777  559.081389  490.158138  571.710591  634.048105  539.672123    0.000000  520.228796  610.515356  555.876785  567.007936  601.543847  633.929807  497.058347  538.617675  472.785364  530.167898  591.476120  524.607472  526.259442  560.747715  451.139668  457.372933  493.883590  523.483524  490.177519  587.180551  530.283886  475.244148  589.005942  505.725222  525.521646  586.971038  560.986631  510.406701  629.276569  589.006791  484.167326  606.826993\n",
            "8   543.960477  498.542877  646.544662  452.262092  594.248265  579.895680  481.887954  520.228796    0.000000  588.267796  570.106130  568.077460  613.337591  623.859760  569.972806  469.783993  580.411923  522.727462  560.091064  487.929298  496.031249  628.779771  460.633260  568.153148  514.378265  537.610454  520.734097  551.078034  549.140237  458.500818  530.350827  461.506230  538.723491  529.355268  530.188646  479.705118  553.769808  496.577285  584.114715  546.004579\n",
            "9   661.672124  558.000000  605.094208  550.739503  657.595620  558.838080  568.340567  610.515356  588.267796    0.000000  543.490570  618.084946  608.307488  584.935894  614.208434  623.490176  571.344905  581.330371  525.601560  636.325388  597.692228  553.153686  562.942271  539.122435  561.814916  617.592098  622.985554  562.170793  536.427069  633.401926  584.599863  477.580360  639.418486  589.783011  604.598214  631.772111  662.175203  596.280136  596.084726  671.550445\n",
            "10  572.076918  498.355295  700.050712  548.176979  554.111902  614.722702  603.155867  555.876785  570.106130  543.490570    0.000000  602.645003  553.479900  639.678044  550.839360  624.619884  564.890255  647.829453  636.046382  629.340925  585.745679  558.563336  527.406864  597.910528  539.292129  567.023809  579.001727  598.563280  584.566506  577.357775  524.677996  588.147090  564.366902  569.078202  496.947683  530.639237  551.296653  602.884732  515.461929  574.565923\n",
            "11  496.049393  569.267073  543.722356  526.445629  642.158080  630.564033  557.842272  567.007936  568.077460  618.084946  602.645003    0.000000  609.692545  519.194569  562.056047  500.564681  605.400694  595.862400  595.466204  557.943546  608.286939  565.329992  524.050570  550.287198  487.796064  504.716752  612.718532  476.674942  561.016043  564.922119  535.099991  629.952379  495.068682  582.692887  538.009294  591.651080  624.726340  650.200738  545.213720  532.684710\n",
            "12  600.979201  532.937145  665.760467  578.171255  603.706883  626.676950  574.918255  601.543847  613.337591  608.307488  553.479900  609.692545    0.000000  604.259878  569.050086  651.923308  572.753874  604.915697  630.896980  617.745902  566.662157  593.473673  535.824598  531.760284  590.221992  542.070106  624.303612  568.837411  625.920123  591.944254  570.535713  629.861096  560.455172  537.354632  508.185990  553.165436  629.237634  594.031986  569.505926  546.605891\n",
            "13  594.577161  551.461694  546.438469  614.071657  635.889928  566.498014  568.614984  633.929807  623.859760  584.935894  639.678044  519.194569  604.259878    0.000000  551.020871  536.538908  513.983463  513.533835  580.991394  629.809495  602.884732  571.937934  583.167214  569.739414  641.170804  564.313743  541.521006  519.803809  522.471052  598.272513  643.655964  564.482949  547.527168  542.370722  467.214084  570.759144  606.036303  643.793445  548.870659  658.041032\n",
            "14  586.235448  604.904951  568.113545  530.182987  538.791240  583.141492  521.433601  497.058347  569.972806  614.208434  550.839360  562.056047  569.050086  551.020871    0.000000  596.432729  497.850379  557.592145  591.030456  594.134665  581.890024  539.357952  540.705095  541.094262  552.959311  557.350877  514.932034  541.795164  505.250433  500.701508  558.695803  563.015986  569.322404  572.288389  535.194357  547.254968  584.499786  594.617524  538.912794  604.460090\n",
            "15  503.281234  532.685648  586.019624  534.823335  643.261999  601.391719  579.319428  538.617675  469.783993  623.490176  624.619884  500.564681  651.923308  536.538908  596.432729    0.000000  569.651648  542.141126  520.823387  509.956861  566.236700  613.016313  572.047201  625.548559  614.442837  492.446951  517.778910  594.447643  506.357581  503.751923  552.187468  622.495783  549.013661  500.585657  506.575759  574.551999  608.767608  608.488291  616.130668  542.418657\n",
            "16  640.363178  531.384042  597.770859  565.665095  586.330112  586.930149  534.499766  472.785364  580.411923  571.344905  564.890255  605.400694  572.753874  513.983463  497.850379  569.651648    0.000000  501.449898  588.295844  558.242779  575.771656  621.882626  521.260971  508.478121  571.180357  561.582585  527.645714  518.622213  514.331605  508.022637  557.801040  508.900776  555.237787  533.718090  523.023900  531.357695  593.728052  552.084233  498.598034  630.973058\n",
            "17  532.098675  593.320318  457.506284  557.506054  645.155020  531.402860  585.241830  530.167898  522.727462  581.330371  647.829453  595.862400  604.915697  513.533835  557.592145  542.141126  501.449898    0.000000  601.217099  594.015993  592.888691  629.518864  550.444366  549.659895  595.918619  566.562441  548.164209  606.881372  453.930611  509.538026  587.080914  533.250410  510.069603  533.834244  535.858190  553.131991  581.942437  574.213375  588.812364  580.102577\n",
            "18  620.373275  586.836434  603.186538  609.045975  653.529647  686.735029  568.930576  591.476120  560.091064  525.601560  636.046382  595.466204  630.896980  580.991394  591.030456  520.823387  588.295844  601.217099    0.000000  478.672122  525.864051  652.087417  575.234735  642.165088  603.545359  629.309940  569.443588  573.013961  552.276199  618.340521  630.802663  515.571528  640.901709  610.744627  626.614714  624.982400  628.772614  631.590849  543.497930  598.323491\n",
            "19  580.127572  512.768954  592.746995  528.978260  640.356151  591.043146  533.446342  524.607472  487.929298  636.325388  629.340925  557.943546  617.745902  629.809495  594.134665  509.956861  558.242779  594.015993  478.672122    0.000000  509.450685  597.868715  453.823754  611.600360  541.287354  535.445609  561.342142  567.309439  569.343482  404.917276  575.806391  531.935146  572.153825  571.548773  531.222176  547.494292  598.264156  580.876923  484.478070  515.542433\n",
            "20  596.060400  534.089880  607.931740  544.676051  616.465733  559.388952  498.167642  526.259442  496.031249  597.692228  585.745679  608.286939  566.662157  602.884732  581.890024  566.236700  575.771656  592.888691  525.864051  509.450685    0.000000  564.034573  521.292624  506.074105  575.157370  544.444671  532.673446  592.690476  556.426096  524.316698  579.614527  531.355813  531.559968  610.581690  545.588673  507.968503  527.708253  523.232262  538.030668  537.568600\n",
            "21  624.209100  608.392143  630.656800  562.852556  618.526475  542.668407  603.145090  560.747715  628.779771  553.153686  558.563336  565.329992  593.473673  571.937934  539.357952  613.016313  621.882626  629.518864  652.087417  597.868715  564.034573    0.000000  517.608926  534.473573  532.827364  566.343535  563.648827  547.034734  573.620955  533.560681  537.019553  620.340229  513.761618  558.676114  544.584245  563.600035  540.269377  646.421689  543.326789  600.725395\n",
            "22  569.069416  478.455850  601.342664  447.857120  540.116654  574.917385  543.848324  451.139668  460.633260  562.942271  527.406864  524.050570  535.824598  583.167214  540.705095  572.047201  521.260971  550.444366  575.234735  453.823754  521.292624  517.608926    0.000000  435.913982  472.508201  466.611187  541.351088  446.103127  528.766489  418.088507  530.870041  475.559670  565.400743  549.315938  508.048226  449.835525  590.640330  503.012922  482.326653  570.224517\n",
            "23  578.925729  565.376865  593.570552  471.553815  580.424844  522.728419  526.049427  457.372933  568.153148  539.122435  597.910528  550.287198  531.760284  569.739414  541.094262  625.548559  508.478121  549.659895  642.165088  611.600360  506.074105  534.473573  435.913982    0.000000  474.068560  505.745984  546.001831  476.133385  520.418101  535.933765  498.333222  455.574363  558.516786  608.135676  512.887902  576.517996  599.640726  539.422840  555.537577  590.937391\n",
            "24  508.220425  584.889733  570.929943  499.265460  599.598199  546.554663  540.073143  493.883590  514.378265  561.814916  539.292129  487.796064  590.221992  641.170804  552.959311  614.442837  571.180357  595.918619  603.545359  541.287354  575.157370  532.827364  472.508201  474.068560    0.000000  555.069365  603.919697  549.181209  555.571778  552.436422  486.589149  548.396754  581.326070  509.095276  502.405215  546.146500  563.960992  533.647824  580.195657  480.301988\n",
            "25  522.451912  570.152611  574.577236  521.911870  558.000000  530.462063  572.046327  523.483524  537.610454  617.592098  567.023809  504.716752  542.070106  564.313743  557.350877  492.446951  561.582585  566.562441  629.309940  535.445609  544.444671  566.343535  466.611187  505.745984  555.069365    0.000000  500.462786  553.707504  523.830125  475.667951  566.207559  561.895898  544.123148  549.645340  456.855557  547.052100  612.886613  613.674181  531.097919  584.889733\n",
            "26  584.923072  663.339280  621.076485  532.153173  607.986020  602.923710  565.280461  490.177519  520.734097  622.985554  579.001727  612.718532  624.303612  541.521006  514.932034  517.778910  527.645714  548.164209  569.443588  561.342142  532.673446  563.648827  541.351088  546.001831  603.919697  500.462786    0.000000  588.510833  492.955373  528.894129  619.228552  516.538479  504.665236  599.700759  501.938243  483.722028  582.684306  579.044903  526.241389  606.855007\n",
            "27  620.222541  588.299244  644.606081  575.643987  605.783790  608.050985  511.959959  587.180551  551.078034  562.170793  598.563280  476.674942  568.837411  519.803809  541.795164  594.447643  518.622213  606.881372  573.013961  567.309439  592.690476  547.034734  446.103127  476.133385  549.181209  553.707504  588.510833    0.000000  607.855246  562.812580  570.535713  547.274154  531.971804  600.054997  563.883853  596.214726  585.101701  566.328527  496.772584  612.122537\n",
            "28  497.730851  592.113165  485.074221  522.354286  607.911178  535.594996  599.420554  530.283886  549.140237  536.427069  584.566506  561.016043  625.920123  522.471052  505.250433  506.357581  514.331605  453.930611  552.276199  569.343482  556.426096  573.620955  528.766489  520.418101  555.571778  523.830125  492.955373  607.855246    0.000000  488.526355  579.124339  487.603322  526.347794  532.052629  477.894340  493.276799  485.137094  548.552641  505.708414  584.258504\n",
            "29  562.544220  547.282377  592.348715  453.859009  574.195089  514.470602  483.947311  475.244148  458.500818  633.401926  577.357775  564.922119  591.944254  598.272513  500.701508  503.751923  508.022637  509.538026  618.340521  404.917276  524.316698  533.560681  418.088507  535.933765  552.436422  475.667951  528.894129  562.812580  488.526355    0.000000  477.881785  547.074949  484.088835  530.286715  530.327257  511.919916  541.359400  556.760272  468.643788  523.822489\n",
            "30  540.964879  564.055848  617.606671  537.969330  590.419343  618.125392  546.722965  589.005942  530.350827  584.599863  524.677996  535.099991  570.535713  643.655964  558.695803  552.187468  557.801040  587.080914  630.802663  575.806391  579.614527  537.019553  530.870041  498.333222  486.589149  566.207559  619.228552  570.535713  579.124339  477.881785    0.000000  581.568569  528.372028  540.920512  516.193762  613.489201  591.804866  530.973634  649.127106  490.451832\n",
            "31  664.026355  545.885519  608.368309  528.154334  652.908110  587.881791  575.033912  505.725222  461.506230  477.580360  588.147090  629.952379  629.861096  564.482949  563.015986  622.495783  508.900776  533.250410  515.571528  531.935146  531.355813  620.340229  475.559670  455.574363  548.396754  561.895898  516.538479  547.274154  487.603322  547.074949  581.568569    0.000000  619.109845  610.310577  571.168977  550.477066  621.492558  513.317640  561.998221  677.302739\n",
            "32  494.732251  601.115629  566.828898  534.613879  573.879778  569.257411  555.883981  525.521646  538.723491  639.418486  564.366902  495.068682  560.455172  547.527168  569.322404  549.013661  555.237787  510.069603  640.901709  572.153825  531.559968  513.761618  565.400743  558.516786  581.326070  544.123148  504.665236  531.971804  526.347794  484.088835  528.372028  619.109845    0.000000  537.698800  478.784920  531.309703  479.762441  564.965486  502.924448  522.091946\n",
            "33  534.518475  573.426543  588.600883  517.223356  546.958865  555.108998  600.020833  586.971038  529.355268  589.783011  569.078202  582.692887  537.354632  542.370722  572.288389  500.585657  533.718090  533.834244  610.744627  571.548773  610.581690  558.676114  549.315938  608.135676  509.095276  549.645340  599.700759  600.054997  532.052629  530.286715  540.920512  610.310577  537.698800    0.000000  478.569744  549.643521  594.124566  613.181865  572.381866  515.614197\n",
            "34  471.750994  483.827449  582.619945  507.508621  579.735284  450.103321  542.276682  560.986631  530.188646  604.598214  496.947683  538.009294  508.185990  467.214084  535.194357  506.575759  523.023900  535.858190  626.614714  531.222176  545.588673  544.584245  508.048226  512.887902  502.405215  456.855557  501.938243  563.883853  477.894340  530.327257  516.193762  571.168977  478.784920  478.569744    0.000000  443.320426  518.220995  511.262164  533.940072  523.145295\n",
            "35  574.019163  533.497891  635.138568  509.964705  619.412625  589.691445  569.704309  510.406701  479.705118  631.772111  530.639237  591.651080  553.165436  570.759144  547.254968  574.551999  531.357695  553.131991  624.982400  547.494292  507.968503  563.600035  449.835525  576.517996  546.146500  547.052100  483.722028  596.214726  493.276799  511.919916  613.489201  550.477066  531.309703  549.643521  443.320426    0.000000  524.160281  543.034069  507.228745  610.915706\n",
            "36  570.157873  612.001634  691.000000  622.454818  633.089251  620.396647  585.058117  629.276569  553.769808  662.175203  551.296653  624.726340  629.237634  606.036303  584.499786  608.767608  593.728052  581.942437  628.772614  598.264156  527.708253  540.269377  590.640330  599.640726  563.960992  612.886613  582.684306  585.101701  485.137094  541.359400  591.804866  621.492558  479.762441  594.124566  518.220995  524.160281    0.000000  646.236799  557.572417  564.607828\n",
            "37  631.175095  566.448585  611.427019  560.108918  636.707154  564.306654  539.989815  589.006791  496.577285  596.280136  602.884732  650.200738  594.031986  643.793445  594.617524  608.488291  552.084233  574.213375  631.590849  580.876923  523.232262  646.421689  503.012922  539.422840  533.647824  613.674181  579.044903  566.328527  548.552641  556.760272  530.973634  513.317640  564.965486  613.181865  511.262164  543.034069  646.236799    0.000000  648.600802  568.490985\n",
            "38  541.524699  534.315450  618.312219  554.100171  559.384483  575.166932  526.761806  484.167326  584.114715  596.084726  515.461929  545.213720  569.505926  548.870659  538.912794  616.130668  498.598034  588.812364  543.497930  484.478070  538.030668  543.326789  482.326653  555.537577  580.195657  531.097919  526.241389  496.772584  505.708414  468.643788  649.127106  561.998221  502.924448  572.381866  533.940072  507.228745  557.572417  648.600802    0.000000  584.943587\n",
            "39  493.777278  608.802102  589.425992  527.499763  650.507494  550.835729  581.512683  606.826993  546.004579  671.550445  574.565923  532.684710  546.605891  658.041032  604.460090  542.418657  630.973058  580.102577  598.323491  515.542433  537.568600  600.725395  570.224517  590.937391  480.301988  584.889733  606.855007  612.122537  584.258504  523.822489  490.451832  677.302739  522.091946  515.614197  523.145295  610.915706  564.607828  568.490985  584.943587    0.000000\n"
          ]
        }
      ]
    },
    {
      "cell_type": "markdown",
      "source": [
        "<h1><strong>Exercise 11.1:</strong> Plotting a function</h1>\n",
        "\n",
        "![image.png](data:image/png;base64,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)\n",
        "\n",
        "\n",
        "\n",
        "\n",
        "\n"
      ],
      "metadata": {
        "id": "9OzPkt9OnJEv"
      }
    },
    {
      "cell_type": "code",
      "source": [
        "# Creating a function to return result of the function above\n",
        "def func_body(x):\n",
        "  return (math.sin(x -2) ** 2) * math.exp(-1 * (x ** 2))"
      ],
      "metadata": {
        "id": "hs0k-aczmQQa"
      },
      "execution_count": 88,
      "outputs": []
    },
    {
      "cell_type": "code",
      "source": [
        "# We vectorize the func_body so we can use it in plot function.\n",
        "# Otherwise we get error\n",
        "f = np.vectorize(func_body)"
      ],
      "metadata": {
        "id": "iqMiDnzOo6tX"
      },
      "execution_count": 90,
      "outputs": []
    },
    {
      "cell_type": "code",
      "source": [
        "# Creating a equally spaced X axis vector, so we can\n",
        "# plot our function\n",
        "x_axis = np.linspace(0, 2, 500)\n",
        "\n",
        "# Plot\n",
        "plt.plot(x_axis, f(x_axis))\n",
        "plt.title(\"Function\")\n",
        "plt.xlabel(\"X\")\n",
        "plt.ylabel(\"f(x)\")\n",
        "\n",
        "plt.show()"
      ],
      "metadata": {
        "colab": {
          "base_uri": "https://localhost:8080/",
          "height": 295
        },
        "id": "g8nA0VGGnZ4s",
        "outputId": "59fb6c2f-6209-4b18-e3d9-3fd4e9618955"
      },
      "execution_count": 93,
      "outputs": [
        {
          "output_type": "display_data",
          "data": {
            "text/plain": [
              "<Figure size 432x288 with 1 Axes>"
            ],
            "image/png": "[encoded data removed]"
          },
          "metadata": {
            "needs_background": "light"
          }
        }
      ]
    },
    {
      "cell_type": "markdown",
      "source": [
        "<h1><strong>Exercise 11.3:</strong> Histogram and density estimation</h1>\n",
        "Generate a vector z of 10000 observations from your favorite exotic distribution. Then make a plot that\n",
        "shows a histogram of z (with 25 bins), along with an estimate for the density, using a Gaussian kernel\n",
        "density estimator (see scipy.stats). See Figure 2 for an example plot.\n",
        "\n",
        "\n",
        "\n",
        "\n"
      ],
      "metadata": {
        "id": "-ycDV0P5EVlg"
      }
    },
    {
      "cell_type": "code",
      "source": [
        "# Creating a Gaussian Distrubition\n",
        "mu, sigma = 0.8, 0.15\n",
        "s = np.random.normal(mu, sigma, 10000)"
      ],
      "metadata": {
        "id": "G-jJdXEroBjp"
      },
      "execution_count": 158,
      "outputs": []
    },
    {
      "cell_type": "code",
      "source": [
        "# Plot histogram\n",
        "count, bins, ignored = plt.hist(s, 25, density=True)\n",
        "\n",
        "# Creating a density function with gaussian kernel distrubition estimator func.\n",
        "density = gaussian_kde(s)\n",
        "\n",
        "# Plot density function over histogram\n",
        "plt.plot(bins, density(bins), linewidth=2, color='r')\n",
        "\n",
        "# Show plot\n",
        "plt.show()"
      ],
      "metadata": {
        "colab": {
          "base_uri": "https://localhost:8080/",
          "height": 265
        },
        "id": "Sc31kbCAEt0j",
        "outputId": "2904bd35-293f-4909-8440-34c8bd4bff69"
      },
      "execution_count": 166,
      "outputs": [
        {
          "output_type": "display_data",
          "data": {
            "text/plain": [
              "<Figure size 432x288 with 1 Axes>"
            ],
            "image/png": "[encoded data removed]"
          },
          "metadata": {
            "needs_background": "light"
          }
        }
      ]
    }
  ]
}