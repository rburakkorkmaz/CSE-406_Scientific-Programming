{
  "cells": [
    {
      "cell_type": "markdown",
      "metadata": {
        "id": "view-in-github",
        "colab_type": "text"
      },
      "source": [
        "<a href=\"https://colab.research.google.com/github/rburakkorkmaz/CSE-406_Scientific-Programming/blob/main/KorkmazRamazanBurak_H1.ipynb\" target=\"_parent\"><img src=\"https://colab.research.google.com/assets/colab-badge.svg\" alt=\"Open In Colab\"/></a>"
      ]
    },
    {
      "cell_type": "markdown",
      "metadata": {
        "id": "RQKFbknTXBWT"
      },
      "source": [
        "# CME193 - Assignment 1\n",
        "\n",
        "In this assignment you will be learning about and implementing [Markov Chains](https://en.wikipedia.org/wiki/Markov_chain), if you have never heard  of them before, do not worry, this notebook will explain everything needed for the assignment.\n",
        "\n",
        "## Markov chains\n",
        "The best way to introduce what a Markov chain is with a simple example. Suppose you have a simple counter that you can set to any number between 0 and 9 (including 0 and 9). At every step you roll a standard 6 -sided die and depending on whether the rolled number is even or odd you either increment or decrement the counter. If you try to increment at 9, lets say it wraps around to 0 and similarly for trying to decrement at 0. Now you can play this game for multiple steps and record the counter value after every step, this is just a simple markov chain.\n",
        "\n",
        "Here is an example evolution of the markov chain,\n",
        "Start with counter at 1.\n",
        "- Step 1 : Roll a 4, its even so increment the counter to 2.\n",
        "- Step 2 : Roll a 2, its even so increment the counter to 3.\n",
        "- Step 3 : Roll a 5, its odd so decrement the counter to 2.\n",
        "\n",
        "etc.\n",
        "\n",
        "A markov chain consists of a set of n states (in our example it was the 10 states of the counter) and a probabilistic rule to jump to another state every step (the dice rolls). Although in our simple example we had a similar rule for each state, you can have a different rule for each state. For example you may say that if you the counter is odd, dont roll a die, always increment, and follow the die for even states. The rule is always in the form of n probabilities that sum to one. Each probability indicates the chance that it jumps to that state.\n",
        "\n",
        "In our example the rule for state 0 can be represented by the below numpy vector\n",
        "\n",
        "When you are in state 0, you have 50% chance of landing on state 1 (you rolled even) or a 50% chance of landing in state 9 ( you rolled odd and tried to decrement at 0)"
      ]
    },
    {
      "cell_type": "code",
      "execution_count": 1,
      "metadata": {
        "colab": {
          "base_uri": "https://localhost:8080/"
        },
        "id": "M7rO4iH4XBWZ",
        "outputId": "a6d13f76-1f7a-4fd3-b6ac-fcaee6ec942d"
      },
      "outputs": [
        {
          "output_type": "execute_result",
          "data": {
            "text/plain": [
              "array([0. , 0.5, 0. , 0. , 0. , 0. , 0. , 0. , 0. , 0.5])"
            ]
          },
          "metadata": {},
          "execution_count": 1
        }
      ],
      "source": [
        "import numpy as np\n",
        "np.array([0. , 0.5, 0. , 0. , 0. , 0. , 0. , 0. , 0. , 0.5])"
      ]
    },
    {
      "cell_type": "markdown",
      "metadata": {
        "id": "UxLvYamSXBWb"
      },
      "source": [
        "The index in the array represents the state and the value represents the probability with which you will jump to that state. Similarly this is the rule for state 4"
      ]
    },
    {
      "cell_type": "code",
      "execution_count": 2,
      "metadata": {
        "colab": {
          "base_uri": "https://localhost:8080/"
        },
        "id": "L2ySdbI9XBWb",
        "outputId": "baca48af-d81f-465b-8bb8-af06510d0be5"
      },
      "outputs": [
        {
          "output_type": "execute_result",
          "data": {
            "text/plain": [
              "array([0. , 0. , 0. , 0.5, 0. , 0.5, 0. , 0. , 0. , 0. ])"
            ]
          },
          "metadata": {},
          "execution_count": 2
        }
      ],
      "source": [
        "np.array([0. , 0. , 0. , 0.5, 0. , 0.5, 0. , 0. , 0. , 0. ])"
      ]
    },
    {
      "cell_type": "markdown",
      "metadata": {
        "id": "iIE72ojzXBWc"
      },
      "source": [
        "## Transition Matrix\n",
        "\n",
        "The way to represent markov chains is with a transition matrix $T$ of size (n,n), where the column i will the rule vector for the state i ( Here we are assuming that the states ae numbered 0 to n-1 ).\n",
        "\n",
        "Thus you can interpret the element $T_{ij}$ of the matrix as the probability you will jump to state i from the state j."
      ]
    },
    {
      "cell_type": "markdown",
      "metadata": {
        "id": "OkXnOc_iXBWc"
      },
      "source": [
        "## Question 1\n",
        "\n",
        "Write a function to return the transition matrix for the following markov chain, given the number of states as an argument.\n",
        "\n",
        "The rule for the markov chain is as follows,\n",
        "\n",
        "If current state is i (and if i is not n-1)\n",
        "1. With probability 0.6, it goes to state i+1\n",
        "2. With probability 0.1, it will fall back to state i = 0.\n",
        "2. With probability 0.3, it goes to state i-1 if i is at least 1. If i is instead 0 it stays at state 0.\n",
        "3. At state n-1, instead of the above operations we stay at state n-1 with probability 1\n",
        "\n",
        "Intuitively, this markov chain behaves in the following way, at every step there is an 60% chance that it climbs up by 1, a 10% chance that it falls down completely, and a 30% chance it falls down by 1. If it does reach the final state n-1, it stays there forever.\n",
        "\n",
        "You are **not** allowed to use any for loops for this question, instead use numpy indexing to fill in your matrix. You can assume that n is atleast 4.\n",
        "\n",
        "Hints:\n",
        "1. First write your code in an empty cell for with a hardcoded n value, in this way you can quickly iterate and get the right answer first. Then copy it into the function.\n",
        "2. You can use [Array indexing](https://docs.scipy.org/doc/numpy-1.13.0/user/basics.indexing.html#index-arrays)"
      ]
    },
    {
      "cell_type": "code",
      "execution_count": 3,
      "metadata": {
        "id": "heI2VFhQXBWd"
      },
      "outputs": [],
      "source": [
        "##### YOUR CODE HERE\n",
        "def transition_matrix(n):\n",
        "    reset_array = np.zeros((n, n))\n",
        "    reset_array[0,:-1] = 0.1\n",
        "\n",
        "    down_array = np.zeros((1, n*n))\n",
        "    \n",
        "    down_array[:, 1:n*(n-2):n+1] = 0.3\n",
        "    \n",
        "    down_array[0, 0] = 0.3\n",
        "    \n",
        "    down_array = down_array.reshape((n, n))\n",
        "\n",
        "\n",
        "    up_array = np.zeros((1, n*n))\n",
        "    up_array[:, 10: n*n: n+1] = 0.6\n",
        "    up_array = up_array.reshape((n, n))\n",
        "    up_array[-1, -1] = 1\n",
        "\n",
        "    # print(up_array)\n",
        "\n",
        "    return np.sum([reset_array, down_array, up_array], axis = 0)"
      ]
    },
    {
      "cell_type": "code",
      "source": [
        "transition_matrix(4)"
      ],
      "metadata": {
        "colab": {
          "base_uri": "https://localhost:8080/"
        },
        "id": "HLUAZZT7jOSb",
        "outputId": "2e543cd9-8de8-4ad0-9259-e7db9246720a"
      },
      "execution_count": 4,
      "outputs": [
        {
          "output_type": "execute_result",
          "data": {
            "text/plain": [
              "array([[0.4, 0.4, 0.1, 0. ],\n",
              "       [0. , 0. , 0.3, 0. ],\n",
              "       [0. , 0. , 0.6, 0. ],\n",
              "       [0. , 0. , 0. , 1. ]])"
            ]
          },
          "metadata": {},
          "execution_count": 4
        }
      ]
    },
    {
      "cell_type": "code",
      "execution_count": 5,
      "metadata": {
        "colab": {
          "base_uri": "https://localhost:8080/"
        },
        "id": "RcQVsAZFXBWe",
        "outputId": "f1ce53ca-6ef8-42e9-8fd0-165943d1c3fb"
      },
      "outputs": [
        {
          "output_type": "execute_result",
          "data": {
            "text/plain": [
              "array([[0.4, 0.4, 0.1, 0.1, 0.1, 0.1, 0.1, 0.1, 0.1, 0. ],\n",
              "       [0.6, 0. , 0.3, 0. , 0. , 0. , 0. , 0. , 0. , 0. ],\n",
              "       [0. , 0.6, 0. , 0.3, 0. , 0. , 0. , 0. , 0. , 0. ],\n",
              "       [0. , 0. , 0.6, 0. , 0.3, 0. , 0. , 0. , 0. , 0. ],\n",
              "       [0. , 0. , 0. , 0.6, 0. , 0.3, 0. , 0. , 0. , 0. ],\n",
              "       [0. , 0. , 0. , 0. , 0.6, 0. , 0.3, 0. , 0. , 0. ],\n",
              "       [0. , 0. , 0. , 0. , 0. , 0.6, 0. , 0.3, 0. , 0. ],\n",
              "       [0. , 0. , 0. , 0. , 0. , 0. , 0.6, 0. , 0.3, 0. ],\n",
              "       [0. , 0. , 0. , 0. , 0. , 0. , 0. , 0.6, 0. , 0. ],\n",
              "       [0. , 0. , 0. , 0. , 0. , 0. , 0. , 0. , 0.6, 1. ]])"
            ]
          },
          "metadata": {},
          "execution_count": 5
        }
      ],
      "source": [
        "#TESTING\n",
        "transition_matrix(10)"
      ]
    },
    {
      "cell_type": "markdown",
      "metadata": {
        "id": "1XMcoMFZXBWf"
      },
      "source": [
        "To test your function , check that the above returns \n",
        "```\n",
        "array([[0.4, 0.4, 0.1, 0.1, 0.1, 0.1, 0.1, 0.1, 0.1, 0. ],\n",
        "       [0.6, 0. , 0.3, 0. , 0. , 0. , 0. , 0. , 0. , 0. ],\n",
        "       [0. , 0.6, 0. , 0.3, 0. , 0. , 0. , 0. , 0. , 0. ],\n",
        "       [0. , 0. , 0.6, 0. , 0.3, 0. , 0. , 0. , 0. , 0. ],\n",
        "       [0. , 0. , 0. , 0.6, 0. , 0.3, 0. , 0. , 0. , 0. ],\n",
        "       [0. , 0. , 0. , 0. , 0.6, 0. , 0.3, 0. , 0. , 0. ],\n",
        "       [0. , 0. , 0. , 0. , 0. , 0.6, 0. , 0.3, 0. , 0. ],\n",
        "       [0. , 0. , 0. , 0. , 0. , 0. , 0.6, 0. , 0.3, 0. ],\n",
        "       [0. , 0. , 0. , 0. , 0. , 0. , 0. , 0.6, 0. , 0. ],\n",
        "       [0. , 0. , 0. , 0. , 0. , 0. , 0. , 0. , 0.6, 1. ]])\n",
        "```"
      ]
    },
    {
      "cell_type": "markdown",
      "metadata": {
        "id": "vUgj0bhxXBWg"
      },
      "source": [
        "## Question 2\n",
        "\n",
        "Now we want to use the transtion matrix to know what are the probabilites of being in each state after running the markov chain for k steps. For example, for the above markov chain, I want to know after 30 steps, what is the probablity that I have reached the state n-1.\n",
        "\n",
        "Luckily this is fairly easy to calculate, using matrix multiplication. An amazingly useful property of the transition matrix is as follows, if you have vector $p_j$ as the vector of probabilites after step $j$, then $p_{j+1}$ is given by the following matrix vector product.\n",
        "\n",
        "$$ p_{j+1} =  Tp_j $$\n",
        "\n",
        "We will not prove this result here, but if you spend some time thinking about what matrix multiplication is doing here, especially interpret it as taking a linear combination of columns then it should make sense.\n",
        "\n",
        "Thus if someone gave you a probability distribution for the starting state as $p_0$, then the probability distribtion after $k$ steps is simply given by multiplying by the transition matrix k times\n",
        "\n",
        "$$ p_{k} =  T^{k}p_0 $$\n",
        "\n",
        "Implement a function which given an initial distribution `p0`, number of steps `k` and a transition matrix `tm`, it will return the distribution after k steps"
      ]
    },
    {
      "cell_type": "code",
      "execution_count": 6,
      "metadata": {
        "id": "wVrDoEcTXBWh"
      },
      "outputs": [],
      "source": [
        "#YOUR CODE HERE\n",
        "def propagate(p0,k,tm):\n",
        "  pk = p0\n",
        "  for _ in range(k):\n",
        "    pk = np.matmul(tm, pk)\n",
        "  return pk\n"
      ]
    },
    {
      "cell_type": "code",
      "execution_count": 7,
      "metadata": {
        "colab": {
          "base_uri": "https://localhost:8080/"
        },
        "id": "I2unCRrzXBWi",
        "outputId": "95fa2519-a0d8-4806-8e40-19eb40e71fb3"
      },
      "outputs": [
        {
          "output_type": "execute_result",
          "data": {
            "text/plain": [
              "array([0.16029774, 0.13006664, 0.10561269, 0.08547506, 0.06947427,\n",
              "       0.05552321, 0.04450658, 0.03281234, 0.02049648, 0.29573499])"
            ]
          },
          "metadata": {},
          "execution_count": 7
        }
      ],
      "source": [
        "#TESTING\n",
        "tm = transition_matrix(10)\n",
        "p0 = np.zeros(10)\n",
        "p0[0] = 1\n",
        "pk = propagate(p0,30,tm)\n",
        "pk"
      ]
    },
    {
      "cell_type": "markdown",
      "metadata": {
        "id": "NSC-xgk5XBWi"
      },
      "source": [
        "The above code should return :\n",
        "\n",
        "```\n",
        "array([0.16029774, 0.13006664, 0.10561269, 0.08547506, 0.06947427,\n",
        "       0.05552321, 0.04450658, 0.03281234, 0.02049648, 0.29573499])\n",
        "```"
      ]
    },
    {
      "cell_type": "markdown",
      "metadata": {
        "id": "wkBw0aZYXBWj"
      },
      "source": [
        "## Question 3\n",
        "### Part a\n",
        "With this implementation of `propagate`, you can now compute the probability of being in each state of the markov chain after k steps. How many steps does it take for the probability of being in the final state to be at least 0.5?\n",
        "\n",
        "After each step the probability of being in the final state slowly increases: once we are in state n-1, we never leave. At some point this probability will cross 50%. What you need to calculate is how many steps does it take to cross 50%.\n",
        "\n",
        "Again use n=10 transition matrix and start from state 0.\n",
        "\n",
        "Hints:\n",
        "1. Use the while loop"
      ]
    },
    {
      "cell_type": "code",
      "execution_count": 8,
      "metadata": {
        "colab": {
          "base_uri": "https://localhost:8080/"
        },
        "id": "bLrsJuFvXBWk",
        "outputId": "da5df0cf-6d57-4ca5-e73e-4a0045c3273a"
      },
      "outputs": [
        {
          "output_type": "stream",
          "name": "stdout",
          "text": [
            "50\n"
          ]
        }
      ],
      "source": [
        "#YOUR CODE HERE\n",
        "count = 1\n",
        "tm = transition_matrix(10)\n",
        "p0 = np.zeros(10)\n",
        "p0[0] = 1\n",
        "while propagate(p0,count,tm)[-1] < 0.5:\n",
        "  count += 1\n",
        "\n",
        "print(count)"
      ]
    },
    {
      "cell_type": "markdown",
      "metadata": {
        "id": "qGEKwCnCXBWl"
      },
      "source": [
        "### Part b\n",
        "Convert the above Code into a function that computes the number of steps to 50% probability in the final state given `n` the size of the markov chain"
      ]
    },
    {
      "cell_type": "code",
      "execution_count": 9,
      "metadata": {
        "colab": {
          "base_uri": "https://localhost:8080/"
        },
        "id": "PmMP5YTIXBWl",
        "outputId": "a6d0c690-dabf-468e-d46c-4e156a21322e"
      },
      "outputs": [
        {
          "output_type": "execute_result",
          "data": {
            "text/plain": [
              "34"
            ]
          },
          "metadata": {},
          "execution_count": 9
        }
      ],
      "source": [
        "#YOUR CODE HERE\n",
        "def find_number_of_steps(tm):\n",
        "  p0 = np.zeros(len(tm))\n",
        "  p0[0] = 1\n",
        "  count = 1\n",
        "  while propagate(p0,count,tm)[-1] < 0.5:\n",
        "    count += 1\n",
        "\n",
        "  return count\n",
        "\n",
        "\n",
        "tm = transition_matrix(20)\n",
        "find_number_of_steps(tm)"
      ]
    },
    {
      "cell_type": "markdown",
      "metadata": {
        "id": "WZoDjcheXBWm"
      },
      "source": [
        "### Part c\n",
        "Compute and plot the number of steps required for $n$ ranging from 10 to 40.\n",
        "\n",
        "Lookup the plotting function `plt.semilogy`and understand what it does, plot another graph of the number of steps using it.\n",
        "\n",
        "What does the semilogy plot tell you?\n",
        "\n",
        "Save the plots as \"qsn3c.png\" and \"qsn3c_semilogy.png\"\n",
        "\n",
        "**Hint:** if your code takes a long time to run, your implementation of `num_steps` may need to be improved. If you  know the distribution after $j$ steps of the markov chain, is there a way to use it to compute the distribution after $j+1$ steps?"
      ]
    },
    {
      "cell_type": "code",
      "execution_count": 10,
      "metadata": {
        "colab": {
          "base_uri": "https://localhost:8080/",
          "height": 530
        },
        "id": "Suw6vEyiXBWm",
        "outputId": "f84714f7-f766-4b56-e320-684cf5f13135"
      },
      "outputs": [
        {
          "output_type": "execute_result",
          "data": {
            "text/plain": [
              "[<matplotlib.lines.Line2D at 0x7f16b7667a50>]"
            ]
          },
          "metadata": {},
          "execution_count": 10
        },
        {
          "output_type": "display_data",
          "data": {
            "text/plain": [
              "<Figure size 432x288 with 1 Axes>"
            ],
            "image/png": "[encoded data removed]"
          },
          "metadata": {
            "needs_background": "light"
          }
        },
        {
          "output_type": "display_data",
          "data": {
            "text/plain": [
              "<Figure size 432x288 with 1 Axes>"
            ],
            "image/png": "[encoded data removed]"
          },
          "metadata": {
            "needs_background": "light"
          }
        }
      ],
      "source": [
        "#YOUR CODE HERE\n",
        "import matplotlib.pyplot as plt\n",
        "\n",
        "result = []\n",
        "for n in range(10, 41):\n",
        "  tm = transition_matrix(n)\n",
        "  result.append(find_number_of_steps(tm))\n",
        "\n",
        "plt.plot(range(10, 41), result)\n",
        "plt.figure()\n",
        "plt.semilogy(range(10, 41), result)"
      ]
    },
    {
      "cell_type": "markdown",
      "metadata": {
        "id": "p88J_LsnXBWn"
      },
      "source": [
        "## Question 4\n",
        "\n",
        "### Part a\n",
        "Now we want to also compute some samples from the markov chain. What does this mean? Given a starting state, the Markov chain says that we move to various different states with some probabilities. We want to use randomness to choose what this next state is. Each call to the function will return a different answer, a new sample.\n",
        "\n",
        "For example consider the markov chain we have been using. It computes the next state by either adding 1 (with probability 0.6), subtracting 1 (probability 0.3), or going back to state 0 (probability 0.1) until it reaches the final state. Once it reaches the final state it stays there forever. If we were starting from state `4` of our Markov chain (for example), then we want to return `5` with probability 0.6, `3` with probability 0.3, and `0` with probability 0.1. \n",
        "\n",
        "Write a function `sample` which takes in a transition matrix `tm` and an initial state `s0` and samples a state to move to starting from `s0`. "
      ]
    },
    {
      "cell_type": "code",
      "execution_count": 11,
      "metadata": {
        "id": "oBRlkcfAXBWn"
      },
      "outputs": [],
      "source": [
        "import numpy.random as rnd\n",
        "import random"
      ]
    },
    {
      "cell_type": "code",
      "execution_count": 12,
      "metadata": {
        "id": "Gevs8ZkPXBWn"
      },
      "outputs": [],
      "source": [
        "#YOUR CODE HERE\n",
        "def sample(tm, s0):\n",
        "  row_index = [i for i in range(0, len(tm[:, s0]))]\n",
        "  return random.choices(row_index, weights=tm[:, s0], k=1)[0]\n",
        "        \n"
      ]
    },
    {
      "cell_type": "code",
      "source": [
        "tm = transition_matrix(10)\n",
        "for i in range(0 ,20):\n",
        "  result = sample(tm, 4)\n",
        "  print(result)"
      ],
      "metadata": {
        "colab": {
          "base_uri": "https://localhost:8080/"
        },
        "id": "Ho5353GP4qss",
        "outputId": "90e322fa-83dc-4c52-bd8a-f6430b5701de"
      },
      "execution_count": 13,
      "outputs": [
        {
          "output_type": "stream",
          "name": "stdout",
          "text": [
            "5\n",
            "3\n",
            "5\n",
            "3\n",
            "5\n",
            "0\n",
            "5\n",
            "3\n",
            "5\n",
            "5\n",
            "3\n",
            "3\n",
            "5\n",
            "5\n",
            "0\n",
            "3\n",
            "5\n",
            "0\n",
            "5\n",
            "3\n"
          ]
        }
      ]
    },
    {
      "cell_type": "markdown",
      "metadata": {
        "id": "pTjJCStzXBWo"
      },
      "source": [
        "Your implementation should **not** hard-code the probability values from the specific Markov chain we have been working with so far."
      ]
    },
    {
      "cell_type": "markdown",
      "metadata": {
        "id": "Xb_7Gme3XBWo"
      },
      "source": [
        "### part b\n",
        "\n",
        "With this implementation of `sample`, write a function `sample_k_steps` which runs a random walk in the chain for `k` steps from an initial state `s0`. The random walk works in the following way: we start from `s0` and sample a new state to move to. We then set that new state to be `s0` and sample a new state to move to from there, repeating this until we have stepped `k` times.\n",
        "\n",
        "As an example, in the chain we have been working with so far we can only add 1, subtract 1, or go to 0 each time we step until we reach state `n-1`. When we are in state `n-1` we stay there forever. Thus a potential sample of 25 steps in the `n=10` chain is\n",
        "```\n",
        "array([0,1,2,1,2,3,0,0,1,2,3,4,5,4,3,4,5,6,7,8,9,9,9,9,9,9])\n",
        "```\n",
        "Note that each element of this array is equal to 0, equal to n-1, or is 1 greater or 1 less than the previous one. Further once we have an `n-1` value in our array we have that value for all future elements. \n",
        "\n",
        "Write a function `sample_k_steps` which takes in transition matrix `tm`, number of steps `k`, and  starting state `s0` and returns an array of `k+1` states sampled from the chain.\n",
        "\n",
        "Hint: You can use `sample` from 4a for this"
      ]
    },
    {
      "cell_type": "code",
      "execution_count": 14,
      "metadata": {
        "id": "MLLmmiAPXBWo"
      },
      "outputs": [],
      "source": [
        "#YOUR CODE HERE\n",
        "def sample_k_steps(tm,k,s0):\n",
        "  record = [s0]\n",
        "  for step in range(0, k):\n",
        "    s0 = sample(tm, s0)\n",
        "    record.append(s0)\n",
        "    \n",
        "  return record\n",
        "\n"
      ]
    },
    {
      "cell_type": "markdown",
      "metadata": {
        "id": "PzGozJpBXBWo"
      },
      "source": [
        "Use the below code to test out some of the samples, it samples 20 trajectories of the markov chain and plots them. The plot should show that almost all or all the trajectories would ahve reached the final state by the end. Save this graph as \"qsn4b.png\"."
      ]
    },
    {
      "cell_type": "code",
      "execution_count": 15,
      "metadata": {
        "id": "JpsYCaVJXBWp",
        "colab": {
          "base_uri": "https://localhost:8080/",
          "height": 265
        },
        "outputId": "db7c6b14-fee7-4ba6-fec0-f687a51d41a8"
      },
      "outputs": [
        {
          "output_type": "display_data",
          "data": {
            "text/plain": [
              "<Figure size 432x288 with 1 Axes>"
            ],
            "image/png": "[encoded data removed]"
          },
          "metadata": {
            "needs_background": "light"
          }
        }
      ],
      "source": [
        "#TESTING\n",
        "tm = transition_matrix(10)\n",
        "k = 200\n",
        "s0 = 0\n",
        "# print(sample_k_steps(tm, k, s0))\n",
        "for i in range(20):\n",
        "    states = sample_k_steps(tm, k, s0)\n",
        "    plt.plot(states)\n",
        "\n",
        "plt.savefig(\"qsn4b.png\")"
      ]
    },
    {
      "cell_type": "markdown",
      "metadata": {
        "id": "ga21G6hkXBWp"
      },
      "source": [
        "## Question 5\n",
        "\n",
        "We will now use our implementation of `sample` to estimate *hitting times* in a Markov chain. The hitting time between states `i` and `j` is the average number of steps that a random walk starting from state `i` takes to hit state `j`. We will be creating a [Monte Carlo simulation](https://en.wikipedia.org/wiki/Monte_Carlo_method) to estimate this value: if we run many random walks starting from `i` and count the number of steps it takes them to reach `j`, the average number of steps we observe is (hopefully) a good approximation to the true hitting time.\n",
        "\n",
        "Write a function `hitting_time_1_walk` which takes in as arguments a transition matrix `tm`, a starting point `i`, and an ending point `j`. Your function should run a random walk starting from `i` until it hits `j`, and return the number of steps that your walk takes to hit `j`.\n"
      ]
    },
    {
      "cell_type": "code",
      "execution_count": 16,
      "metadata": {
        "id": "0zP57xL4XBWp"
      },
      "outputs": [],
      "source": [
        "#YOUR CODE HERE\n",
        "def hitting_time_1_walk(tm,i,j):\n",
        "  count = 0\n",
        "  record = [i]\n",
        "  while i != j:\n",
        "    i = sample(tm, i)\n",
        "    count += 1\n",
        "    record.append(i)\n",
        "    \n",
        "  return count, record"
      ]
    },
    {
      "cell_type": "code",
      "source": [
        "hitting_time_1_walk(tm, 0, 7)"
      ],
      "metadata": {
        "colab": {
          "base_uri": "https://localhost:8080/"
        },
        "id": "I3ZQ1P1NFxUt",
        "outputId": "1c1de535-5942-44b1-8fa3-dd4554dc2c0f"
      },
      "execution_count": 17,
      "outputs": [
        {
          "output_type": "execute_result",
          "data": {
            "text/plain": [
              "(40,\n",
              " [0,\n",
              "  1,\n",
              "  2,\n",
              "  1,\n",
              "  0,\n",
              "  1,\n",
              "  2,\n",
              "  3,\n",
              "  2,\n",
              "  3,\n",
              "  4,\n",
              "  3,\n",
              "  4,\n",
              "  0,\n",
              "  0,\n",
              "  1,\n",
              "  2,\n",
              "  3,\n",
              "  4,\n",
              "  0,\n",
              "  1,\n",
              "  2,\n",
              "  3,\n",
              "  4,\n",
              "  3,\n",
              "  4,\n",
              "  5,\n",
              "  0,\n",
              "  1,\n",
              "  2,\n",
              "  1,\n",
              "  2,\n",
              "  3,\n",
              "  4,\n",
              "  5,\n",
              "  4,\n",
              "  5,\n",
              "  6,\n",
              "  5,\n",
              "  6,\n",
              "  7])"
            ]
          },
          "metadata": {},
          "execution_count": 17
        }
      ]
    },
    {
      "cell_type": "markdown",
      "metadata": {
        "id": "lbd_rqCjXBWp"
      },
      "source": [
        "Note that when applied to our markov chain from before, `hitting_time_1_walk(tm,0,n-1)` runs a random walk starting from `0` until it hits the end state `n-1`. Consequently, we expect that `hitting_time_1_walk(tm,0,n-1)` will be at most some value `k` with probability equal to `propagate(tm,0,k)[n-1]` (take some time to convince yourself of this if you are not sure of this).\n",
        "\n",
        "1. **Create a new transition matrix `tm` for n = 20**, and create an array of 1000 calls to `hitting_time_1_walk(tm,0,n-1)`. \n",
        "\n",
        "2. Write a function `proportion_at_most` which takes in as arguments an array `arr` and a value `max_value`. It should return an array with `max_value` entries, where the `i`'th entry of the output array is the proportion of the values from `arr` which are at most `i`. For example, `proportion_at_most(arr=[1,2,4,2,6], max_value = 7)` should return `[0,0.2,0.6,0.6,0.8,0.8,1,1]` (or the numpy array equivalent to this)\n",
        "\n",
        "\n",
        "3. Apply this function to the hitting time samples you computed, with `max_value = 2000`.\n",
        "\n",
        "4. Compute the theoretical probability of being in state `n-1` after `k` steps using `propagate`, for every value of `k` between `0` and `2000`. \n",
        "\n",
        "5. Plot the estimated probabilities from 2) and the true probabilities from 3) against each other. Do they agree?\n",
        "\n",
        "\n",
        "Save your plot as `qsn5.png`."
      ]
    },
    {
      "cell_type": "code",
      "execution_count": 18,
      "metadata": {
        "id": "RLtvvBW4XBWq"
      },
      "outputs": [],
      "source": [
        "#YOUR CODE HERE\n",
        "tm = transition_matrix(20)\n",
        "calls = [hitting_time_1_walk(tm, 0, 19)[0] for _ in range(0, 1000)]\n",
        "# print(calls)\n",
        "def proportion_at_most(arr, max_value):\n",
        "  arr = np.array(arr)\n",
        "  proportion_arr = []\n",
        "  count_arr = np.bincount(arr)\n",
        "  for i in range(0, max_value+1):\n",
        "    small_values = arr[np.where(arr <= i)]\n",
        "    # print(f\"For {i}: {small_values}\")\n",
        "    # print(f\"Proportion: {len(small_values)/len(arr)}\")\n",
        "    proportion_arr.append(len(small_values)/len(arr))\n",
        "  \n",
        "  return proportion_arr\n",
        "\n",
        "\n"
      ]
    },
    {
      "cell_type": "code",
      "source": [
        "proportion_at_most(arr=[1,2,4,2,6], max_value = 7)"
      ],
      "metadata": {
        "colab": {
          "base_uri": "https://localhost:8080/"
        },
        "id": "YGsSqIGELOMi",
        "outputId": "9454582b-fdc8-457d-b0aa-8708c0c9dcc4"
      },
      "execution_count": 19,
      "outputs": [
        {
          "output_type": "execute_result",
          "data": {
            "text/plain": [
              "[0.0, 0.2, 0.6, 0.6, 0.8, 0.8, 1.0, 1.0]"
            ]
          },
          "metadata": {},
          "execution_count": 19
        }
      ]
    },
    {
      "cell_type": "code",
      "source": [
        "result_of_3 = proportion_at_most(arr=calls, max_value = 2000)"
      ],
      "metadata": {
        "id": "0wnxp9VZPpT-"
      },
      "execution_count": 20,
      "outputs": []
    },
    {
      "cell_type": "code",
      "source": [
        "#TESTING\n",
        "p0 = np.zeros(20)\n",
        "p0[0] = 1\n",
        "pks = []\n",
        "for k in range(0, 2001):\n",
        "  pk = propagate(p0,k,tm)\n",
        "  pks.append(pk[-1])\n",
        "print(pks)"
      ],
      "metadata": {
        "colab": {
          "base_uri": "https://localhost:8080/"
        },
        "id": "uifMVuUJP4Of",
        "outputId": "5fd93f14-87af-4758-a416-f982ff88183d"
      },
      "execution_count": 21,
      "outputs": [
        {
          "output_type": "stream",
          "name": "stdout",
          "text": [
            "[0.0, 0.0, 0.0, 0.0, 0.0, 0.00972, 0.013607999999999999, 0.015746399999999997, 0.022608719999999995, 0.027843911999999995, 0.032286535199999994, 0.03918192263999999, 0.04580201051999999, 0.05235895008719999, 0.06055271481239999, 0.06909609082067998, 0.07808200333438317, 0.08864927323345796, 0.09990211449473131, 0.1120001579296983, 0.12588847790895372, 0.14082735418312586, 0.15704229925391192, 0.17537368000525272, 0.1952482554142144, 0.2169371205889481, 0.2411979859238673, 0.2676572273186332, 0.29663099957003936, 0.3288192224679357, 0.3640627404623317, 0.4027402670511793, 0.4455331003699524, 0.49250138540794536, 0.5441164606997985, 0.6010920144974398, 0.6637155203457704, 0.7325916249886922, 0.8085271069162513, 0.8920574231761459, 0.9839731318239909, 1.0852454217603222, 1.1966973904029272, 1.3193736461177763, 1.4544955506311883, 1.6032379052576775, 1.7669885606081286, 1.947325525562514, 2.145869898709128, 2.3644705361244176, 2.605197939781694, 2.8702527126824418, 3.162101043372371, 3.4834825749185967, 3.8373603349077583, 4.227025981576459, 4.656120730277929, 5.128617889866389, 5.648912132696159, 6.22185416794384, 6.852761080927237, 7.547500937023441, 8.312543408308615, 9.154996438589842, 10.082695933517778, 11.104276135363843, 12.22923406746213, 13.468033666780949, 14.832201528601733, 16.334423430848126, 17.988672907836406, 19.810340231616966, 21.816368373916696, 24.02541768342025, 26.458038841000764, 29.136859185242127, 32.086797927088114, 35.33529756655709, 38.912575919770205, 42.85191037897697, 47.18994723306524, 51.96704038467955, 57.22762885641927, 63.02065003956697, 69.39999347182808, 76.4250035625079, 84.16103156159878, 92.6800425153917, 102.06128567636708, 112.39203167915356, 123.76838373189837, 136.29617226552156, 150.09193941084226, 165.2840227138563, 182.01374944477863, 200.43675130771294, 220.72441194321303, 243.06546154543238, 267.6677325581607, 294.7600928863551, 324.5945751823008, 357.4487214339667, 393.6281647331377, 433.46947262702463, 477.3432781168475, 525.6577274727586, 578.862277198596, 637.4518752101072, 701.9715651501779, 773.0215568479995, 851.2628099188544, 937.4231824645739, 1032.30420219142, 1136.7885228202836, 1251.848135165244, 1378.553409344607, 1518.083052165032, 1671.735072316717, 1840.9388554388047, 2027.2684613350807, 2232.457267044979, 2458.4140920261034, 2707.2409554226065, 2981.252630613577, 3282.998178976253, 3615.2846631644506, 3981.203260502607, 4384.158019437734, 4827.8975265481295, 5316.54977870016, 5854.660584770732, 6447.235854166912, 7099.788165542827, 7818.388048938146, 8609.720458396221, 9481.146960412912, 10440.774216744452, 11497.529398648216, 12661.243234116419, 13942.741460673553, 15353.94553449699, 16907.983532732593, 18619.312280703918, 20503.85184013181, 22579.133609474644, 24864.46341413097, 27381.10110369051, 30152.458326981712, 33204.31632476846, 36565.06576616594, 40265.97085991372, 44341.46019746749, 48829.44703354936, 53771.6819836463, 59214.14141951341, 65207.45517582782, 71807.37754684061, 79075.30595459108, 87078.85211372317, 95892.47100630718, 105598.15351786192, 116286.18917799633, 128056.0061012554, 141017.0959419296, 155290.03246745016, 171007.59322590308, 188315.99474225356, 207376.25273400123, 228365.68000001137, 251479.53591700626, 276932.8428885685, 304962.3866446264, 335828.91899970436, 369819.58356164803, 407250.5869565815, 448470.14041983424, 493861.69911771914, 543847.5293347603, 598892.6367110182, 659509.0920729189, 726260.7950997062, 799768.7201407109, 880716.6929839605, 969857.7523159558, 1068021.1550516826, 1176120.0907036841, 1295160.1765550347, 1426248.8126646793, 1570605.4837324054, 1729573.1036591146, 1904630.5083379906, 2097406.2128938683, 2309693.561350949, 2543467.4096624223, 2800902.497300033, 3084393.6783098825, 3396578.200038905, 3740360.236785416, 4118937.906604142, 4535833.022596274, 4994923.855453353, 5500481.212036705, 6057208.165622389, 6670283.807412195, 7345411.426319983, 8088871.565237857, 8907580.447351309, 9809154.316028662, 10801980.28682271, 11895294.370702904, 13099267.394348674, 14425099.616798822, 15885124.922651922, 17492925.56110096, 19263458.498190653, 21213194.557720818, 23360271.645188697, 25724663.480174158, 28328365.40684281, 31195599.011115547, 34353037.44800672, 37830053.57529464, 41658993.20184972, 45875475.992580876, 50518726.829243496, 55631940.709675364, 61262684.58002669, 67463339.83812864, 74291589.62449817, 81810955.43412529, 90091388.04100738, 99209918.2326536, 109251373.40817888, 120309166.70632017, 132486166.00443466, 145895650.87255988, 160662366.38483912, 176923683.59165555, 194830877.44805643, 214550534.08671454, 236266100.52693462, 260179591.23625886, 286513467.4203859, 315512706.52396595, 347447081.19431937, 382613668.9087058, 421339615.6115773, 463985179.0712396, 510947080.267505, 562662193.9874554, 619611612.9620024, 682325123.3508879, 751386133.2104383, 827437099.7923725, 911185506.1624634, 1003410442.7380363, 1104969854.970697, 1216808524.597664, 1339966858.7092857, 1475590568.3952281, 1624941327.0073576, 1789408507.1904595, 1970522105.8674474, 2169966977.4169583, 2389598507.451015, 2631459873.001976, 2897801049.685965, 3191099742.6616535, 3514084436.099851, 3869759775.587346, 4261434519.591124, 4692752320.0084305, 5167725618.146411, 5690772971.457125, 6266760158.269187, 6901045442.9030485, 7599529422.259919, 8368709917.594658, 9215742422.117018, 10148506666.750118, 11175679923.290699, 12306817726.892078, 13552442768.8108, 14924142786.363928, 16434678360.742676, 18098101625.49842, 19929886990.016342, 21947075094.06439, 24168431332.59063, 26614620425.48542, 29308398656.287075, 32274825568.17953, 35541497086.636734, 39138802237.39528, 43100205847.93816, 47462559862.390656, 52266446165.91272, 57556554107.79722, 63382096235.276695, 69797266105.50598, 76861742434.63072, 84641244273.91403, 93208142377.58575, 102642132449.8158, 113030976533.85948, 124471319440.33205, 137069587809.63974, 150942980172.31992, 166220557217.57297, 183044442412.48083, 201571144140.97156, 221973011662.057, 244439838431.75803, 269180627704.0187, 296425536835.55225, 326428018381.9986, 359467177903.47455, 395850370413.5897, 435916059626.04236, 480036966597.6489, 528623537058.8436, 582127759687.3541, 641047370845.4952, 705930484896.6971, 777380693175.9417, 856062679048.5486, 942708401292.797, 1038123903328.8375, 1143196811638.4453, 1258904593131.531, 1386323648275.6196, 1526639324579.3992, 1681156943583.2664, 1851313943938.1953, 2038693253536.9448, 2245038015095.19, 2472267802170.962, 2722496476475.96, 2998051852600.823, 3301497353090.3657, 3635655855320.5117, 4003635952018.4443, 4408860869721.0, 4855100314192.468, 5346505539051.74, 5887647963843.442, 6483561700807.278, 7139790385961.459, 7862438750158.034, 8658229409862.724, 9534565405969.62, 10499599072433.674, 11562307875388.584, 12732577928262.352, 14021295959810.719, 15440450590623.988, 17003243860257.2, 18724214042492.555, 20619370891253.69, 22706344575330.61, 25004549687417.637, 27535365853199.383, 30322336620645.688, 33391388479732.83, 36771072050076.45, 40492827680184.33, 44591277929132.15, 49104549651546.01, 54074628682167.4, 59547750419542.23, 65574829942335.99, 72211935659539.25, 79520810900812.48, 87569448299194.44, 96432722309512.28, 106193085746653.64, 116941336823421.34, 128777463823531.61, 141811575267536.84, 156164924224773.06, 171971036300249.28, 189376951789857.88, 208544593559364.2, 229652273372210.7, 252896350679125.16, 278493059300836.75, 306680518997071.0, 337720950634945.5, 371903115563922.06, 409545001890209.06, 450996782640350.6, 496644073333056.25, 546911519263645.3, 602266745872712.6, 663224708948305.2, 730352485130449.0, 804274547282887.0, 885678573807491.0, 975321845943939.1, 1074038292567135.0, 1182746248018351.5, 1302456995139256.2, 1434284172982520.5, 1579454136716586.2, 1739317366100183.0, 1915361028656774.2, 2109222814420992.8, 2322706170958241.0, 2557797080385021.5, 2816682534462411.0, 3101770879631836.5, 3415714221257919.0, 3761433095499437.5, 4142143638324637.0, 4561387504417418.0, 5023064814302484.0, 5531470436188294.0, 6091333940048695.0, 6707863595626042.0, 7386794823658187.0, 8134443551058954.0, 8957764966401954.0, 9864418222295272.0, 1.0862837686556984e+16, 1.196231140502333e+16, 1.3173067505909344e+16, 1.4506369349520056e+16, 1.5974620308466148e+16, 1.7591479153128142e+16, 1.937198711577113e+16, 2.133270781535564e+16, 2.34918813447301e+16, 2.58695939536393e+16, 2.8487964906067424e+16, 3.1371352250202572e+16, 3.454657941524918e+16, 3.8043184743061624e+16, 4.189369627592919e+16, 4.61339343567943e+16, 5.080334485691785e+16, 5.594536613092509e+16, 6.160783311292281e+16, 6.784342231289258e+16, 7.471014185304994e+16, 8.227187110285485e+16, 9.059895493276246e+16, 9.9768858114908e+16, 1.0986688595845086e+17, 1.2098697788346816e+17, 1.3323258131581624e+17, 1.4671761403258506e+17, 1.6156752391060378e+17, 1.7792045593657197e+17, 1.9592853733521914e+17, 2.1575929277071744e+17, 2.3759720278661107e+17, 2.616454199820386e+17, 2.8812765888940458e+17, 3.172902771345589e+17, 3.494045672399946e+17, 3.8476928039113466e+17, 4.2371340564367226e+17, 4.6659923042623366e+17, 5.1382571080945184e+17, 5.658321828942189e+17, 6.231024498452312e+17, 6.861692825904755e+17, 7.556193760555333e+17, 8.320988070393094e+17, 9.163190445044328e+17, 1.0090635681945533e+18, 1.1111951571498723e+18, 1.2236639159241367e+18, 1.3475161131689825e+18, 1.4839039148087588e+18, 1.6340961023511163e+18, 1.7994898760431173e+18, 1.9816238526746655e+18, 2.1821923789445617e+18, 2.403061293542839e+18, 2.6462852845800755e+18, 2.914127003835499e+18, 3.2090781156389315e+18, 3.5338824761990513e+18, 3.8915616590094433e+18, 4.2854430637888896e+18, 4.719190870446322e+18, 5.196840126027402e+18, 5.722834281745057e+18, 6.302066529291528e+18, 6.939925320973301e+18, 7.642344497131286e+18, 8.415858487169093e+18, 9.267663097710698e+18, 1.0205682453384505e+19, 1.1238642712967092e+19, 1.2376153246649483e+19, 1.3628796029597657e+19, 1.500822408341317e+19, 1.6527269881270116e+19, 1.8200064725194215e+19, 2.0042170206020915e+19, 2.207072296897153e+19, 2.4304594131565232e+19, 2.676456483689178e+19, 2.947351957537301e+19, 3.2456659073436983e+19, 3.574173472955468e+19, 3.935930677853893e+19, 4.334302858574324e+19, 4.7729959715878216e+19, 5.256091068884618e+19, 5.788082262977105e+19, 6.373918534501253e+19, 7.0190497713420804e+19, 7.72947746757362e+19, 8.5118105538529e+19, 9.373326878644085e+19, 1.0322040912217185e+20, 1.1366778303254667e+20, 1.251725798164735e+20, 1.3784182571261318e+20, 1.5179337953763144e+20, 1.671570290972071e+20, 1.8407569856943273e+20, 2.027067780925929e+20, 2.2322358792614157e+20, 2.4581699080560076e+20, 2.706971674907137e+20, 2.98095572024332e+20, 3.28267084891319e+20, 3.614923841077672e+20, 3.980805562981781e+20, 4.383719720507993e+20, 4.827414522998301e+20, 5.316017551905534e+20, 5.854074158648268e+20, 6.446589748874931e+20, 7.099076346497018e+20, 7.81760387066492e+20, 8.608856602703223e+20, 9.480195368303218e+20, 1.0439726013437938e+21, 1.1496374811014007e+21, 1.265997149974946e+21, 1.3941340727767382e+21, 1.5352402751582178e+21, 1.6906284327255896e+21, 1.8617440825317214e+21, 2.0501790705447524e+21, 2.2576863601918434e+21, 2.486196339738232e+21, 2.7378347802050534e+21, 3.014942610883929e+21, 3.320097696414977e+21, 3.656138818014937e+21, 4.0261920819467607e+21, 4.4337000009020353e+21, 4.882453518833046e+21, 5.376627277153457e+21, 5.920818450380234e+21, 6.520089512495037e+21, 7.180015331869815e+21, 7.906735032868899e+21, 8.707009106583044e+21, 9.58828230198227e+21, 1.0558752882548116e+22, 1.162744889266239e+22, 1.2804312143239494e+22, 1.4100290697899587e+22, 1.552744072005828e+22, 1.7099038628390763e+22, 1.8829704604024538e+22, 2.0735538598417172e+22, 2.283427010716626e+22, 2.514542310305976e+22, 2.769049766269754e+22, 3.0493169976310963e+22, 3.3579512601421774e+22, 3.6978237009304794e+22, 4.072096068060329e+22, 4.48425012348206e+22, 4.938120032990086e+22, 5.437928034505536e+22, 5.988323716496547e+22, 6.594427271933496e+22, 7.261877130159873e+22, 7.996882409786143e+22, 8.806280680562704e+22, 9.69760157157617e+22, 1.0679136817500053e+23, 1.1760017394522569e+23, 1.2950298463527734e+23, 1.4261052910734871e+23, 1.5704474355981625e+23, 1.7293990586910712e+23, 1.9044388474310185e+23, 2.0971951530663285e+23, 2.3094611391580593e+23, 2.5432114629308195e+23, 2.8006206450136135e+23, 3.084083298459805e+23, 3.396236405231697e+23, 3.7399838473822756e+23, 4.11852342114155e+23, 4.5353765852127575e+23, 4.994421220019371e+23, 5.499927702653965e+23, 6.056598633125139e+23, 6.669612581465824e+23, 7.344672262671315e+23, 8.088057587626432e+23, 8.90668408354125e+23, 9.80816722736607e+23, 1.0800893290663246e+24, 1.1894097354987957e+24, 1.3097949223535412e+24, 1.4423648028269026e+24, 1.588352641263593e+24, 1.7491165259055477e+24, 1.9261520028461818e+24, 2.12110598872056e+24, 2.3357920915577457e+24, 2.572207482321378e+24, 2.832551474090182e+24, 3.1192459817158734e+24, 3.4349580522895213e+24, 3.782624676011642e+24, 4.165480108275332e+24, 4.587085957132922e+24, 5.051364316042307e+24, 5.56263425011858e+24, 6.125651975313424e+24, 6.745655104299074e+24, 7.428411370665228e+24, 8.180272284697872e+24, 9.008232219886285e+24, 9.919993479825162e+24, 1.0924037950812947e+25, 1.2029706006712495e+25, 1.3247283400106217e+25, 1.4588096948072312e+25, 1.6064619902722877e+25, 1.7690587986739552e+25, 1.9481127173356218e+25, 2.1452894399493845e+25, 2.3624232521066507e+25, 2.6015340951968894e+25, 2.864846357415703e+25, 3.154809566690255e+25, 3.4741211780231435e+25, 3.8257516672396733e+25, 4.212972164579354e+25, 4.639384885200002e+25, 5.108956639681786e+25, 5.626055736271035e+25, 6.195492618156123e+25, 6.822564613813818e+25, 7.513105216727341e+25, 8.273538352912982e+25, 9.110938141092488e+25, 1.0033094701445073e+26, 1.104858662514141e+26, 1.2166860778825464e+26, 1.3398320186445272e+26, 1.4754420805975267e+26, 1.624777810131975e+26, 1.7892284400809175e+26, 1.970323813404591e+26, 2.169748614935742e+26, 2.3893580435800474e+26, 2.6311950707661803e+26, 2.8975094456965616e+26, 3.190778624199871e+26, 3.5137308158811865e+26, 3.869370363971603e+26, 4.2610056939797184e+26, 4.692280091144262e+26, 5.167205593002807e+26, 5.690200312370613e+26, 6.266129537935928e+26, 6.900350994820263e+26, 7.598764686151283e+26, 8.367867779311975e+26, 9.21481504745908e+26, 1.01474854285831e+27, 1.1174555321292097e+27, 1.2305579299171586e+27, 1.3551078994585977e+27, 1.492264097878524e+27, 1.6433024548870927e+27, 1.8096280424336602e+27, 1.9927881457386867e+27, 2.1944866573000262e+27, 2.416599927777437e+27, 2.6611942212121116e+27, 2.930544936962759e+27, 3.227157777175086e+27, 3.5537920567003367e+27, 3.9134863723092185e+27, 4.30958686999547e+27, 4.7457783733327044e+27, 5.22611866246383e+27, 5.755076222611881e+27, 6.337571813277186e+27, 6.979024244828698e+27, 7.685400788337621e+27, 8.46327268760338e+27, 9.319876289786379e+27, 1.0263180363330497e+28, 1.1301960229417064e+28, 1.244587939657664e+28, 1.3705579457884928e+28, 1.5092779087033844e+28, 1.6620383054213415e+28, 1.8302602275951873e+28, 2.01550860157075e+28, 2.2195067465041173e+28, 2.444152405967476e+28, 2.691535402181541e+28, 2.9639570771074695e+28, 3.2639517012538675e+28, 3.5943100493596444e+28, 3.9581053622713813e+28, 4.358721936532045e+28, 4.7998866076428275e+28, 5.285703419878982e+28, 5.820691805184277e+28, 6.409828626312731e+28, 7.058594475334434e+28, 7.773024658208845e+28, 8.559765339722263e+28, 9.426135371091728e+28, 1.0380194375402067e+29, 1.1430817724257799e+29, 1.2587779103138917e+29, 1.3861841433545303e+29, 1.526485699775572e+29, 1.6809877697636862e+29, 1.8511276473212534e+29, 2.0384881010519435e+29, 2.2448120982600208e+29, 2.4720190193379757e+29, 2.7222225132808654e+29, 2.997750160432736e+29, 3.3011651253827214e+29, 3.6352900014422804e+29, 4.003233068522767e+29, 4.4084172086837736e+29, 4.85461174834635e+29, 5.3459675233912146e+29, 5.887055493343773e+29, 6.482909263864019e+29, 7.139071913117381e+29, 7.861647557640489e+29, 8.657358137406181e+29, 9.533605948344962e+29, 1.0498542504047287e+30, 1.1561144367249793e+30, 1.2731296656546792e+30, 1.401988500516901e+30, 1.5438896827299016e+30, 1.7001532833978494e+30, 1.872232983601183e+30, 2.0617295976270688e+30, 2.2704059649431704e+30, 2.5002033494510333e+30, 2.753259498577222e+30, 3.031928530201402e+30, 3.338802832424481e+30, 3.6767371799048424e+30, 4.048875291110914e+30, 4.458679073545519e+30, 4.909960829003005e+30, 5.406918718456574e+30, 5.95417581649676e+30, 6.556823118634716e+30, 7.220466901556446e+30, 7.951280876908558e+30, 8.756063623789118e+30, 9.642301834223675e+30, 1.0618239959983239e+31, 1.1692956908651096e+31, 1.287645050242274e+31, 1.4179730485337939e+31, 1.56149209441679e+31, 1.7195373095753331e+31, 1.8935789490025753e+31, 2.085236078414157e+31, 2.2962916360104393e+31, 2.5287090187033574e+31, 2.7846503471054e+31, 3.0664965791953294e+31, 3.3768696597730285e+31, 3.718656911754294e+31, 4.095037896211676e+31, 4.509513991033591e+31, 4.965940963364538e+31, 5.468564838839685e+31, 6.022061401296293e+31, 6.631579690417896e+31, 7.302789901958915e+31, 8.041936136153467e+31, 8.855894485013598e+31, 9.7522369988885e+31, 1.0739302127349561e+32, 1.1826272289695144e+32, 1.3023259296694038e+32, 1.4341398418224628e+32, 1.5792951971897445e+32, 1.739142339632007e+32, 1.9151682870199334e+32, 2.1090105645883862e+32, 2.322472438422916e+32, 2.5575396907918304e+32, 2.8163990933805308e+32, 3.1014587502799798e+32, 3.415370499975019e+32, 3.761054584732617e+32, 4.141726816883177e+32, 4.5609284947160016e+32, 5.022559346288996e+32, 5.5309138076205945e+32, 6.090720972750841e+32, 6.707188587317016e+32, 7.386051494905008e+32, 8.133624986860684e+32, 8.956863551861182e+32, 9.863425571778632e+32, 1.0861744565685714e+33, 1.1961107644768158e+33, 1.3171741907990563e+33, 1.4504909582232734e+33, 1.5973012791961375e+33, 1.7589708933083097e+33, 1.9370037724272766e+33, 2.1330561117703833e+33, 2.3489517370735064e+33, 2.5866990711843927e+33, 2.8485098179166275e+33, 3.1368195369754366e+33, 3.454310301358697e+33, 3.803935648009275e+33, 4.188948053828353e+33, 4.612929192652199e+33, 5.0798232546654553e+33, 5.593973638213078e+33, 6.16016335534566e+33, 6.783659526980782e+33, 7.470262381607731e+33, 8.226359213358217e+33, 9.058983801401526e+33, 9.9758818434278e+33, 1.098558301193075e+34, 1.209748030361131e+34, 1.3321917420069843e+34, 1.4670284992667554e+34, 1.6155126546712864e+34, 1.7790255190730977e+34, 1.9590882116347665e+34, 2.1573758104189446e+34, 2.3757329352194045e+34, 2.6161909075962843e+34, 2.880986647751031e+34, 3.172583484033935e+34, 3.493694068669882e+34, 3.847305612881566e+34, 4.236707676166197e+34, 4.665522768242362e+34, 5.137740048349276e+34, 5.657752435394568e+34, 6.230397474176963e+34, 6.861002337852125e+34, 7.555433385288268e+34, 8.320150734331213e+34, 9.162268358660281e+34, 1.0089620267300983e+35, 1.1110833382445933e+35, 1.2235407793548063e+35, 1.3473805134269834e+35, 1.4837545904437042e+35, 1.6339316642358941e+35, 1.7993087944511888e+35, 1.981424443049403e+35, 2.18197278622824e+35, 2.4028194749195e+35, 2.6460189904717236e+35, 2.91383375697484e+35, 3.2087551880239778e+35, 3.5335268637152026e+35, 3.891170053482963e+35, 4.285011822211794e+35, 4.7187159810863895e+35, 5.196317171108038e+35, 5.722258396347822e+35, 6.301432356099026e+35, 6.939226960431394e+35, 7.641575452567027e+35, 8.415011604353804e+35, 9.266730498305981e+35, 1.0204655461652023e+36, 1.1237511775060366e+36, 1.2374907841736849e+36, 1.3627424571989605e+36, 1.5006713814783583e+36, 1.652560675196876e+36, 1.8198233263546374e+36, 2.0040153374398277e+36, 2.2068502005295403e+36, 2.4302148374767635e+36, 2.6761871534710706e+36, 2.947055367269385e+36, 3.245339297921107e+36, 3.5738138060126685e+36, 3.9355346074995336e+36, 4.333866700265247e+36, 4.7725156678526823e+36, 5.255562151578246e+36, 5.78749981171447e+36, 6.373277130884359e+36, 7.018343448553966e+36, 7.728699654870561e+36, 8.510954015438423e+36, 9.372383646356168e+36, 1.0321002211402453e+37, 1.1365634471139984e+37, 1.2515998377449468e+37, 1.378279547719834e+37, 1.5177810466046934e+37, 1.6714020818516193e+37, 1.84057175141779e+37, 2.0268637983052955e+37, 2.2320112506975325e+37, 2.4579225438856893e+37, 2.7066992739635553e+37, 2.9806557484488247e+37, 3.2823405157054205e+37, 3.614560073449657e+37, 3.980404976894522e+37, 4.383278589409603e+37, 4.826928743156823e+37, 5.315482604232954e+37, 5.853485066660571e+37, 6.445941032397123e+37, 7.098361970682427e+37, 7.816817189854532e+37, 8.60799029860279e+37, 9.479241381902991e+37, 1.0438675470041732e+38, 1.1495217937680123e+38, 1.2658697534375458e+38, 1.3939937818972942e+38, 1.5350857848458685e+38, 1.6904583057957113e+38, 1.8615567363361594e+38, 2.0499727622488425e+38, 2.2574591705612585e+38, 2.485946155284826e+38, 2.7375592735256116e+38, 3.0146392190089196e+38, 3.3197635969658886e+38, 3.655770902948399e+38, 4.025786928641196e+38, 4.4332538403178686e+38, 4.881962200450276e+38, 5.37608623036041e+38, 5.9202226419543085e+38, 6.519433399779896e+38, 7.179292811213447e+38, 7.905939382842874e+38, 8.706132925454745e+38, 9.587317438858438e+38, 1.0557690361549134e+39, 1.1626278829421924e+39, 1.2803023652952712e+39, 1.4098871794064552e+39, 1.5525878202968525e+39, 1.709731796234174e+39, 1.8827809782091596e+39, 2.073345199354716e+39, 2.2831972308197466e+39, 2.5142892734144752e+39, 2.7687711184449007e+39, 3.0490101466820707e+39, 3.3576133515115704e+39, 3.69745159113906e+39, 4.0716862954640465e+39, 4.483798876069237e+39, 4.93762311291923e+39, 5.437380819053874e+39, 5.987721115055994e+39, 6.593763678654004e+39, 7.261146371799616e+39, 7.996077688283396e+39, 8.805394509795181e+39, 9.696625707719504e+39, 1.0678062182337568e+40, 1.1758833990992905e+40, 1.2948995282724696e+40, 1.4259617829494331e+40, 1.5702894024102774e+40, 1.7292250302962484e+40, 1.9042472048867536e+40, 2.0969841135701035e+40, 2.309228739462377e+40, 2.542955541079605e+40, 2.8003388202300795e+40, 3.0837729489986825e+40, 3.395894643989796e+40, 3.739607495040488e+40, 4.1181089765884437e+40, 4.534920192974612e+40, 4.993918634393676e+40, 5.49937424821271e+40, 6.055989161220485e+40, 6.668941422333518e+40, 7.343933172686301e+40, 8.087243691219971e+40, 8.905787809239227e+40, 9.80718023735347e+40, 1.0799806403219555e+41, 1.1892900459071918e+41, 1.3096631184724542e+41, 1.4422196585178882e+41, 1.5881928062855516e+41, 1.748940513353771e+41, 1.9259581753200507e+41, 2.120892543091218e+41, 2.335557042194043e+41, 2.571948642618043e+41, 2.832266436126381e+41, 3.118932093854927e+41, 3.4346123945113934e+41, 3.782244032748726e+41, 4.165060938498832e+41, 4.5866243614115505e+41, 5.050856000266853e+41, 5.562074485554889e+41, 6.125035554612169e+41, 6.744976293053092e+41, 7.427663854063766e+41, 8.179449108781493e+41, 9.007325726855921e+41, 9.918995236803533e+41, 1.0922938671395618e+42, 1.2028495464578785e+42, 1.3245950333886304e+42, 1.4586628956585535e+42, 1.6063003329612657e+42, 1.7688807793431743e+42, 1.9479166799159014e+42, 2.1450735607537822e+42, 2.36218552286516e+42, 2.6012723043740078e+42, 2.864558069637072e+42, 3.1544921000869823e+42, 3.473771579283052e+42, 3.8253666841333754e+42, 4.21254821570558e+42, 4.638918026668721e+42, 5.1084425284251864e+42, 5.625489589641054e+42, 6.194869169432672e+42, 6.821878063209808e+42, 7.512349177434712e+42, 8.27270579168784e+42, 9.11002131282659e+42, 1.0032085077115034e+43, 1.1047474812465338e+43, 1.216563643488892e+43, 1.339697192148372e+43, 1.4752936077417964e+43, 1.6246143097109352e+43, 1.7890483910911632e+43, 1.970125540895533e+43, 2.1695302744279632e+43, 2.389117603906571e+43, 2.630930295177035e+43, 2.8972178710508567e+43, 3.1904575380518155e+43, 3.5133772312468844e+43, 3.8689809915418943e+43, 4.260576911520558e+43, 4.691807909799986e+43, 5.166685620188809e+43, 5.689627710910233e+43, 6.26549898106141e+43, 6.899656616619169e+43, 7.598000026997385e+43, 8.367025725772966e+43, 9.213887766122106e+43, 1.014646429318248e+44, 1.1173430832461335e+44, 1.2304340996073153e+44, 1.3549715357596757e+44, 1.4921139322332374e+44, 1.6431370903421105e+44, 1.8094459406440997e+44, 1.9925876126572774e+44, 2.1942658274178126e+44, 2.416356746769417e+44, 2.6609264268263666e+44, 2.930250037975291e+44, 3.226833030214585e+44, 3.553434440727288e+44, 3.913092560511928e+44, 4.309153198841569e+44, 4.745300808488229e+44, 5.225592761262824e+44, 5.754497092727385e+44, 6.336934067209151e+44, 6.978321949785422e+44, 7.68462741104448e+44, 8.462421033525407e+44, 9.318938436199311e+44, 1.0262147585617661e+45, 1.1300822919906455e+45, 1.2444626975163162e+45, 1.3704200273606321e+45, 1.5091260309684713e+45, 1.661871055498905e+45, 1.830076049601151e+45, 2.0153057821434336e+45, 2.2192833988652634e+45, 2.4439064523700244e+45, 2.691264554580868e+45, 2.963658815876285e+45, 3.263623251742752e+45, 3.5939483560851833e+45, 3.957707060491768e+45, 4.358283320945733e+45, 4.799403597919037e+45, 5.285171522699409e+45, 5.820106072442879e+45, 6.409183609084737e+45, 7.057884173186366e+45, 7.77224246337799e+45, 8.558903975646311e+45, 9.425186824716743e+45, 1.0379149822639051e+46, 1.1429667447894412e+46, 1.258651240244268e+46, 1.3860446524717373e+46, 1.5263320904309164e+46, 1.6808186129679656e+46, 1.8509413694512275e+46, 2.038282969211313e+46, 2.244586204158727e+46, 2.471770261539856e+46, 2.721948577654522e+46, 2.99744849862375e+46, 3.300832931106951e+46, 3.6349241843797054e+46, 4.002830225569014e+46, 4.407973592291891e+46, 4.85412323166432e+46, 5.345429561870881e+46, 5.886463082464053e+46, 6.482256892575096e+46, 7.138353512572794e+46, 7.860856444740171e+46, 8.65648695262526e+46, 9.532646587269948e+46, 1.0497486041982741e+47, 1.1559980976194127e+47, 1.2730015513764837e+47, 1.401847419251082e+47, 1.5437343220328318e+47, 1.6999821979879337e+47, 1.8720445819137676e+47, 2.0615221270085135e+47, 2.270177495346352e+47, 2.499951755480601e+47, 2.7529824397175775e+47, 3.031623429043471e+47, 3.3384668506887213e+47, 3.676367192037442e+47, 4.048467855207549e+47, 4.458230399332181e+47, 4.909466742576031e+47, 5.406374623453867e+47, 5.953576651338989e+47, 6.556163309438712e+47, 7.2197403102827625e+47, 7.95048074426083e+47, 8.755182506334027e+47, 9.641331535146554e+47, 1.0617171452835157e+48, 1.1691780253378075e+48, 1.2875154752895923e+48, 1.4178303587524501e+48, 1.56133496239954e+48, 1.719364273562435e+48, 1.8933883992834046e+48, 2.085026242352473e+48, 2.2960605615539947e+48, 2.5284545562244458e+48, 2.7843701294034083e+48, 3.066187999475265e+48, 3.376529847395159e+48, 3.718282705529304e+48, 4.09462581499292e+48, 4.509060201332855e+48, 4.9654412436900635e+48, 5.4680145404246886e+48, 6.021455404852654e+48, 6.630912358512706e+48, 7.30205502657085e+48, 8.041126880921125e+48, 8.855003321638544e+48, 9.751255637101391e+48, 1.0738221437787852e+49, 1.182508221897492e+49, 1.3021948773885902e+49, 1.4339955251863621e+49, 1.579136273656891e+49, 1.7389673307766383e+49, 1.9149755647785667e+49, 2.1087983361143518e+49, 2.3222387294079542e+49, 2.557282327099598e+49, 2.816115680821155e+49, 3.101146652337511e+49, 3.415026813280584e+49, 3.7606761120551067e+49, 4.141310037386207e+49, 4.560469531204455e+49, 5.02205392914045e+49, 5.530357235066092e+49, 6.090108067135517e+49, 6.706513646933669e+49, 7.385308240952551e+49, 8.132806505034033e+49, 8.955962228029209e+49, 9.862433021151812e+49, 1.0860651554814535e+50, 1.1959904005646652e+50, 1.3170416443465897e+50, 1.4503449961840911e+50, 1.5971405437220017e+50, 1.7587938891174226e+50, 1.9368088528940497e+50, 2.1328414636072915e+50, 2.34871536346253e+50, 2.5864387732011202e+50, 2.8482231740742127e+50, 3.136503880698114e+50, 3.453962696175297e+50, 3.803552860235968e+50, 4.1885265224865e+50, 4.612464996341464e+50, 5.079312075083995e+50, 5.5934107199854694e+50, 6.159543461784831e+50, 6.782976891372431e+50, 7.469510653564019e+50, 8.225531399741716e+50, 9.058072201269809e+50, 9.974877976393504e+50, 1.098447753927066e+51, 1.2096262941390561e+51, 1.3320576843473055e+51, 1.4668808730646913e+51, 1.615350086597309e+51, 1.7788464967971927e+51, 1.9588910697576066e+51, 2.1571587149790968e+51, 2.3754938666324474e+51, 2.6159276418671203e+51, 2.8806967357846184e+51, 3.1722642288519706e+51, 3.4933425003214885e+51, 3.846918460814585e+51, 4.236281338802061e+51, 4.665053279471513e+51, 5.137223040635444e+51, 5.657183099144675e+51, 6.229770512998687e+51, 6.860311919282889e+51, 7.554673086537304e+51, 8.319313482529952e+51, 9.161346365065229e+51, 1.0088604954836994e+52, 1.1109715305915832e+52, 1.2234176551766345e+52, 1.3472449273303043e+52, 1.4836052811050702e+52, 1.6337672426679804e+52, 1.7991277310813917e+52, 1.9812250534906104e+52, 2.1817532156094009e+52, 2.4025776806302236e+52, 2.645752723160387e+52, 2.913540539623436e+52, 3.2084322929050355e+52, 3.5331712870164246e+52, 3.890778487363512e+52, 4.2845806240302796e+52, 4.718241139514289e+52, 5.195794268813314e+52, 5.72168256890159e+52, 6.30079824672299e+52, 6.938528670165088e+52, 7.640806485391259e+52, 8.414164806759825e+52, 9.26579799274818e+52, 1.0203628573265102e+53, 1.1236380950959243e+53, 1.237366256214856e+53, 1.3626053252390504e+53, 1.5005203698131415e+53, 1.6523943790027104e+53, 1.8196401986197416e+53, 2.003813674572819e+53, 2.2066281265113514e+53, 2.4299702864085074e+53, 2.6759178503555016e+53, 2.94675880684717e+53, 3.2450127213650258e+53, 3.5734541752629375e+53, 3.935138577001496e+53, 4.333430585846519e+53, 4.77203541245022e+53, 5.255033287496505e+53, 5.786917419063557e+53, 6.372635791811527e+53, 7.017637196842692e+53, 7.727921920438328e+53, 8.510097563216893e+53, 9.371440508985153e+53, 1.0319963615111563e+54, 1.1364490754128442e+54, 1.2514738900004801e+54, 1.3781408522717803e+54, 1.5176283132040895e+54, 1.6712338896579503e+54, 1.840386535781267e+54, 2.0266598362113105e+54, 2.2317866447378863e+54, 2.4576752046074787e+54, 2.706426900431517e+54, 2.980355806840311e+54, 3.282010215738883e+54, 3.614196342427359e+54, 3.9800044311180004e+54, 4.382837502701969e+54, 4.8264430121990764e+54, 5.314947710391834e+54, 5.852896033952845e+54, 6.445292381199261e+54, 7.09764766675504e+54, 7.816030588207358e+54, 8.607124081678012e+54, 9.47828749150184e+54, 1.0437625032361073e+55, 1.1494061180761701e+55, 1.2657423697199817e+55, 1.3938535051352363e+55, 1.534931310079786e+55, 1.690288195985603e+55, 1.8613694089931315e+55, 2.0497664747136114e+55, 2.2572320037926284e+55, 2.48569599600733e+55, 2.73728379457024e+55, 3.014335857664051e+55, 3.319429531137025e+55, 3.655403024904931e+55, 4.025381816105962e+55, 4.43280772463057e+55, 4.8814709315085764e+55, 5.375545238012572e+55, 5.919626893484221e+55, 6.518777353088976e+55, 7.178570363263892e+55, 7.905143812882623e+55, 8.705256832496017e+55, 9.586352672828193e+55, 1.055662794747099e+56, 1.1625108883924205e+56, 1.2801735292325916e+56, 1.4097453033012938e+56, 1.5524315843113906e+56, 1.7095597469442285e+56, 1.8825915150833423e+56, 2.073136559865092e+56, 2.282967474045478e+56, 2.5140362619859224e+56, 2.768492498660208e+56, 3.0487033266112697e+56, 3.357275476884504e+56, 3.6970795187928233e+56, 4.071276564102931e+56, 4.483347674065167e+56, 4.937126242853139e+56, 5.436833658668171e+56, 5.987118574254856e+56, 6.593100152151499e+56, 7.2604156869751275e+56, 7.995273047759283e+56, 8.804508428202482e+56, 9.695649942063422e+56, 1.0676987655314962e+57, 1.1757650706548415e+57, 1.2947692233059944e+57, 1.425818289266514e+57, 1.5701313851251756e+57, 1.7290510194137972e+57, 1.9040555816273615e+57, 2.0967730953106546e+57, 2.3089963631529346e+57, 2.542699644981651e+57, 2.8000570238064025e+57, 3.083462630767838e+57, 3.395552917139121e+57, 3.739231180570809e+57, 4.117694573740642e+57, 4.534463846662942e+57, 4.9934160993428676e+57, 5.49882084946524e+57, 6.055379750646618e+57, 6.668270330739548e+57, 7.343194157075463e+57, 8.08642987671541e+57, 8.90489162512874e+57, 9.806193346661073e+57, 1.0798719625148685e+58, 1.1891703683598784e+58, 1.3095313278547115e+58, 1.442074528814657e+58, 1.5880329873916065e+58, 1.74876451851403e+58, 1.9257643672986659e+58, 2.1206791189407803e+58, 2.3353220164832154e+58, 2.5716898289615904e+58, 2.8319814268457774e+58, 3.118618237580326e+58, 3.4342667715165986e+58, 3.7818634277897117e+58, 4.1646418109031344e+58, 4.586162812140279e+58, 5.05034773564291e+58, 5.561514777319968e+58, 6.124419195940957e+58, 6.744297550115475e+58, 7.426916412684451e+58, 8.178626015700811e+58, 9.006419325045404e+58, 9.917997094234497e+58, 1.0921839502598113e+59, 1.20272850442612e+59, 1.3244617401812042e+59, 1.4585161112821856e+59, 1.6061386919177218e+59, 1.7687027779263714e+59, 1.9477206622233082e+59, 2.144857703281973e+59, 2.3619478175462195e+59, 2.601010539894979e+59, 2.8642698108686667e+59, 3.154174665430184e+59, 3.473422015722872e+59, 3.824981739767697e+59, 4.212124309493527e+59, 4.638451215117134e+59, 5.107928468903294e+59, 5.624923499982069e+59, 6.194245783446493e+59, 6.821191581692972e+59, 7.511593214221863e+59, 8.271873314242832e+59, 9.109104576820566e+59, 1.0031075554382883e+60, 1.1046363111670308e+60, 1.2164412214157366e+60, 1.3395623792197258e+60, 1.4751451498268002e+60, 1.624450825742844e+60, 1.78886836021963e+60, 1.969927288338518e+60, 2.169311955891657e+60, 2.388877188428393e+60, 2.6306655462320966e+60, 2.896926325746132e+60, 3.1901364842144648e+60, 3.513023682193591e+60, 3.8685916582944976e+60, 4.2601481722095166e+60, 4.691335775971033e+60, 5.166165699699363e+60, 5.689055167070394e+60, 6.264868487639451e+60, 6.898962308292936e+60, 7.597235444790675e+60, 8.366183756969298e+60, 9.212960578096895e+60, 1.0145443260538098e+61, 1.1172306456787205e+61, 1.2303102817584413e+61, 1.3548351857829505e+61, 1.4919637816990293e+61, 1.6429717424376627e+61, 1.8092638571793324e+61, 1.992387099755391e+61, 2.194045019757577e+61, 2.4161135902325552e+61, 2.660658659388609e+61, 2.9299551686633295e+61, 3.226508315933175e+61, 3.5530768607409186e+61, 3.9126987883436805e+61, 4.308719571327735e+61, 4.744823291700817e+61, 5.225066912982938e+61, 5.75391802112038e+61, 6.336296385317119e+61, 6.977619725413676e+61, 7.683854111575831e+61, 8.461569465148871e+61, 9.318000676987887e+61, 1.0261114911832627e+62, 1.129968572484262e+62, 1.2443374679780098e+62, 1.37028212281142e+62, 1.5089741685169238e+62, 1.6617038224067276e+62, 1.8298918901408356e+62, 2.0151029831257147e+62, 2.2190600737017486e+62, 2.4436605235227355e+62, 2.6909937342354264e+62, 2.963360584658948e+62, 3.263294835283313e+62, 3.593586699207699e+62, 3.957308798793023e+62, 4.3578447494970425e+62, 4.798920636800224e+62, 5.284639679044329e+62, 5.819520398643414e+62, 6.40853865676444e+62, 7.057173942515578e+62, 7.771460347258933e+62, 8.558042698248912e+62, 9.424238373793414e+62, 1.0378105374988758e+63, 1.142851728728265e+63, 1.2585245829213778e+63, 1.3859051756258288e+63, 1.5261784965438778e+63, 1.6806494731943925e+63, 1.850755110326233e+63, 2.038077858012978e+63, 2.244360332789022e+63, 2.4715215287740864e+63, 2.721674669594158e+63, 2.9971468671708126e+63, 3.300500770259694e+63, 3.634558404129084e+63, 4.0024274231531075e+63, 4.407530020540862e+63, 4.853634764141432e+63, 5.344891654485295e+63, 5.8858707311982866e+63, 6.481604586933908e+63, 7.137635184320425e+63, 7.860065411449073e+63, 8.655615855511145e+63, 9.531687322734864e+63, 1.0496429686229339e+64, 1.1558817702209805e+64, 1.272873449990351e+64, 1.4017063521821863e+64, 1.5435789769696155e+64, 1.6998111297942402e+64, 1.871856199185101e+64, 2.061314677267602e+64, 2.2699490487402922e+64, 2.4997001868279194e+64, 2.7527054087382004e+64, 3.0313183585876867e+64, 3.338130902762602e+64, 3.6759972414017003e+64, 4.048060460304217e+64, 4.457781770268662e+64, 4.90897270586868e+64, 5.405830583203118e+64, 5.952977546474855e+64, 6.555503566638918e+64, 7.21901379212553e+64, 7.949680692129979e+64, 8.754301477545267e+64, 9.640361333710055e+64, 1.0616103053210319e+65, 1.169060371651118e+65, 1.2873859133759617e+65, 1.4176876833298947e+65, 1.561177846194392e+65, 1.7191912549620482e+65, 1.893197868739139e+65, 2.084816427406467e+65, 2.2958295103504353e+65, 2.528200119351942e+65, 2.7840899398995573e+65, 3.065879450807394e+65, 3.376190069212406e+65, 3.7179085369604644e+65, 4.0942137752416523e+65, 4.508606457296707e+65, 4.964941574302083e+65, 5.467464297385895e+65, 6.020849469390078e+65, 6.63024509376073e+65, 7.301320225132861e+65, 8.0403177071236595e+65, 8.854112247940734e+65, 9.75027437406814e+65, 1.0737140856975297e+66, 1.1823892268010811e+66, 1.3020638382954902e+66, 1.4338512230727594e+66, 1.578977366116419e+66, 1.7387923395323077e+66, 1.9147828619307254e+66, 2.1085861289967434e+66, 2.322005043910993e+66, 2.557024989305722e+66, 2.815832296781418e+66, 3.100834585801274e+66, 3.4146831611711384e+66, 3.760297677463079e+66, 4.1408932998295116e+66, 4.5600106138781355e+66, 5.021548562851732e+66, 5.529800718519157e+66, 6.0894952231965226e+66, 6.7058387744691746e+66, 7.3845650617933e+66, 8.131988105570726e+66, 8.955060994896922e+66, 9.861440570404777e+66, 1.0859558653932393e+67, 1.1958700487646638e+67, 1.3169091112321943e+67, 1.4501990488329827e+67, 1.5969798244225814e+67, 1.7586169027383625e+67, 1.9366139529754596e+67, 2.1326268370441172e+67, 2.34847901363769e+67, 2.5861785014114794e+67, 2.847936559076598e+67, 3.1361882561850956e+67, 3.4536151259712e+67, 3.803170110982368e+67, 4.188105033563098e+67, 4.612000846742529e+67, 5.078800946942235e+67, 5.59284785840399e+67, 6.158923630603527e+67, 6.782294324457297e+67, 7.468759001166258e+67, 8.224703669427612e+67, 9.057160692871874e+67, 9.973874210377752e+67, 1.0983372177853629e+68, 1.2095045701672252e+68, 1.3319236401777696e+68, 1.4667332617181644e+68, 1.6151875348824607e+68, 1.7786674925361936e+68, 1.9586939477187172e+68, 2.156941641385435e+68, 2.375254822102821e+68, 2.6156644026302314e+68, 2.880406852991876e+68, 3.1719450057964673e+68, 3.492990967351211e+68, 3.8465313477064883e+68, 4.235855044340003e+68, 4.664583837945042e+68, 5.136706084947793e+68, 5.656613820186753e+68, 6.229143614911144e+68, 6.859621570190065e+68, 7.553912864294754e+68, 8.3184763149808445e+68, 9.160424464249846e+68, 1.0087589744543298e+69, 1.110859734189711e+69, 1.2232945433883758e+69, 1.3471093548775738e+69, 1.483455986791347e+69, 1.6336028376457118e+69, 1.7989466859318946e+69, 1.9810256839962713e+69, 2.1815336670858235e+69, 2.4023359106725634e+69, 2.6454864826433733e+69, 2.9132473517783214e+69, 3.208109430278839e+69, 3.53281574609912e+69, 3.890386960647129e+69, 4.284149469239984e+69, 4.717766345725216e+69, 5.195271419137939e+69, 5.721106799400533e+69, 6.300164201157007e+69, 6.93783045016732e+69, 7.640037595596206e+69, 8.413318094378589e+69, 9.264865581027863e+69, 1.0202601788213355e+70, 1.1235250240652283e+70, 1.2372417407872027e+70, 1.362468207078649e+70, 1.50036937334414e+70, 1.6522280995428334e+70, 1.8194570893128827e+70, 2.003612031999027e+70, 2.2064060748403416e+70, 2.429725759949283e+70, 2.6756485743397483e+70, 2.9464622762676574e+70, 3.244686177672154e+70, 3.57309458070264e+70, 3.934742586355778e+70, 4.332994515313732e+70, 4.771555205375579e+70, 5.254504476634049e+70, 5.786335085018478e+70, 6.371994517276273e+70, 7.016931016201117e+70, 7.727144264269058e+70, 8.50924119717965e+70, 9.3704974665215e+70, 1.0318925123334011e+71, 1.1363347152208475e+71, 1.2513479549300616e+71, 1.378002170780569e+71, 1.5174755951729589e+71, 1.671065714389364e+71, 1.8402013387828857e+71, 2.0264558946419123e+71, 2.231562061380207e+71, 2.457427890218876e+71, 2.7061545543082686e+71, 2.9800558954147467e+71, 3.28167994901024e+71, 3.6138326480071027e+71, 3.979603925648167e+71, 4.3823964603806343e+71, 4.825957330120154e+71, 5.31441287037677e+71, 5.852307060519137e+71, 6.444643795274792e+71, 7.096933434707642e+71, 7.815244065715451e+71, 8.606257951920142e+71, 9.477333697090125e+71, 1.0436574700385347e+72, 1.1492904540247055e+72, 1.2656149988209672e+72, 1.3937132424891475e+72, 1.5347768508584091e+72, 1.6901181032935458e+72, 1.861182100500745e+72, 2.049560207936975e+72, 2.257004859883658e+72, 2.4854458619032164e+72, 2.7370083433361555e+72, 3.0140325268462576e+72, 3.319095498925012e+72, 3.655035183880816e+72, 4.0249767443369665e+72, 4.432361653835634e+72, 4.8809797120029846e+72, 5.37500430010448e+72, 5.9190312049639565e+72, 6.518121372415657e+72, 7.177847988013855e+72, 7.904348322980116e+72, 8.704380827698017e+72, 9.585388003881796e+72, 1.0555565640302962e+73, 1.1623939056157426e+73, 1.2800447061346109e+73, 1.4096034414730429e+73, 1.5522753640478657e+73, 1.7093877149675037e+73, 1.88240207102309e+73, 2.0729279413707386e+73, 2.2827377403915e+73, 2.5137832760177625e+73, 2.7682139069128625e+73, 3.0483965374155936e+73, 3.3569376362575637e+73, 3.6967074838880094e+73, 4.070866873972844e+73, 4.4828965174652915e+73, 4.936629422786793e+73, 5.436286553342897e+73, 5.986516094087049e+73, 6.592436692419279e+73, 7.259685075679027e+73, 7.994468488205678e+73, 8.803622435775657e+73, 9.69467427459807e+73, 1.0675913236421386e+74, 1.1756467541177153e+74, 1.2946389314520325e+74, 1.4256748100232812e+74, 1.5699733837412615e+74, 1.72887702604196e+74, 1.9038639776509068e+74, 2.0965620982858506e+74, 2.308764010227385e+74, 2.542443774634372e+74, 2.7997752557397355e+74, 3.0831523437641357e+74, 3.39521122467622e+74, 3.738854903969435e+74, 4.117280212593957e+74, 4.534007546273135e+74, 4.992913614861868e+74, 5.498267506405964e+74, 6.054770401397383e+74, 6.667599306677134e+74, 7.342455215831336e+74, 8.085616144104527e+74, 8.903995531200738e+74, 9.805206555278912e+74, 1.079763295643966e+75, 1.189050702855647e+75, 1.3093995504989818e+75, 1.4419294137157432e+75, 1.5878731845801437e+75, 1.7485885413845474e+75, 1.9255705787800693e+75, 2.1204657162670904e+75, 2.335087014422888e+75, 2.5714310413494054e+75, 2.831696446245492e+75, 3.118304412888899e+75, 3.4339211833016443e+75, 3.7814828611307525e+75, 4.1642227254840016e+75, 4.585701309314441e+75, 5.049839522165339e+75, 5.5609551254081615e+75, 6.123802899293559e+75, 6.743618875479365e+75, 7.426169046519726e+75, 8.177803005447506e+75, 9.005513014445574e+75, 9.916999052107967e+75, 1.0920740444409326e+76, 1.2026074745747508e+76, 1.3243284603869959e+76, 1.458369341676644e+76, 1.6059770671400218e+76, 1.7685247944217476e+76, 1.9475246642558617e+76, 2.144641867531776e+76, 2.361710136147427e+76, 2.6007488017571577e+76, 2.8639815811075734e+76, 3.15385726271665e+76, 3.473072487339069e+76, 3.8245968341387455e+76, 4.211700445938909e+76, 4.637984450540521e+76, 5.1074144611109115e+76, 5.624357467288356e+76, 6.193622460191282e+76, 6.820505169256371e+76, 7.510837327081152e+76, 8.271040920569544e+76, 9.108187933065153e+76, 1.0030066133238417e+77, 1.104525152274508e+77, 1.216318811661843e+77, 1.3394275798572262e+77, 1.4749967068510375e+77, 1.62428735822605e+77, 1.788688347464499e+77, 1.9697290557315432e+77, 2.1690936593246196e+77, 2.388636797143086e+77, 2.630400823928692e+77, 2.896634809779443e+77, 3.189815462684576e+77, 3.5126701687177335e+77, 3.86820236422548e+77, 4.2597194760422636e+77, 4.690863689652633e+77, 5.165645831529212e+77, 5.688482680845308e+77, 6.264238057663678e+77, 6.898268069834545e+77, 7.59647093952343e+77, 8.365341872892461e+77, 9.212033483374075e+77, 1.0144422330639638e+78, 1.1171182194258344e+78, 1.2301864763692853e+78, 1.3546988495270442e+78, 1.4918136462743819e+78, 1.642806411172078e+78, 1.8090817920375181e+78, 1.9921866070310012e+78, 2.1938242343170875e+78, 2.4158704581643943e+78, 2.6603909188961323e+78, 2.929660329023895e+78, 3.2261836343275734e+78, 3.5527193167376155e+78, 3.912305055800498e+78, 4.308285987449586e+78, 4.744345822965642e+78, 5.22454111761886e+78, 5.753339007785015e+78, 6.3356587675946455e+78, 6.97691757170636e+78, 7.683080889923859e+78, 8.460717982465165e+78, 9.317063012142624e+78, 1.0260082341964953e+79, 1.1298548644214063e+79, 1.244212251041479e+79, 1.3701442321394625e+79, 1.5088223213472064e+79, 1.661536606143119e+79, 1.8297077492123793e+79, 2.0149002045155427e+79, 2.2188367710113146e+79, 2.443414619423123e+79, 2.690722941142478e+79, 2.9630623834524454e+79, 3.262966451872231e+79, 3.593225078723535e+79, 3.9569105771711205e+79, 4.3574062221815414e+79, 4.798437724281506e+79, 5.284107888908365e+79, 5.8189347837799626e+79, 6.407893769345319e+79, 7.056463783314888e+79, 7.770678309843764e+79, 8.557181507521354e+79, 9.423290018312144e+79, 1.0377061032440618e+80, 1.1427367242410872e+80, 1.2583979383439395e+80, 1.385765712815393e+80, 1.5260249181129014e+80, 1.680480350441255e+80, 1.8505688699443843e+80, 2.0378727674548613e+80, 2.24413448414862e+80, 2.471272821038148e+80, 2.721400789097001e+80, 2.9968452660708705e+80, 3.3001686428375864e+80, 3.6341926606867134e+80, 4.002024661270971e+80, 4.407086493426197e+80, 4.853146345772744e+80, 5.344353801229013e+80, 5.88527843954048e+80, 6.480952346933853e+80, 7.136916928353006e+80, 7.85927445775919e+80, 8.654744846055022e+80, 9.530728154730011e+80, 1.04953734367764e+81, 1.1557654545285067e+81, 1.2727453614949864e+81, 1.4015652993087876e+81, 1.5434236475386828e+81, 1.6996400788150396e+81, 1.8716678354132788e+81, 2.0611072484022375e+81, 2.2697206251226813e+81, 2.4994486434904446e+81, 2.7524284056362892e+81, 3.031013318830965e+81, 3.3377949886427282e+81, 3.675627327993876e+81, 4.047653106396797e+81, 4.457333186350424e+81, 4.908478718875955e+81, 5.405286597698822e+81, 5.952378501898292e+81, 6.5548438902286555e+81, 7.218287347077393e+81, 7.948880720507905e+81, 8.753420537413915e+81, 9.639391229904358e+81, 1.0615034761097908e+82, 1.16894272980385e+82]\n"
          ]
        }
      ]
    },
    {
      "cell_type": "code",
      "source": [
        "plt.plot(range(0, k+1), result_of_3)\n",
        "plt.figure()\n",
        "plt.plot(range(0, k+1), pks)"
      ],
      "metadata": {
        "colab": {
          "base_uri": "https://localhost:8080/",
          "height": 541
        },
        "id": "YBm0YPCNTcAc",
        "outputId": "162997fe-3b86-46b3-f5ba-3877724b6a2d"
      },
      "execution_count": 22,
      "outputs": [
        {
          "output_type": "execute_result",
          "data": {
            "text/plain": [
              "[<matplotlib.lines.Line2D at 0x7f16b5f24090>]"
            ]
          },
          "metadata": {},
          "execution_count": 22
        },
        {
          "output_type": "display_data",
          "data": {
            "text/plain": [
              "<Figure size 432x288 with 1 Axes>"
            ],
            "image/png": "[encoded data removed]"
          },
          "metadata": {
            "needs_background": "light"
          }
        },
        {
          "output_type": "display_data",
          "data": {
            "text/plain": [
              "<Figure size 432x288 with 1 Axes>"
            ],
            "image/png": "[encoded data removed]"
          },
          "metadata": {
            "needs_background": "light"
          }
        }
      ]
    },
    {
      "cell_type": "markdown",
      "metadata": {
        "id": "3CeOXMq9XBWq"
      },
      "source": [
        "## Question 6\n",
        "We will now move away from Markov chains and look towards another use of linear algebra and graphs: clustering algorithms. More specifically, in this exercise we will implement a simple spectral clustering algorithm: we will demonstrate this this algorithm works on a classic synthetic dataset: the 'nested moons' dataset. We will first generate this dataset and identify the ground truth clustering we seek to find. "
      ]
    },
    {
      "cell_type": "code",
      "execution_count": 23,
      "metadata": {
        "id": "jpRkokv4XBWq",
        "colab": {
          "base_uri": "https://localhost:8080/",
          "height": 282
        },
        "outputId": "a33a285c-1bac-45cb-e606-3d67b40f6b9f"
      },
      "outputs": [
        {
          "output_type": "execute_result",
          "data": {
            "text/plain": [
              "<matplotlib.legend.Legend at 0x7f16a6cff510>"
            ]
          },
          "metadata": {},
          "execution_count": 23
        },
        {
          "output_type": "display_data",
          "data": {
            "text/plain": [
              "<Figure size 432x288 with 1 Axes>"
            ],
            "image/png": "[encoded data removed]"
          },
          "metadata": {
            "needs_background": "light"
          }
        }
      ],
      "source": [
        "import sklearn.datasets\n",
        "\n",
        "n = 1000\n",
        "X,y = sklearn.datasets.make_moons(n,noise=0.05, random_state = 0)\n",
        "\n",
        "plt.scatter(X[y==0, 0], X[y==0, 1],label=\"True Cluster 1\")\n",
        "plt.scatter(X[y==1, 0], X[y==1, 1],label=\"True Cluster 2\")\n",
        "    \n",
        "    \n",
        "plt.legend()"
      ]
    },
    {
      "cell_type": "markdown",
      "metadata": {
        "id": "Hkj8kZPfXBWq"
      },
      "source": [
        "This dataset consists of $n=1000$ data points in 2-dimensional space. While it seems obvious to our eyes that a good partition of the data exists, many off-the-shelf clustering algorithms fail to fully identify the clusters on this dataset. As an example, here is how the standard K-means clustering algorithm fares on this dataset (we will see more examples of clustering in Lecture 7 when we cover Scikit-learn)."
      ]
    },
    {
      "cell_type": "code",
      "execution_count": 24,
      "metadata": {
        "id": "LOjlI3RCXBWq",
        "colab": {
          "base_uri": "https://localhost:8080/",
          "height": 282
        },
        "outputId": "a234ce71-7544-41ad-d849-93cd4ac94e40"
      },
      "outputs": [
        {
          "output_type": "execute_result",
          "data": {
            "text/plain": [
              "<matplotlib.legend.Legend at 0x7f16a53867d0>"
            ]
          },
          "metadata": {},
          "execution_count": 24
        },
        {
          "output_type": "display_data",
          "data": {
            "text/plain": [
              "<Figure size 432x288 with 1 Axes>"
            ],
            "image/png": "[encoded data removed]"
          },
          "metadata": {
            "needs_background": "light"
          }
        }
      ],
      "source": [
        "from sklearn.cluster import KMeans\n",
        "\n",
        "model = KMeans(n_clusters=2, random_state=0)\n",
        "kmeans_labels = model.fit(X).labels_\n",
        "\n",
        "plt.scatter(X[kmeans_labels==0, 0], X[kmeans_labels==0, 1],label=\"K-Means Cluster 1\")\n",
        "plt.scatter(X[kmeans_labels==1, 0], X[kmeans_labels==1, 1],label=\"K-Means Cluster 2\")\n",
        "    \n",
        "    \n",
        "plt.legend()"
      ]
    },
    {
      "cell_type": "markdown",
      "metadata": {
        "id": "hXq12sFnXBWr"
      },
      "source": [
        "### part (a)\n",
        "$\\newcommand{\\norm}[1]{\\left\\lVert#1\\right\\rVert}$\n",
        "In this exercise, we will implement a basic spectral clustering algorithm which will correctly identify the clusters on this dataset. To begin, we will need to form an \"affinity matrix\": the $(i,j)$ entry of this matrix indicates how close together the $i^{th}$ and $j^{th}$ data points are in space. \n",
        "\n",
        "Let $x_i$ denote the $i^{th}$ point in the data set. Form an $n \\times n$ matrix $A$ where $A_{ij} = e^{-10 \\norm{x_i - x_j}}$ (this constant of $10$ is chosen because it gives good results for this task: it may be tuned in practice). (Here, $\\norm{x_i - x_j}$ is the vector $2$-norm of the difference between $x_i$ and $x_j$.) If you did this correctly, the minimum value in $A$ should be `1.679177168057234e-14`.\n"
      ]
    },
    {
      "cell_type": "code",
      "source": [
        "X"
      ],
      "metadata": {
        "colab": {
          "base_uri": "https://localhost:8080/"
        },
        "id": "yxVIQ2W3mf2R",
        "outputId": "49ce380a-d1a1-49e3-d21b-6c2b36b4c047"
      },
      "execution_count": 25,
      "outputs": [
        {
          "output_type": "execute_result",
          "data": {
            "text/plain": [
              "array([[ 2.02100097,  0.49017924],\n",
              "       [ 1.6782009 , -0.20198687],\n",
              "       [-0.28224484,  0.85878484],\n",
              "       ...,\n",
              "       [ 0.32515039, -0.32838537],\n",
              "       [ 0.09757054,  0.1183474 ],\n",
              "       [ 0.57081524, -0.44534014]])"
            ]
          },
          "metadata": {},
          "execution_count": 25
        }
      ]
    },
    {
      "cell_type": "code",
      "execution_count": 26,
      "metadata": {
        "id": "yPWywS0WXBWr",
        "colab": {
          "base_uri": "https://localhost:8080/"
        },
        "outputId": "3fa3a10c-bd30-4d6e-dcdb-18e081158394"
      },
      "outputs": [
        {
          "output_type": "stream",
          "name": "stdout",
          "text": [
            "[[0. 0. 0. ... 0. 0. 0.]\n",
            " [0. 0. 0. ... 0. 0. 0.]\n",
            " [0. 0. 0. ... 0. 0. 0.]\n",
            " ...\n",
            " [0. 0. 0. ... 0. 0. 0.]\n",
            " [0. 0. 0. ... 0. 0. 0.]\n",
            " [0. 0. 0. ... 0. 0. 0.]]\n"
          ]
        }
      ],
      "source": [
        "#YOUR CODE HERE\n",
        "import math\n",
        "\n",
        "A = np.zeros((n, n))\n",
        "print(A)\n",
        "for i in range(0, n):\n",
        "  for j in range(0, n):\n",
        "    A[i, j] = math.exp(-10 * np.linalg.norm(X[i] - X[j]))\n"
      ]
    },
    {
      "cell_type": "code",
      "source": [
        "np.min(A)"
      ],
      "metadata": {
        "colab": {
          "base_uri": "https://localhost:8080/"
        },
        "id": "NWVX6UcEm-Ws",
        "outputId": "56d04362-c12d-4b16-951a-e440427924e2"
      },
      "execution_count": 27,
      "outputs": [
        {
          "output_type": "execute_result",
          "data": {
            "text/plain": [
              "1.679177168057234e-14"
            ]
          },
          "metadata": {},
          "execution_count": 27
        }
      ]
    },
    {
      "cell_type": "markdown",
      "metadata": {
        "id": "PrA8G1FpXBWr"
      },
      "source": [
        "With this, we generate a [Laplacian matrix](https://www.cs.yale.edu/homes/spielman/561/2012/lect02-12.pdf). We do this in two steps: we first construct a diagonal matrix $D$ which contains the row sums of $A$ on its diagonal, and then we create the Laplacian $L = D- A$.  "
      ]
    },
    {
      "cell_type": "code",
      "execution_count": 28,
      "metadata": {
        "id": "plIgLxrlXBWr"
      },
      "outputs": [],
      "source": [
        "D =  np.diag(A.sum(axis=0))\n",
        "L = D-A"
      ]
    },
    {
      "cell_type": "markdown",
      "metadata": {
        "id": "QactvQEEXBWr"
      },
      "source": [
        "The algorithmic task behind spectral clustering algorithms is to find the eigenvector associated with *second smallest* eigenvalue of the matrix $L$. (All eigenvalues of $L$ are positive, and it is a simple exercise to show that the all-ones vector is an eigenvector of $L$ with eigenvalue $0.$) As we will later see, the entries of this vector will enable us to identify the partition in our original dataset. We will build up to this functionality in stages. \n",
        "\n",
        "We begin by writing a linear system solver for the matrix $L$. We will use an adaptation of [Richardson iteration](https://en.wikipedia.org/wiki/Modified_Richardson_iteration) to do this task: the pseudocode for this is given below. \n",
        "\n",
        "```\n",
        "    input) L: an n x n Laplacian matrix, b: an n x 1 vector with entries summing to 0, T: number of iterations\n",
        "    outputs) x: n x 1 vector approximately satisfying Lx =b.\n",
        "\n",
        "    x <- all-zeros vector\n",
        "    steplength = 0.03\n",
        "    for i = 0,1,2,...,T-1:\n",
        "        residual <- b - L*x\n",
        "        x <- x + steplength*residual\n",
        "```\n",
        "\n",
        "Write a function `richardson(L,b,T=500)` which implements the algorithm given above. (Note that the `steplength` parameter of $0.03$ may be optimized slightly, but this value gives good performance for solving linear systems in the Laplacian defined earlier.)"
      ]
    },
    {
      "cell_type": "code",
      "execution_count": 29,
      "metadata": {
        "id": "xrLC0-sAXBWs"
      },
      "outputs": [],
      "source": [
        "#YOUR CODE HERE\n",
        "\n",
        "def richardson(L,b,T=500): #in our later code, we will run for T = 500 iterations\n",
        "  record = []\n",
        "  x = np.zeros((n, 1))\n",
        "  step_length = 0.03\n",
        "  for i in range(0, T):\n",
        "    residual = b - np.matmul(L, x)\n",
        "    x = x + step_length * residual\n",
        "    record.append(np.linalg.norm(np.matmul(L, x)-b))\n",
        "\n",
        "  return record"
      ]
    },
    {
      "cell_type": "markdown",
      "metadata": {
        "id": "-zJ-gQhNXBWs"
      },
      "source": [
        "### part (b)\n",
        "\n",
        "While the Richardson iteration above works well on small problems, it converges slowly on larger instances. This is especially true for our Laplacian linear system: the norm of our residual error may remain higher than $10^{-4}$ even after 1000 iterations. To address this issue, we will implement a version of [Nesterov acceleration](https://calculus.subwiki.org/wiki/Nesterov%27s_gradient_acceleration) to improve the convergence of this procedure. The pseudocode for this algorithm is given below: \n",
        "\n",
        "\n",
        "```\n",
        "    input) L: an n x n Laplacian matrix, b: an n x 1 vector with entries summing to 0, tol: error tolerance\n",
        "    outputs) x_T: n x 1 vector approximately satisfying Lx =b.\n",
        "\n",
        "    x_0, y_0 <- all-zeros vector\n",
        "    steplength = 0.03\n",
        "    alpha = 0.9\n",
        "    for i = 0, 1, ... T-1:\n",
        "        x_{i+1} <- y_i + steplength*(b - L*y_i)\n",
        "        y_{i+1} = x_{i+1} + alpha*(x_{i+1} - x_i)\n",
        "        i = i + 1\n",
        "```\n",
        "\n",
        "\n",
        "Here the index $i$ denotes the index of iteration: $y_1$ is a different $n$-dimensional vector to $y_0$ (and likewise with $x$). It does not indicate It may be helpful to un-roll the for loop to see the vectors it defines: if $\\eta$ is the steplength, we see\n",
        "\n",
        "\\begin{align*}\n",
        "x_1 = y_0 + \\eta(b- L y_0) \\\\\n",
        "y_1 = x_1 + \\alpha (x_1 - x_0) \\\\\n",
        "x_2 = y_1 + \\eta (b- L y_1) \\\\\n",
        "y_2 = x_2 + \\alpha (x_2 - x_1) \\\\\n",
        "x_3 = y_2 + \\eta (b- L y_2) \\\\\n",
        "y_3 = x_3 + \\alpha (x_3 - x_2)\n",
        "\\end{align*}\n",
        "\n",
        "and so on. We see that the vector $x_1$ defined on the first line is used to define both $y_1$ on the second line and $y_2$ on the fourth line. You should think of the algorithm as constructing two sequences of vectors $x_i$ and $y_i$: each $x$ vector is a function of the previous $y$ vector, but each $y$ vector is a function of the previous **two** $x$ vectors. You may find it helpful to store two different $x$ vectors (called $x_{current}$ and $x_{old}$ for example) to implement the algorithm.\n",
        "\n",
        "(For those interested in the justification of this procedure, solving the linear equations $Lx = b$ is equivalent to finding the minimizing $x$ for the quadratic $\\frac{1}{2} x^\\top L x - b^\\top x$. In the pseudocode, we apply the Nesterov accelerated gradient method to this problem. The constants of `alpha` and `steplength` can again be slightly improved, but these give good performance for our Laplacian)\n",
        "\n",
        "Write a function `agd(L,b,T=500)` to implement the above pseudocode. "
      ]
    },
    {
      "cell_type": "code",
      "source": [
        "np.zeros((10,1))"
      ],
      "metadata": {
        "colab": {
          "base_uri": "https://localhost:8080/"
        },
        "id": "g4_RcXL5td99",
        "outputId": "65570050-56a9-491c-acdb-0a6e1f0ff262"
      },
      "execution_count": 30,
      "outputs": [
        {
          "output_type": "execute_result",
          "data": {
            "text/plain": [
              "array([[0.],\n",
              "       [0.],\n",
              "       [0.],\n",
              "       [0.],\n",
              "       [0.],\n",
              "       [0.],\n",
              "       [0.],\n",
              "       [0.],\n",
              "       [0.],\n",
              "       [0.]])"
            ]
          },
          "metadata": {},
          "execution_count": 30
        }
      ]
    },
    {
      "cell_type": "code",
      "execution_count": 31,
      "metadata": {
        "id": "ayVLtazXXBWs"
      },
      "outputs": [],
      "source": [
        "#YOUR CODE HERE\n",
        "def agd(L,b,T=500):\n",
        "  record = []\n",
        "  \n",
        "  X = [None for _ in range(0, T+1)]\n",
        "  X[0] = np.zeros((n,1))\n",
        "  Y = [None for _ in range(0, T+1)]\n",
        "  Y[0] = np.zeros((n, 1))\n",
        "\n",
        "  step_length = 0.03\n",
        "  alpha = 0.9\n",
        "\n",
        "  for i in range(0, T):\n",
        "    X[i+1] = Y[i] + step_length * (b - np.matmul(L, Y[i]))\n",
        "    Y[i+1] = X[i+1] + alpha * (X[i+1] - X[i])\n",
        "  \n",
        "  for x in X:\n",
        "    record.append(np.linalg.norm(np.matmul(L, x)-b))\n",
        "  \n",
        "  return X[-1], record"
      ]
    },
    {
      "cell_type": "code",
      "execution_count": 32,
      "metadata": {
        "id": "fK6VnHtKXBWs",
        "colab": {
          "base_uri": "https://localhost:8080/"
        },
        "outputId": "49fa283c-96df-402c-b7a8-c8c53d68e78b"
      },
      "outputs": [
        {
          "output_type": "stream",
          "name": "stdout",
          "text": [
            "Elapsed time for Richardson Method: 69.92904114723206\n",
            "Elapsed time for Nesterov Method: 74.87686276435852\n"
          ]
        }
      ],
      "source": [
        "import time\n",
        "\n",
        "#TESTING-- try using Richardson and AGD to solve the linear system Lx = v\n",
        "np.random.seed(0)\n",
        "v = np.random.rand(n)\n",
        "v -= np.sum(v)/n\n",
        "\n",
        "start_time = time.time()\n",
        "richardson_result = richardson(L,v)\n",
        "print(f\"Elapsed time for Richardson Method: {time.time() - start_time}\")\n",
        "start_time = time.time()\n",
        "_, nesterov_result = agd(L,v)\n",
        "print(f\"Elapsed time for Nesterov Method: {time.time() - start_time}\")"
      ]
    },
    {
      "cell_type": "markdown",
      "metadata": {
        "id": "qX0qJXxqXBWs"
      },
      "source": [
        "If you did this correctly, you will see that the Nesterov acceleration method converges dramatically faster than Richardson iteration. \n",
        "\n",
        "We will now try to quantify this effect. Modify your implementations of `richardson` and `agd` to additionally return an array containing $\\norm{L x_i - b}$ for each $x_i$ encountered during the while loop of the algorithm. Compare these on a semilogy plot, and label your curves appropriately. Save the figure as `qsn6b.png`. "
      ]
    },
    {
      "cell_type": "code",
      "execution_count": 33,
      "metadata": {
        "id": "7-rmgRgwXBWt",
        "colab": {
          "base_uri": "https://localhost:8080/",
          "height": 536
        },
        "outputId": "e5d51ce6-5f03-46e8-caa3-ed7afae59fbb"
      },
      "outputs": [
        {
          "output_type": "execute_result",
          "data": {
            "text/plain": [
              "[<matplotlib.lines.Line2D at 0x7f16a2a73ed0>]"
            ]
          },
          "metadata": {},
          "execution_count": 33
        },
        {
          "output_type": "display_data",
          "data": {
            "text/plain": [
              "<Figure size 432x288 with 1 Axes>"
            ],
            "image/png": "[encoded data removed]"
          },
          "metadata": {
            "needs_background": "light"
          }
        },
        {
          "output_type": "display_data",
          "data": {
            "text/plain": [
              "<Figure size 432x288 with 1 Axes>"
            ],
            "image/png": "[encoded data removed]"
          },
          "metadata": {
            "needs_background": "light"
          }
        }
      ],
      "source": [
        "#YOUR CODE HERE\n",
        "plt.semilogy(richardson_result)\n",
        "plt.figure()\n",
        "plt.semilogy(nesterov_result)"
      ]
    },
    {
      "cell_type": "markdown",
      "metadata": {
        "id": "vJvyV7gRXBWt"
      },
      "source": [
        "### part (c)\n",
        "\n",
        "\n",
        "We are finally ready to apply our linear system solver to spectral clustering. We do this via a modification of the power method from Lecture 4. We provide the pseudocode for this method below:\n",
        "\n",
        "```\n",
        "    input) L: an n x n Laplacian matrix, iters: number of iterations\n",
        "    outputs) l: the second-smallest eigenvalue of L\n",
        "             v: the corresponding eigenvector\n",
        "\n",
        "    v <- random vector of length n\n",
        "    v <-  v - sum(v)/n \n",
        "    #this ensures v is orthogonal to the all-ones vector (the smallest eigenvalue of L) \n",
        "    for i = 0,1,2...iters-1: \n",
        "        v <- x solving the equation L*x = v\n",
        "        v <-  v - sum(v)/n \n",
        "        #this ensures v is orthogonal to the all-ones vector (the smallest eigenvalue of L) \n",
        "        v <- v / ||v||_2\n",
        "        l <- v^T L v\n",
        "```\n",
        "\n",
        "Here, `||v||_2` denotes the vector $2$-norm (there is a function in numpy to compute this). Write a function `pow_method(L,iters=20)` which implements the above pseudocode and solves the linear systems using your `agd` implementation from part (b). "
      ]
    },
    {
      "cell_type": "code",
      "execution_count": null,
      "metadata": {
        "id": "uwxjBvBHXBWt"
      },
      "outputs": [],
      "source": [
        "def pow_method(L,iters=20):\n",
        "  np.random.seed(0)\n",
        "  n = L.shape[0]\n",
        "  v = np.random.rand(n)\n",
        "  v -= np.sum(v)/n\n",
        "\n",
        "  for i in range(0, iters):\n",
        "    v,_ = np.array(agd(L, v))\n",
        "    v -= np.sum(v)/n\n",
        "\n",
        "    v = v / np.linalg.norm(v, 2)\n",
        "    # print(v.shape)\n",
        "    # print(L.shape)\n",
        "    # print(v.T.shape)\n",
        "    l = np.matmul(np.matmul(v.T, L), v)\n",
        "\n",
        "  return l, v\n",
        "\n",
        "l, v = pow_method(L)"
      ]
    },
    {
      "cell_type": "code",
      "source": [
        "l"
      ],
      "metadata": {
        "id": "EZb8QHJydQKc"
      },
      "execution_count": null,
      "outputs": []
    },
    {
      "cell_type": "markdown",
      "metadata": {
        "id": "Wq5lp7CtXBWt"
      },
      "source": [
        "For the matrix $L$ in the problem, the eigenvalue you obtain should be between $0.1$ and $0.2$. \n",
        "\n",
        "We are finally ready to implement spectral clustering. To do this, use the function `np.argsort` to identify the indices of the largest $500$ entries from $v$. These will (hopefully) correspond to the elements of one of the clusters in our dataset. Additionally, compute the indices of the smallest $500$ entries of $v$: these will give the datapoints belonging to the other cluster. \n",
        "\n",
        "Modify the plotting code from the K-means example from earlier to display the computed spectral clusters of our input data. Label your plot appropriately, and save the figure as `qsn6c.png`."
      ]
    },
    {
      "cell_type": "code",
      "execution_count": null,
      "metadata": {
        "id": "wSpBrA-0XBWt"
      },
      "outputs": [],
      "source": [
        "#YOUR CODE HERE\n",
        "result_arr = np.argsort(v)\n",
        "\n",
        "cluster1_indices = np.where(result_arr <= 500)\n",
        "cluster2_indices = np.where(result_arr > 500)\n",
        "\n",
        "plt.scatter(X[cluster1_indices, 0], X[cluster1_indices, 1],label=\"K-Means Cluster 1\")\n",
        "plt.scatter(X[cluster2_indices, 0], X[cluster2_indices, 1],label=\"K-Means Cluster 2\")\n",
        "    \n",
        "    \n",
        "plt.legend()    "
      ]
    },
    {
      "cell_type": "code",
      "source": [
        "cluster2_indices"
      ],
      "metadata": {
        "id": "4pUBO5lagCak"
      },
      "execution_count": null,
      "outputs": []
    },
    {
      "cell_type": "markdown",
      "metadata": {
        "id": "oqbqRXG7XBWu"
      },
      "source": [
        "# Submission Instructions\n",
        "\n",
        "You need to submit the following in canvas\n",
        "1. This notebook with the code filled in for each question\n",
        "2. The figures\n",
        "    1. qsn3.png\n",
        "    2. qsn4c.png and qsn4c_semilogy.png\n",
        "    3. qsn5.png\n",
        "    4. qsn6b.png\n",
        "    5. qsn6c.png"
      ]
    }
  ],
  "metadata": {
    "kernelspec": {
      "display_name": "Python 3",
      "language": "python",
      "name": "python3"
    },
    "language_info": {
      "codemirror_mode": {
        "name": "ipython",
        "version": 3
      },
      "file_extension": ".py",
      "mimetype": "text/x-python",
      "name": "python",
      "nbconvert_exporter": "python",
      "pygments_lexer": "ipython3",
      "version": "3.7.3"
    },
    "colab": {
      "name": "KorkmazRamazanBurak_H1",
      "provenance": [],
      "collapsed_sections": [],
      "include_colab_link": true
    }
  },
  "nbformat": 4,
  "nbformat_minor": 0
}