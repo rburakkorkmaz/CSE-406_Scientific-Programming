{
  "nbformat": 4,
  "nbformat_minor": 0,
  "metadata": {
    "colab": {
      "name": "Korkmaz_Ramazan Burak_EX2",
      "provenance": [],
      "collapsed_sections": [],
      "authorship_tag": "ABX9TyNyTqYwiM/7stHDWWGEHQAC",
      "include_colab_link": true
    },
    "kernelspec": {
      "name": "python3",
      "display_name": "Python 3"
    },
    "language_info": {
      "name": "python"
    }
  },
  "cells": [
    {
      "cell_type": "markdown",
      "metadata": {
        "id": "view-in-github",
        "colab_type": "text"
      },
      "source": [
        "<a href=\"https://colab.research.google.com/github/rburakkorkmaz/CSE-406_Scientific-Programming/blob/main/Korkmaz_Ramazan_Burak_EX2.ipynb\" target=\"_parent\"><img src=\"https://colab.research.google.com/assets/colab-badge.svg\" alt=\"Open In Colab\"/></a>"
      ]
    },
    {
      "cell_type": "markdown",
      "source": [
        "<h1><strong>Exercise 2</strong></h1>\n",
        "<h1><strong>Student Name & Surname:</strong> Ramazan Burak Korkmaz</h1>\n",
        "<h1><strong>Student ID:</strong> 202151056004</h1>"
      ],
      "metadata": {
        "id": "BSRS8_hE2Th4"
      }
    },
    {
      "cell_type": "markdown",
      "source": [
        "Needed packages"
      ],
      "metadata": {
        "id": "5VoZtt_P3qsP"
      }
    },
    {
      "cell_type": "code",
      "source": [
        "import random\n",
        "from collections import Counter\n",
        "import random\n",
        "import sys"
      ],
      "metadata": {
        "id": "vPxxC2gB3qJA"
      },
      "execution_count": null,
      "outputs": []
    },
    {
      "cell_type": "markdown",
      "source": [
        "<h1><strong>4) Lists</strong></h1>"
      ],
      "metadata": {
        "id": "lcoyg1VT2t5n"
      }
    },
    {
      "cell_type": "markdown",
      "source": [
        "<h1><strong>Exercise 4.1:</strong> Short questions</h1>\n",
        "<ul>\n",
        "  <li>(a) Write a function that prints the elements of a list</li>\n",
        "  <li>(b) Write a function that prints the elements of a list in reverse</li>\n",
        "  <li>(c) Write your own implementation of the len function that returns the number of elements in a list.</li>\n",
        "</ul>"
      ],
      "metadata": {
        "id": "0GSRaB-62247"
      }
    },
    {
      "cell_type": "markdown",
      "source": [
        "<h2><strong>Answer (a)</storng><h2>"
      ],
      "metadata": {
        "id": "ulB8esnn3LMm"
      }
    },
    {
      "cell_type": "code",
      "execution_count": null,
      "metadata": {
        "colab": {
          "base_uri": "https://localhost:8080/"
        },
        "id": "mbuDmSoj2RWH",
        "outputId": "30f6ed8d-2535-4443-98ec-245bdf225011"
      },
      "outputs": [
        {
          "output_type": "stream",
          "name": "stdout",
          "text": [
            "Our random list is: [57, 95, 50, 78, 25, 86, 88, 91, 31, 51]\n",
            "Now we will print list with function\n",
            "57 95 50 78 25 86 88 91 31 51 "
          ]
        }
      ],
      "source": [
        "def print_list_elements(input_list):\n",
        "  for element in input_list:\n",
        "    print(element, end = \" \")\n",
        "\n",
        "# Creating a random list\n",
        "random_list = random.sample(range(0, 100), 10)\n",
        "\n",
        "print(f\"Our random list is: {random_list}\")\n",
        "\n",
        "print(\"Now we will print list with function\")\n",
        "print_list_elements(random_list)"
      ]
    },
    {
      "cell_type": "markdown",
      "source": [
        "<h2><strong>Answer (b)</storng><h2>"
      ],
      "metadata": {
        "id": "kJo2F9az4IfV"
      }
    },
    {
      "cell_type": "code",
      "source": [
        "def print_list_elements_reverse(input_list):\n",
        "  for element in input_list[::-1]:\n",
        "    print(element, end = \" \")\n",
        "\n",
        "# Creating a random list\n",
        "random_list = random.sample(range(0, 100), 10)\n",
        "\n",
        "print(f\"Our random list is: {random_list}\")\n",
        "\n",
        "print(\"Now we will print reversed list with function\")\n",
        "print_list_elements_reverse(random_list)"
      ],
      "metadata": {
        "colab": {
          "base_uri": "https://localhost:8080/"
        },
        "id": "dnZv5tIL4CSR",
        "outputId": "8ab5f361-9547-495f-eee6-ffa25dc78ed0"
      },
      "execution_count": null,
      "outputs": [
        {
          "output_type": "stream",
          "name": "stdout",
          "text": [
            "Our random list is: [15, 99, 59, 26, 30, 29, 84, 60, 89, 70]\n",
            "Now we will print reversed list with function\n",
            "70 89 60 84 29 30 26 59 99 15 "
          ]
        }
      ]
    },
    {
      "cell_type": "markdown",
      "source": [
        "<h2><strong>Answer (c)</storng><h2>"
      ],
      "metadata": {
        "id": "x361tEpE5if_"
      }
    },
    {
      "cell_type": "code",
      "source": [
        "def my_len(input_list):\n",
        "  counter = 0\n",
        "  for _ in input_list:\n",
        "    counter = counter + 1\n",
        "  return counter\n",
        "\n",
        "# Creating a random list\n",
        "random_list = random.sample(range(0, 100), 10)\n",
        "\n",
        "print(f\"Our random list's length by len() method: {len(random_list)}\")\n",
        "\n",
        "print(f\"Length with our own function: {my_len(random_list)}\")"
      ],
      "metadata": {
        "colab": {
          "base_uri": "https://localhost:8080/"
        },
        "id": "_0fNQabh4Wa7",
        "outputId": "5c7482c2-2c1d-471b-963b-4e15abb74eb1"
      },
      "execution_count": null,
      "outputs": [
        {
          "output_type": "stream",
          "name": "stdout",
          "text": [
            "Our random list's length by len() method: 10\n",
            "Length with our own function: 10\n"
          ]
        }
      ]
    },
    {
      "cell_type": "markdown",
      "source": [
        "<h1><strong>Exercise 4.2:</strong> Copying lists</h1>\n",
        "<ul>\n",
        "  <li>(a) Create a list a with some entries.</li>\n",
        "  <li>(b) Now set b = a</li>\n",
        "  <li>(c) Change b[1]</li>\n",
        "  <li>(d) What happened to a?</li>\n",
        "  <li>(e) Now set c = a[:]</li>\n",
        "  <li>(f) Change c[2]</li>\n",
        "  <li>(g) What happened to a?</li>\n",
        "</ul>\n",
        "\n",
        "Now create a function set_first_elem_to_zero(l) that takes a list, sets its first entry to zero, and\n",
        "returns the list.\n",
        "What happens to the original list?"
      ],
      "metadata": {
        "id": "tSy5hhXD6NG_"
      }
    },
    {
      "cell_type": "markdown",
      "source": [
        "<h2><strong>Answer (a)</storng><h2>"
      ],
      "metadata": {
        "id": "G7Ux9I2t6pVy"
      }
    },
    {
      "cell_type": "code",
      "source": [
        "a = [\"Ramazan\", \"Burak\", \"Korkmaz\", \"Bilgisayar\", \"Mühendisliği\"]"
      ],
      "metadata": {
        "id": "RwGYiw3V6rDm"
      },
      "execution_count": null,
      "outputs": []
    },
    {
      "cell_type": "markdown",
      "source": [
        "<h2><strong>Answer (b)</storng><h2>"
      ],
      "metadata": {
        "id": "CpWYWY3S6pqW"
      }
    },
    {
      "cell_type": "code",
      "source": [
        "b = a"
      ],
      "metadata": {
        "id": "YrFQiRvW61XP"
      },
      "execution_count": null,
      "outputs": []
    },
    {
      "cell_type": "markdown",
      "source": [
        "<h2><strong>Answer (c)</storng><h2>"
      ],
      "metadata": {
        "id": "s3F__SBf6py9"
      }
    },
    {
      "cell_type": "code",
      "source": [
        "b[1] = \"Yüksek Lisans\""
      ],
      "metadata": {
        "id": "J9sIroeC663P"
      },
      "execution_count": null,
      "outputs": []
    },
    {
      "cell_type": "markdown",
      "source": [
        "<h2><strong>Answer (d)</storng><h2>\n",
        "<h3> After changing an element in list b, it afffected to list a. It is due to that we assigned b to a which is a memory operation. Only difference between b and a is their variable names. If we want to create a seperate list from a, we should have used copy() method or [:] instead."
      ],
      "metadata": {
        "id": "FXKlG1106p7s"
      }
    },
    {
      "cell_type": "code",
      "source": [
        "print(f\"List a: {a}\")\n",
        "print(f\"List b: {b}\")"
      ],
      "metadata": {
        "colab": {
          "base_uri": "https://localhost:8080/"
        },
        "id": "v0zyjHfw7AZf",
        "outputId": "896f9945-2fe0-45b2-9288-fe4ef379b27b"
      },
      "execution_count": null,
      "outputs": [
        {
          "output_type": "stream",
          "name": "stdout",
          "text": [
            "List a: ['Ramazan', 'Yüksek Lisans', 'Korkmaz', 'Bilgisayar', 'Mühendisliği']\n",
            "List b: ['Ramazan', 'Yüksek Lisans', 'Korkmaz', 'Bilgisayar', 'Mühendisliği']\n"
          ]
        }
      ]
    },
    {
      "cell_type": "markdown",
      "source": [
        "<h2><strong>Answer (e)</storng><h2>"
      ],
      "metadata": {
        "id": "yZEk0B9o6qE9"
      }
    },
    {
      "cell_type": "code",
      "source": [
        "c = a[:]"
      ],
      "metadata": {
        "id": "rLJtgpEe7xEk"
      },
      "execution_count": null,
      "outputs": []
    },
    {
      "cell_type": "markdown",
      "source": [
        "<h2><strong>Answer (f)</storng><h2>"
      ],
      "metadata": {
        "id": "9trKpeaC6qON"
      }
    },
    {
      "cell_type": "code",
      "source": [
        "c[2] = \"Akdeniz\""
      ],
      "metadata": {
        "id": "qw3CWsLe7z7C"
      },
      "execution_count": null,
      "outputs": []
    },
    {
      "cell_type": "markdown",
      "source": [
        "<h2><strong>Answer (g)</storng><h2>"
      ],
      "metadata": {
        "id": "8dVrhz6h6qXE"
      }
    },
    {
      "cell_type": "code",
      "source": [
        "print(f\"List a: {a}\")\n",
        "print(f\"List b: {b}\")\n",
        "print(f\"List c: {c}\")"
      ],
      "metadata": {
        "colab": {
          "base_uri": "https://localhost:8080/"
        },
        "id": "EIQ-NGaX6Jo7",
        "outputId": "53f2975b-6098-4ffd-e37f-a3222f6b0817"
      },
      "execution_count": null,
      "outputs": [
        {
          "output_type": "stream",
          "name": "stdout",
          "text": [
            "List a: ['Ramazan', 'Yüksek Lisans', 'Korkmaz', 'Bilgisayar', 'Mühendisliği']\n",
            "List b: ['Ramazan', 'Yüksek Lisans', 'Korkmaz', 'Bilgisayar', 'Mühendisliği']\n",
            "List c: ['Ramazan', 'Yüksek Lisans', 'Akdeniz', 'Bilgisayar', 'Mühendisliği']\n"
          ]
        }
      ]
    },
    {
      "cell_type": "code",
      "source": [
        "def set_first_elem_to_zero(l):\n",
        "  l[0] = 0\n",
        "  return l\n",
        "\n",
        "# Creating a random list\n",
        "random_list = random.sample(range(1, 100), 10)\n",
        "\n",
        "print(f\"Our random list is: {random_list}\")\n",
        "\n",
        "# After use of function we created, our input function is changed to. So it means\n",
        "# we passed our list variable to function by reference\n",
        "\n",
        "print(f\"Return of function: {set_first_elem_to_zero(random_list)}\")\n",
        "print(f\"After use of function: {random_list}\")"
      ],
      "metadata": {
        "colab": {
          "base_uri": "https://localhost:8080/"
        },
        "id": "im2w9nha77L4",
        "outputId": "6559cc40-bb33-412c-9590-000285ccff22"
      },
      "execution_count": null,
      "outputs": [
        {
          "output_type": "stream",
          "name": "stdout",
          "text": [
            "Our random list is: [22, 15, 35, 31, 41, 6, 90, 8, 50, 51]\n",
            "Return of function: [0, 15, 35, 31, 41, 6, 90, 8, 50, 51]\n",
            "After use of function: [0, 15, 35, 31, 41, 6, 90, 8, 50, 51]\n"
          ]
        }
      ]
    },
    {
      "cell_type": "markdown",
      "source": [
        "<h1><strong>Exercise 4.3:</strong> Lists of lists</h1>\n",
        "What is the di\u000berence between a and b:\n",
        "\n",
        "a = [[]] * 3\n",
        "\n",
        "b = [[] for _ in xrange(3)]"
      ],
      "metadata": {
        "id": "reMvuk9I9VIU"
      }
    },
    {
      "cell_type": "code",
      "source": [
        "a = [[]] * 3\n",
        "b = [[] for _ in range(3)]"
      ],
      "metadata": {
        "id": "HcED4lF48hVp"
      },
      "execution_count": null,
      "outputs": []
    },
    {
      "cell_type": "code",
      "source": [
        "# As you can see, there is no differnce between them.\n",
        "# In a we just duplicated empty 2D list with three\n",
        "# In b we used list comprehension to create a 2D list\n",
        "print(f\"List a: {a}\")\n",
        "print(f\"List b: {b}\")"
      ],
      "metadata": {
        "colab": {
          "base_uri": "https://localhost:8080/"
        },
        "id": "zAiAeKsM9k2x",
        "outputId": "f10cf00a-dfa3-41be-dd32-b8852b7fd9a1"
      },
      "execution_count": null,
      "outputs": [
        {
          "output_type": "stream",
          "name": "stdout",
          "text": [
            "List a: [[], [], []]\n",
            "List b: [[], [], []]\n"
          ]
        }
      ]
    },
    {
      "cell_type": "markdown",
      "source": [
        "<h1><strong>Exercise 4.4:</strong> Lists and functions</h1>\n",
        "Write a function that takes a list and an index, and sets the value of the list at the given index to 0."
      ],
      "metadata": {
        "id": "ZV8Uej1o-F_P"
      }
    },
    {
      "cell_type": "code",
      "source": [
        "def set_index_to_zero(input_list, index_to_change):\n",
        "  input_list[index_to_change] = 0\n",
        "\n",
        "# Creating a random list\n",
        "random_list = random.sample(range(1, 100), 5)\n",
        "\n",
        "print(f\"Our random list is: {random_list}\")\n",
        "\n",
        "# Changing its third element to zero\n",
        "set_index_to_zero(random_list, 2)\n",
        "print(f\"Modified list: {random_list}\")"
      ],
      "metadata": {
        "colab": {
          "base_uri": "https://localhost:8080/"
        },
        "id": "zRwQ7F6e9sfJ",
        "outputId": "90d5e24b-6e3a-48cc-fb4d-657a6c56e5cc"
      },
      "execution_count": null,
      "outputs": [
        {
          "output_type": "stream",
          "name": "stdout",
          "text": [
            "Our random list is: [15, 70, 84, 47, 82]\n",
            "Modified list: [15, 70, 0, 47, 82]\n"
          ]
        }
      ]
    },
    {
      "cell_type": "markdown",
      "source": [
        "<h1><strong>Exercise 4.5:</strong> Primes</h1>\n",
        "In Section 3 you wrote a function that prints all primes up to n, and a function that prints the first n\n",
        "primes. Update these functions such that they return lists instead."
      ],
      "metadata": {
        "id": "MtI-E3Xx-vuF"
      }
    },
    {
      "cell_type": "code",
      "source": [
        "def is_prime(n):\n",
        "  if ((n + 1) % 6 == 0) or ((n - 1) % 6 == 0):\n",
        "    return True\n",
        "  return False\n",
        "\n",
        "# This function will use is_prime()\n",
        "def primes_up_to_n(n):\n",
        "  prime_values = [2, 3]\n",
        "  for number in range(3, n):\n",
        "    if is_prime(number):\n",
        "      prime_values.append(number)\n",
        "\n",
        "  return prime_values\n",
        "\n",
        "# This function will use is_prime()\n",
        "def first_n_primes(n):\n",
        "  prime_values = [2, 3]\n",
        "  number_to_check = 2\n",
        "  count = 2\n",
        "  while count < n:\n",
        "    if is_prime(number_to_check):\n",
        "      prime_values.append(number_to_check)\n",
        "      count = count + 1\n",
        "\n",
        "    number_to_check = number_to_check + 1\n",
        "\n",
        "  return prime_values\n",
        "\n",
        "\n",
        "# Primes up to 50\n",
        "print(f\"Prime numbers up to 50: {primes_up_to_n(50)}\")\n",
        "\n",
        "# First 20 prime numbers\n",
        "print(f\"First 20 prime numbers: {first_n_primes(20)}\")\n"
      ],
      "metadata": {
        "colab": {
          "base_uri": "https://localhost:8080/"
        },
        "id": "QglICunt-oOJ",
        "outputId": "d4c7bc89-c8c7-4742-acc2-067aaab49c75"
      },
      "execution_count": null,
      "outputs": [
        {
          "output_type": "stream",
          "name": "stdout",
          "text": [
            "Prime numbers up to 50: [2, 3, 5, 7, 11, 13, 17, 19, 23, 25, 29, 31, 35, 37, 41, 43, 47, 49]\n",
            "First 20 prime numbers: [2, 3, 5, 7, 11, 13, 17, 19, 23, 25, 29, 31, 35, 37, 41, 43, 47, 49, 53, 55]\n"
          ]
        }
      ]
    },
    {
      "cell_type": "markdown",
      "source": [
        "<h1><strong>Exercise 4.6:</strong> List comprehensions</h1>\n",
        "Let i; j = 1; : : : ; n\n",
        "\n",
        "<ul>\n",
        "  <li>(a) Generate a list with elements [i,j].</li>\n",
        "  <li>(b) Generate a list with elements [i,j] with i < j</li>\n",
        "  <li>(c) Generate a list with elements i + j with both i and j prime and i > j.</li>\n",
        "  <li>(d) Write a function that evaluates an arbitrary polynomial a0 + a1x + a2x2 + : : : + anxn using a list comprehension, where you are given x and a list with coe\u000ecients coefs (hint: use enumerate)</li>\n",
        "</ul>"
      ],
      "metadata": {
        "id": "y16y2Fsz_6vQ"
      }
    },
    {
      "cell_type": "markdown",
      "source": [
        "<h2><strong>Answer (a)</storng><h2>"
      ],
      "metadata": {
        "id": "JLAEp6ykAUCv"
      }
    },
    {
      "cell_type": "code",
      "source": [
        "i = j = 5\n",
        "\n",
        "l = [[f\"{i},{j}\" for j in range(1, j+1)] for i in range(1, i+1)]\n",
        "\n",
        "l"
      ],
      "metadata": {
        "colab": {
          "base_uri": "https://localhost:8080/"
        },
        "id": "lvpmaFEw_e4a",
        "outputId": "05399035-11b7-4257-f129-e3f8ef379ef0"
      },
      "execution_count": null,
      "outputs": [
        {
          "output_type": "execute_result",
          "data": {
            "text/plain": [
              "[['1,1', '1,2', '1,3', '1,4', '1,5'],\n",
              " ['2,1', '2,2', '2,3', '2,4', '2,5'],\n",
              " ['3,1', '3,2', '3,3', '3,4', '3,5'],\n",
              " ['4,1', '4,2', '4,3', '4,4', '4,5'],\n",
              " ['5,1', '5,2', '5,3', '5,4', '5,5']]"
            ]
          },
          "metadata": {},
          "execution_count": 18
        }
      ]
    },
    {
      "cell_type": "markdown",
      "source": [
        "<h2><strong>Answer (b)</storng><h2>"
      ],
      "metadata": {
        "id": "ySAkhJxNDIxO"
      }
    },
    {
      "cell_type": "code",
      "source": [
        "i = j = 10\n",
        "\n",
        "l = [[f\"{i},{j}\" for j in range(i, j)] for i in range(1, i+1)]\n",
        "\n",
        "l"
      ],
      "metadata": {
        "colab": {
          "base_uri": "https://localhost:8080/"
        },
        "id": "1ntbt6YXA_qR",
        "outputId": "6cb28e88-5f19-4398-90b1-9f58432b4172"
      },
      "execution_count": null,
      "outputs": [
        {
          "output_type": "execute_result",
          "data": {
            "text/plain": [
              "[['1,1', '1,2', '1,3', '1,4', '1,5', '1,6', '1,7', '1,8', '1,9'],\n",
              " ['2,2', '2,3', '2,4', '2,5', '2,6', '2,7', '2,8', '2,9'],\n",
              " ['3,3', '3,4', '3,5', '3,6', '3,7', '3,8', '3,9'],\n",
              " ['4,4', '4,5', '4,6', '4,7', '4,8', '4,9'],\n",
              " ['5,5', '5,6', '5,7', '5,8', '5,9'],\n",
              " ['6,6', '6,7', '6,8', '6,9'],\n",
              " ['7,7', '7,8', '7,9'],\n",
              " ['8,8', '8,9'],\n",
              " ['9,9'],\n",
              " []]"
            ]
          },
          "metadata": {},
          "execution_count": 19
        }
      ]
    },
    {
      "cell_type": "markdown",
      "source": [
        "<h2><strong>Answer (c)</storng><h2>"
      ],
      "metadata": {
        "id": "CmzJh9FJDJCk"
      }
    },
    {
      "cell_type": "code",
      "source": [
        "n = 10\n",
        "\n",
        "l = [[i+j for j in first_n_primes(n)] for i in first_n_primes(n)]\n",
        "\n",
        "l"
      ],
      "metadata": {
        "colab": {
          "base_uri": "https://localhost:8080/"
        },
        "id": "jLXSWjV3Bwtg",
        "outputId": "7810dfb4-fbbb-4940-b966-8c5f77335d31"
      },
      "execution_count": null,
      "outputs": [
        {
          "output_type": "execute_result",
          "data": {
            "text/plain": [
              "[[4, 5, 7, 9, 13, 15, 19, 21, 25, 27],\n",
              " [5, 6, 8, 10, 14, 16, 20, 22, 26, 28],\n",
              " [7, 8, 10, 12, 16, 18, 22, 24, 28, 30],\n",
              " [9, 10, 12, 14, 18, 20, 24, 26, 30, 32],\n",
              " [13, 14, 16, 18, 22, 24, 28, 30, 34, 36],\n",
              " [15, 16, 18, 20, 24, 26, 30, 32, 36, 38],\n",
              " [19, 20, 22, 24, 28, 30, 34, 36, 40, 42],\n",
              " [21, 22, 24, 26, 30, 32, 36, 38, 42, 44],\n",
              " [25, 26, 28, 30, 34, 36, 40, 42, 46, 48],\n",
              " [27, 28, 30, 32, 36, 38, 42, 44, 48, 50]]"
            ]
          },
          "metadata": {},
          "execution_count": 20
        }
      ]
    },
    {
      "cell_type": "markdown",
      "source": [
        "<h2><strong>Answer (d)</storng><h2>"
      ],
      "metadata": {
        "id": "vJsRUvGBDKkj"
      }
    },
    {
      "cell_type": "code",
      "source": [
        "a = [1, 2, 3, 4, 5]\n",
        "x = 3\n",
        "\n",
        "sum = 0\n",
        "for index, number in enumerate(a):\n",
        "  sum = sum + number*(x**index)\n",
        "\n",
        "print(f\"Sum: {sum}\")"
      ],
      "metadata": {
        "colab": {
          "base_uri": "https://localhost:8080/"
        },
        "id": "2vECxLYICw_D",
        "outputId": "b3dec05b-0f30-477e-f369-da27d41fe5ec"
      },
      "execution_count": null,
      "outputs": [
        {
          "output_type": "stream",
          "name": "stdout",
          "text": [
            "Sum: 547\n"
          ]
        }
      ]
    },
    {
      "cell_type": "markdown",
      "source": [
        "<h1><strong>Exercise 4.7:</strong> Filter</h1>\n",
        "In lecture we have seen how to implement map using list comprehensions. Implement filter using list\n",
        "comprehensions. Name your functions myfilter so you can compare with Python's standard filter."
      ],
      "metadata": {
        "id": "68JoNjbCN5GS"
      }
    },
    {
      "cell_type": "code",
      "source": [
        "def filter_above(element, n):\n",
        "  return element > n\n",
        "\n",
        "def filter_below(element, n):\n",
        "  return element < n\n",
        "\n",
        "def myfilter(filter_function, filter_value,l):\n",
        "  return [element for element in l if filter_function(element, filter_value)]\n",
        "\n",
        "\n",
        "# Creating a random list\n",
        "random_list = random.sample(range(1, 100), 5)\n",
        "print(f\"Random list: {random_list}\")\n",
        "print(f\"70 above Filtered list: {myfilter(filter_above, 70,random_list)}\")\n",
        "print(f\"50 below Filtered list: {myfilter(filter_below, 50,random_list)}\")\n"
      ],
      "metadata": {
        "colab": {
          "base_uri": "https://localhost:8080/"
        },
        "id": "OYwnQQGSDrtq",
        "outputId": "939a3c06-c48a-4a0d-f936-56ce9f9c766f"
      },
      "execution_count": null,
      "outputs": [
        {
          "output_type": "stream",
          "name": "stdout",
          "text": [
            "Random list: [20, 51, 66, 77, 58]\n",
            "70 above Filtered list: [77]\n",
            "50 below Filtered list: [20]\n"
          ]
        }
      ]
    },
    {
      "cell_type": "markdown",
      "source": [
        "<h1><strong>Exercise 4.8:</strong> Flatten a list of lists</h1>\n",
        "Consider having a list with lists as elements, e.g. [[1,3], [3,6]].\n",
        "\n",
        "Write a function that takes such a list, and returns a list with as elements the elements of the sublists,\n",
        "e.g. [1, 3, 3, 6]."
      ],
      "metadata": {
        "id": "XuD4jzLIOl8X"
      }
    },
    {
      "cell_type": "code",
      "source": [
        "def my_flatten_func(input_list):\n",
        "  temp = []\n",
        "\n",
        "  for inner_list in input_list:\n",
        "    for element in inner_list:\n",
        "      temp.append(element)\n",
        "\n",
        "  return temp\n",
        "\n",
        "# Example list\n",
        "example_list = [[1, 3], [3, 6], [5, 1, 7]]\n",
        "\n",
        "# Output of my_flatten_func\n",
        "print(f\"Flatten list: {my_flatten_func(example_list)}\")"
      ],
      "metadata": {
        "id": "TPpBx_VQPg79",
        "colab": {
          "base_uri": "https://localhost:8080/"
        },
        "outputId": "33db2264-c375-4d35-c0ac-fe9087a3d17f"
      },
      "execution_count": null,
      "outputs": [
        {
          "output_type": "stream",
          "name": "stdout",
          "text": [
            "Flatten list: [1, 3, 3, 6, 5, 1, 7]\n"
          ]
        }
      ]
    },
    {
      "cell_type": "markdown",
      "source": [
        "<h1><strong>Exercise 4.9:</strong> Finding the longest word</h1>\n",
        "Write a function that returns the longest word in a variable text that contains a sentence. While text may contain punctuation, these should not be taken into account. What happens with ties?\n",
        "\n",
        "As an example, consider: \"Hello, how was the football match earlier today???\""
      ],
      "metadata": {
        "id": "SrvrwogePuz_"
      }
    },
    {
      "cell_type": "code",
      "source": [
        "JUNK_CHARACTERS = ['.', ',', '?', '!', \"'\", '(', ')']\n",
        "def find_longest_word(input_string):\n",
        "  temp = '' + input_string\n",
        "  # First of all let's get rid of '.', ',', '?', '!', etc.\n",
        "  for element in JUNK_CHARACTERS:\n",
        "    temp = temp.replace(element, \"\")\n",
        "    \n",
        "  # Now lets split sentece from white spaces\n",
        "  splited_sentence = temp.split()\n",
        "\n",
        "  # Now lets find which word is the longest by use of max function\n",
        "  return max(splited_sentence, key=len)\n",
        "\n",
        "\n",
        "sentence = \"Hello, how was the football match earlier today???\"\n",
        "print(f\"Input sentence: {sentence}\")\n",
        "print(f\"The longest word is {find_longest_word(sentence)}\")"
      ],
      "metadata": {
        "colab": {
          "base_uri": "https://localhost:8080/"
        },
        "id": "5Li1tkwGPm-g",
        "outputId": "63faf6c8-56fa-4d6d-d45c-9d734eb97d92"
      },
      "execution_count": null,
      "outputs": [
        {
          "output_type": "stream",
          "name": "stdout",
          "text": [
            "Input sentence: Hello, how was the football match earlier today???\n",
            "The longest word is football\n"
          ]
        }
      ]
    },
    {
      "cell_type": "markdown",
      "source": [
        "<h1><strong>Exercise 4.10:</strong> Collatz sequence, part 2</h1>\n",
        "Recall the Collatz sequence problem from Section 1. Our goal is to find the number n < 1; 000; 000 that leads to the longest Collatz sequence.\n",
        "\n",
        "<ul>\n",
        "  <li>(a) Write a function that for any n, returns its Collatz sequence as a list</li>\n",
        "  <li>(b) Write a function that finds the integer x that leads to the longest Collatz sequence with x < n.</li>\n",
        "</ul>"
      ],
      "metadata": {
        "id": "oU-Dz-ZvS-GF"
      }
    },
    {
      "cell_type": "markdown",
      "source": [
        "<h2><strong>Answer (a)</storng><h2>"
      ],
      "metadata": {
        "id": "oITIlPQPTnVn"
      }
    },
    {
      "cell_type": "code",
      "source": [
        "def checkEven(number):\n",
        "  if number % 2 == 0:\n",
        "    return True\n",
        "  else:\n",
        "    return False\n",
        "\n",
        "def collatz_seq(n):\n",
        "  chain = [n]\n",
        "\n",
        "  while chain[-1] != 1:\n",
        "    if checkEven(chain[-1]):\n",
        "      chain.append(chain[-1] / 2)\n",
        "    else:\n",
        "      chain.append(3 * chain[-1] + 1)\n",
        "  \n",
        "  return chain\n",
        "\n",
        "\n",
        "n = 103\n",
        "print(collatz_seq(n))"
      ],
      "metadata": {
        "colab": {
          "base_uri": "https://localhost:8080/"
        },
        "id": "0DiUEiKVRO0x",
        "outputId": "a2305439-5fcc-42f8-b4ea-5cf823fd0a8a"
      },
      "execution_count": null,
      "outputs": [
        {
          "output_type": "stream",
          "name": "stdout",
          "text": [
            "[103, 310, 155.0, 466.0, 233.0, 700.0, 350.0, 175.0, 526.0, 263.0, 790.0, 395.0, 1186.0, 593.0, 1780.0, 890.0, 445.0, 1336.0, 668.0, 334.0, 167.0, 502.0, 251.0, 754.0, 377.0, 1132.0, 566.0, 283.0, 850.0, 425.0, 1276.0, 638.0, 319.0, 958.0, 479.0, 1438.0, 719.0, 2158.0, 1079.0, 3238.0, 1619.0, 4858.0, 2429.0, 7288.0, 3644.0, 1822.0, 911.0, 2734.0, 1367.0, 4102.0, 2051.0, 6154.0, 3077.0, 9232.0, 4616.0, 2308.0, 1154.0, 577.0, 1732.0, 866.0, 433.0, 1300.0, 650.0, 325.0, 976.0, 488.0, 244.0, 122.0, 61.0, 184.0, 92.0, 46.0, 23.0, 70.0, 35.0, 106.0, 53.0, 160.0, 80.0, 40.0, 20.0, 10.0, 5.0, 16.0, 8.0, 4.0, 2.0, 1.0]\n"
          ]
        }
      ]
    },
    {
      "cell_type": "markdown",
      "source": [
        "<h2><strong>Answer (b)</storng><h2>"
      ],
      "metadata": {
        "id": "iv3idDrHTrlz"
      }
    },
    {
      "cell_type": "code",
      "source": [
        ""
      ],
      "metadata": {
        "id": "_SGd6ywPeIo8"
      },
      "execution_count": null,
      "outputs": []
    },
    {
      "cell_type": "markdown",
      "source": [
        "<h1><strong>Exercise 4.11:</strong> Pivots</h1>\n",
        "Write a function that takes a value x and a list ys, and returns a list that contains the value x and all elements of ys such that all values y in ys that are smaller than x come first, then we element x and then the rest of the values in ys\n",
        "\n",
        "For example, the output of f(3, [6, 4, 1, 7]) should be [1, 3, 6, 4, 7]"
      ],
      "metadata": {
        "id": "PtVDnzd7ejBs"
      }
    },
    {
      "cell_type": "code",
      "source": [
        "def pivot_list(pivot_number, input_list):\n",
        "  temp = input_list.copy()\n",
        "  left = []\n",
        "  right = []\n",
        "\n",
        "  for element in temp:\n",
        "    if element < pivot_number:\n",
        "      left.append(element)\n",
        "    elif element > pivot_number:\n",
        "      right.append(element)\n",
        "  \n",
        "  left.append(pivot_number)\n",
        "  return left + right\n",
        "\n",
        "\n",
        "l = [6, 4, 1, 7]\n",
        "pivot_number = 3\n",
        "print(f\"Input list: {l}\")\n",
        "print(f\"Output list: {pivot_list(pivot_number, l)}\")"
      ],
      "metadata": {
        "colab": {
          "base_uri": "https://localhost:8080/"
        },
        "id": "GKrCrWdSepiv",
        "outputId": "c2df0747-3f52-4441-ddc6-b67ec3ee161e"
      },
      "execution_count": null,
      "outputs": [
        {
          "output_type": "stream",
          "name": "stdout",
          "text": [
            "Input list: [6, 4, 1, 7]\n",
            "Output list: [1, 3, 6, 4, 7]\n"
          ]
        }
      ]
    },
    {
      "cell_type": "markdown",
      "source": [
        "<h1><strong>Exercise 4.12:</strong> Prime challenge</h1>\n",
        "Write the function primes(n) that return a list with all prime numbers up to n using three (or less)\n",
        "lines of code."
      ],
      "metadata": {
        "id": "zXEyrYBbeIFV"
      }
    },
    {
      "cell_type": "code",
      "source": [
        "def is_prime(n):\n",
        "  if ((n + 1) % 6 == 0) or ((n - 1) % 6 == 0):\n",
        "    return True\n",
        "  return False\n",
        "  \n",
        "def primes(n):\n",
        "  prime_values = [2, 3]\n",
        "  for number in range(3, n):\n",
        "    if is_prime(number):\n",
        "      prime_values.append(number)\n",
        "\n",
        "  return prime_values\n",
        "\n",
        "print(f\"Prime numbers up to 50 {primes(50)}\")"
      ],
      "metadata": {
        "colab": {
          "base_uri": "https://localhost:8080/"
        },
        "id": "x4t110udVdFt",
        "outputId": "6b35fb7a-dc3f-4404-f0d8-15f84feeda7b"
      },
      "execution_count": null,
      "outputs": [
        {
          "output_type": "stream",
          "name": "stdout",
          "text": [
            "Prime numbers up to 50 [2, 3, 5, 7, 11, 13, 17, 19, 23, 25, 29, 31, 35, 37, 41, 43, 47, 49]\n"
          ]
        }
      ]
    },
    {
      "cell_type": "markdown",
      "source": [
        "<h1><strong>5) Tuples</strong></h1>"
      ],
      "metadata": {
        "id": "ytzVjCOwh9Ae"
      }
    },
    {
      "cell_type": "markdown",
      "source": [
        "<h1><strong>Exercise 5.1:</strong> Swapping two values</h1>\n",
        "Suppose you have two variables: a and b. Now you want to set a equal to the value of b and at the same time set b equal to the value of a.\n",
        "\n",
        "The following obviously does not work\n",
        "<ul>\n",
        "  <li>a = b</li>\n",
        "  <li>b = a</li>\n",
        "</ul>\n",
        "so in some languages, you need to de\fne a third variable like this\n",
        "<ul>\n",
        "  <li>t = a</li>\n",
        "  <li>a = b</li>\n",
        "  <li>b = t</li>\n",
        "</ul>\n",
        "\n",
        "However, in Python you don't need to do this. How can you swap a and b in one line?\n",
        "\n",
        "\n",
        "\n",
        "\n"
      ],
      "metadata": {
        "id": "D6MHcrBXiAAs"
      }
    },
    {
      "cell_type": "code",
      "source": [
        "a = 1\n",
        "b = 2\n",
        "\n",
        "print(f\"First version of data\")\n",
        "print(f\"a: {a}\")\n",
        "print(f\"b: {b}\")\n",
        "\n",
        "(a, b) = (b, a)\n",
        "\n",
        "print(f\"Second version of data\")\n",
        "print(f\"a: {a}\")\n",
        "print(f\"b: {b}\")"
      ],
      "metadata": {
        "colab": {
          "base_uri": "https://localhost:8080/"
        },
        "id": "aUv7FXASd2gZ",
        "outputId": "9a09ba30-ce03-40e8-ae1d-ae45ce55ce80"
      },
      "execution_count": null,
      "outputs": [
        {
          "output_type": "stream",
          "name": "stdout",
          "text": [
            "First version of data\n",
            "a: 1\n",
            "b: 2\n",
            "Second version of data\n",
            "a: 2\n",
            "b: 1\n"
          ]
        }
      ]
    },
    {
      "cell_type": "markdown",
      "source": [
        "<h1><strong>6) Dictionaries</strong></h1>"
      ],
      "metadata": {
        "id": "aMoby4ZGD5oZ"
      }
    },
    {
      "cell_type": "markdown",
      "source": [
        "<h1><strong>Exercise 6.1:</strong> Printing a dictionary</h1>\n",
        "Write a function that prints key-value pairs of a dictionary.\n",
        "\n",
        "\n",
        "\n",
        "\n"
      ],
      "metadata": {
        "id": "IDO_MKuzD-Hj"
      }
    },
    {
      "cell_type": "code",
      "source": [
        "def print_dict(input_dict):\n",
        "  for key, value in input_dict.items():\n",
        "    print(f\"\"\"Key: {key} <-> Value: {value}\"\"\")\n",
        "\n",
        "example_dict = {\"fruit\": \"Apple\",\n",
        "                \"vegetable\": \"Asparagus\"}\n",
        "print_dict(example_dict)"
      ],
      "metadata": {
        "id": "0UZ018wJi5Rj",
        "colab": {
          "base_uri": "https://localhost:8080/"
        },
        "outputId": "938c9071-0099-46e2-901e-006ceebac48c"
      },
      "execution_count": null,
      "outputs": [
        {
          "output_type": "stream",
          "name": "stdout",
          "text": [
            "Key: fruit <-> Value: Apple\n",
            "Key: vegetable <-> Value: Asparagus\n"
          ]
        }
      ]
    },
    {
      "cell_type": "markdown",
      "source": [
        "<h1><strong>Exercise 6.2:</strong> Histogram</h1>\n",
        "Write a function that takes a list, and returns a dictionary with keys the elements of the list and as value the number of occurances of that element in the list.\n",
        "\n",
        "After you are done, look up `python collections counter' in Google. Could you use a counter instead?\n",
        "\n",
        "\n",
        "\n",
        "\n"
      ],
      "metadata": {
        "id": "aFTjAHNpCNkq"
      }
    },
    {
      "cell_type": "code",
      "source": [
        "def histogram_func(input_list):\n",
        "  temp_set = set(input_list)\n",
        "  temp_dict = {key: input_list.count(key) for key in temp_set}\n",
        "  print(temp_dict)\n",
        "\n",
        "example_list = [\"a\", \"b\", \"c\", \"a\", \"a\", \"d\", \"b\"]\n",
        "histogram_func(example_list)"
      ],
      "metadata": {
        "colab": {
          "base_uri": "https://localhost:8080/"
        },
        "id": "oDMNPvv2B0t6",
        "outputId": "9b7e3d1a-486e-487c-c742-6f7f65d218f9"
      },
      "execution_count": null,
      "outputs": [
        {
          "output_type": "stream",
          "name": "stdout",
          "text": [
            "{'a': 3, 'b': 2, 'c': 1, 'd': 1}\n"
          ]
        }
      ]
    },
    {
      "cell_type": "code",
      "source": [
        "def with_counter(input_list):\n",
        "  counter_obj = Counter(input_list)\n",
        "  temp_dict = dict(counter_obj)\n",
        "  print(temp_dict)\n",
        "\n",
        "example_list = [\"a\", \"b\", \"c\", \"a\", \"a\", \"d\", \"b\"]\n",
        "with_counter(example_list)"
      ],
      "metadata": {
        "colab": {
          "base_uri": "https://localhost:8080/"
        },
        "id": "b1AEtVtPDUW6",
        "outputId": "c481d31b-bcb8-4afb-c48f-bb88d709ff36"
      },
      "execution_count": null,
      "outputs": [
        {
          "output_type": "stream",
          "name": "stdout",
          "text": [
            "{'a': 3, 'b': 2, 'c': 1, 'd': 1}\n"
          ]
        }
      ]
    },
    {
      "cell_type": "markdown",
      "source": [
        "<h1><strong>Exercise 6.3:</strong> Get method</h1>\n",
        "Dictionaries have a get method, which takes a key and a default value. If the key is in the dictionary, it returns the value, otherwise, it returns the default value.\n",
        "\n",
        "Rewrite your code from the previous problem to make use of this get method.\n",
        "\n",
        "\n",
        "\n"
      ],
      "metadata": {
        "id": "EFNSJn8PFl7q"
      }
    },
    {
      "cell_type": "code",
      "source": [
        ""
      ],
      "metadata": {
        "id": "qzXgeGzyFczA"
      },
      "execution_count": null,
      "outputs": []
    },
    {
      "cell_type": "markdown",
      "source": [
        "<h1><strong>Exercise 6.4:</strong> Random text generator</h1>\n",
        "In this question we will start implementing a random text generator. The generated phrases somewhat resemble English, but are usually nonsense. Next week, after we learn about file I/O, we are ready to complete the code.\n",
        "To generate sentences, we first construct a so-called Markov chain based on actual text data. This is a very basic language model. We can then sample paths from this Markov chain to create new phrases. This is actually easier than it sounds:\n",
        "A Markov chain consists of states, and transition probabilities between states: i.e. when I am in state A, what is the probability that I'll go to state B?\n",
        "We focus on the simple case where the state will be the current word. Consider the example sentence `the fire and the wind.' Then, the states that we move through are\n",
        "\n",
        "\n",
        "BEGIN ! the ! fire ! and ! the ! wind. ! END \n",
        "\n",
        "where \"BEGIN\" and \"END\" are special states for the beginning and the end of the sentence. To find the transition probabilities, we go over a large body of text and record current word and the next word. In\n",
        "the above example, \"BEGIN\" is followed by \"the\", and \"the\" is followed by \"fire\" and \"wind\".\n",
        "\n",
        "We won't be computing actual probabilities. Instead, we create a dictionary that, for every word, contains all the words that follow it. To generate a phrase, we start at the \"BEGIN\" state, and pick randomly one word from the list of words that follows the \"BEGIN\" state. Then we look up which words follow that word, and again pick one word at random, until we hit the \"END\" state, which signals that we are done.\n",
        "\n",
        "Before you get started, download the starter code by using\n",
        "$ git clone https://github.com/schmit/Markov-chain-startercode.git (if you have git / use Cloud9) or dowload the code directly:\n",
        "https://github.com/schmit/Markov-chain-startercode/archive/master.zip\n",
        "\n",
        "\n",
        "Then\n",
        "<ul>\n",
        "  <li>Implement the process line function, which takes a line as input, and returns a list with tuples with the current state, and the next state.</li>\n",
        "  <li>Implement the process textfile function, which loops over text, calls process line to extract the transitions, and adds these to a dictionary. For now, do not worry about reading data from a file, the lines are given as elements of the list f.</li>\n",
        "  <li>Implement the generate line function, which generates random phrases based on a dictionary with transitions.</li>\n",
        "</ul>\n",
        "\n",
        "See markov.py for a more detailed description of each function.\n",
        "\n",
        "To run the code, use python markov.py <filename>. Since we are not using any files yet, replace <filename> with a random word.\n",
        "\n"
      ],
      "metadata": {
        "id": "nP-bCQcTGacb"
      }
    },
    {
      "cell_type": "code",
      "source": [
        "def process_line(line):\n",
        "    '''\n",
        "    Process a line of text to extract (state, new_word) pairs.\n",
        "    Note that we remove uppercase letters in this example, though\n",
        "    you don't have to.\n",
        "\n",
        "    Example:\n",
        "    process_line(\"In winter I get up at night\") =\n",
        "    [('BEGIN', 'in'),\n",
        "     ('in', 'winter'),\n",
        "     ('winter', 'i'),\n",
        "     ('i', 'get'),\n",
        "     ('get', 'up'),\n",
        "     ('up', 'at'),\n",
        "     ('at', 'night'),\n",
        "     ('night', 'END')]\n",
        "\n",
        "    We add the BEGIN and END keywords so that we can initialize the\n",
        "    sentence and know when the line ends.\n",
        "    '''\n",
        "    line = line.lower()\n",
        "    temp_list = []\n",
        "    splited_line = line.split()\n",
        "    begin_tuple = (\"BEGIN\", splited_line[0])\n",
        "    temp_list.append(begin_tuple)\n",
        "\n",
        "    try:\n",
        "      for index, word in enumerate(splited_line, start=1):\n",
        "        first_element = splited_line[index-1]\n",
        "        second_element = splited_line[index]\n",
        "        temp_list.append((first_element, second_element))\n",
        "    except IndexError:\n",
        "      end_tuple = (splited_line[-1], \"END\")\n",
        "      temp_list.append(end_tuple)\n",
        "    print(temp_list)\n",
        "\n",
        "    \n",
        "process_line(\"In winter I get up at night\")"
      ],
      "metadata": {
        "colab": {
          "base_uri": "https://localhost:8080/"
        },
        "id": "qjz7b_AYI4M3",
        "outputId": "6626e331-0366-4455-de0d-fb3cd0a4d0c3"
      },
      "execution_count": null,
      "outputs": [
        {
          "output_type": "stream",
          "name": "stdout",
          "text": [
            "[('BEGIN', 'in'), ('in', 'winter'), ('winter', 'i'), ('i', 'get'), ('get', 'up'), ('up', 'at'), ('at', 'night'), ('night', 'END')]\n"
          ]
        }
      ]
    },
    {
      "cell_type": "markdown",
      "source": [
        "<h1><strong>Exercise 6.5:</strong> Vector functions</h1>\n",
        "Let's implement some vector functions. There are two types of vectors, normal or dense vectors, which we can represent using lists. For sparse vectors, where many of the elements are zero, this is inefficient. Instead, we use a dictionary with keys the indices of non-zero values, and then the value corresponding to the key is the value of the vector at that index. Hence, the vector [1; 2; 4] can be stored as a list: [1, 2, 4] or as a dictionary f0:1, 1: 2, 2: 4g.\n",
        "\n",
        "<ul>\n",
        "  <li>(a) Write a function that adds two (dense) vectors</li>\n",
        "  <li>(b) Write a function that multiplies (i.e. inner product) two (dense) vectors</li>\n",
        "  <li>(c) Write a function that adds two sparse vectors</li>\n",
        "  <li>(d) Write a function that multiplies two sparse vectors</li>\n",
        "  <li>(e) Write a function that adds a sparse vector and a dense vector</li>\n",
        "  <li>(f) Write a function that multiplies a sparse vector and a dense vector\n",
        "  </li>\n",
        "</ul>\n",
        "\n",
        "\n"
      ],
      "metadata": {
        "id": "xbNUuCMoLs3_"
      }
    },
    {
      "cell_type": "markdown",
      "source": [
        "<h2><strong>Answer (a)</storng><h2>"
      ],
      "metadata": {
        "id": "Ygo8oXNqMdR_"
      }
    },
    {
      "cell_type": "code",
      "source": [
        "def add(v1, v2):\n",
        "  temp = {}\n",
        "  for key, value in v1.items():\n",
        "    temp[key] = value + v2[key]\n",
        "  \n",
        "  print(temp)\n",
        "\n",
        "\n",
        "v1 = {0: 1, 1: 2, 2: 3}\n",
        "v2 = {0: 5, 1: 4, 2: 3}\n",
        "add(v1, v2)"
      ],
      "metadata": {
        "colab": {
          "base_uri": "https://localhost:8080/"
        },
        "id": "RUYuTqlUJRys",
        "outputId": "4a5fefa2-88f3-4015-f168-ca18edd83278"
      },
      "execution_count": null,
      "outputs": [
        {
          "output_type": "stream",
          "name": "stdout",
          "text": [
            "{0: 6, 1: 6, 2: 6}\n"
          ]
        }
      ]
    },
    {
      "cell_type": "markdown",
      "source": [
        "<h2><strong>Answer (b)</storng><h2>"
      ],
      "metadata": {
        "id": "eNKY4kqkNHGQ"
      }
    },
    {
      "cell_type": "code",
      "source": [
        "def multiply(v1, v2):\n",
        "  temp = {}\n",
        "  for key, value in v1.items():\n",
        "    temp[key] = value * v2[key]\n",
        "  \n",
        "  print(temp)\n",
        "\n",
        "\n",
        "v1 = {0: 1, 1: 2, 2: 3}\n",
        "v2 = {0: 5, 1: 4, 2: 3}\n",
        "multiply(v1, v2)"
      ],
      "metadata": {
        "colab": {
          "base_uri": "https://localhost:8080/"
        },
        "id": "6r4DJ_InM8b2",
        "outputId": "aa32c228-15ac-414b-c558-28087476bb3e"
      },
      "execution_count": null,
      "outputs": [
        {
          "output_type": "stream",
          "name": "stdout",
          "text": [
            "{0: 5, 1: 8, 2: 9}\n"
          ]
        }
      ]
    },
    {
      "cell_type": "markdown",
      "source": [
        "<h2><strong>Answer (c)</storng><h2>"
      ],
      "metadata": {
        "id": "j5GzRVSQOo_3"
      }
    },
    {
      "cell_type": "code",
      "source": [
        "def add_sparse(v1, v2):\n",
        "  temp = []\n",
        "  for index, value in enumerate(v1):\n",
        "    temp.append(value + v2[index])\n",
        "  \n",
        "  print(temp)\n",
        "\n",
        "\n",
        "v1 = [1, 2, 3]\n",
        "v2 = [5, 4, 3]\n",
        "add_sparse(v1, v2)"
      ],
      "metadata": {
        "colab": {
          "base_uri": "https://localhost:8080/"
        },
        "id": "5XNOSYZANK88",
        "outputId": "9c038442-e8d5-42c6-999c-6f02ba4fdf2e"
      },
      "execution_count": null,
      "outputs": [
        {
          "output_type": "stream",
          "name": "stdout",
          "text": [
            "[6, 6, 6]\n"
          ]
        }
      ]
    },
    {
      "cell_type": "markdown",
      "source": [
        "<h2><strong>Answer (d)</storng><h2>"
      ],
      "metadata": {
        "id": "QtV_ixwhOpdZ"
      }
    },
    {
      "cell_type": "code",
      "source": [
        "def multiply_sparse(v1, v2):\n",
        "  temp = []\n",
        "  for index, value in enumerate(v1):\n",
        "    temp.append(value * v2[index])\n",
        "  \n",
        "  print(temp)\n",
        "\n",
        "\n",
        "v1 = [1, 2, 3]\n",
        "v2 = [5, 4, 3]\n",
        "multiply_sparse(v1, v2)"
      ],
      "metadata": {
        "colab": {
          "base_uri": "https://localhost:8080/"
        },
        "id": "HaeY6iZ2Nm3F",
        "outputId": "a7c6e553-a5fd-42f5-f321-0569bd11e798"
      },
      "execution_count": null,
      "outputs": [
        {
          "output_type": "stream",
          "name": "stdout",
          "text": [
            "[5, 8, 9]\n"
          ]
        }
      ]
    },
    {
      "cell_type": "markdown",
      "source": [
        "<h2><strong>Answer (e)</storng><h2>"
      ],
      "metadata": {
        "id": "FRdjWFshOpwv"
      }
    },
    {
      "cell_type": "code",
      "source": [
        "def add_sparse_to_dense(v1, v2):\n",
        "  \"\"\"\n",
        "  First input (v1) is dense, second is sparse\n",
        "  \"\"\"\n",
        "  temp = {}\n",
        "  for index, (key, value) in enumerate(v1.items()):\n",
        "    temp[key] = value + v2[index]\n",
        "  \n",
        "  print(temp)\n",
        "\n",
        "v1 = {0: 1, 1: 2, 2: 3}\n",
        "v2 = [5, 4, 3]\n",
        "add_sparse_to_dense(v1, v2)"
      ],
      "metadata": {
        "colab": {
          "base_uri": "https://localhost:8080/"
        },
        "id": "_HerwdyANy9z",
        "outputId": "64be2b63-481e-42c0-9a87-ee410546ba1b"
      },
      "execution_count": null,
      "outputs": [
        {
          "output_type": "stream",
          "name": "stdout",
          "text": [
            "{0: 6, 1: 6, 2: 6}\n"
          ]
        }
      ]
    },
    {
      "cell_type": "markdown",
      "source": [
        "<h2><strong>Answer (f)</storng><h2>"
      ],
      "metadata": {
        "id": "3Q969KdVOqLG"
      }
    },
    {
      "cell_type": "code",
      "source": [
        "def multiply_sparse_with_dense(v1, v2):\n",
        "  \"\"\"\n",
        "  First input (v1) is dense, second is sparse\n",
        "  \"\"\"\n",
        "  temp = {}\n",
        "  for index, (key, value) in enumerate(v1.items()):\n",
        "    temp[key] = value * v2[index]\n",
        "  \n",
        "  print(temp)\n",
        "\n",
        "v1 = {0: 1, 1: 2, 2: 3}\n",
        "v2 = [5, 4, 3]\n",
        "multiply_sparse_with_dense(v1, v2)"
      ],
      "metadata": {
        "colab": {
          "base_uri": "https://localhost:8080/"
        },
        "id": "17MAeIX5OHZc",
        "outputId": "42ad7a71-571a-4d1b-b76b-4977ea0cfaf7"
      },
      "execution_count": null,
      "outputs": [
        {
          "output_type": "stream",
          "name": "stdout",
          "text": [
            "{0: 5, 1: 8, 2: 9}\n"
          ]
        }
      ]
    },
    {
      "cell_type": "markdown",
      "source": [
        "<h1><strong>Exercise 6.6:</strong> Reverse look-up</h1>\n",
        "Dictionaries are made to look up values by keys. Suppose however, we want to find the key that is associated with some value. Write a function that takes a dictionary and a value, and returns the key associated with this value.\n",
        "\n",
        "What challenges do you face? How would you deal with those challenges?\n",
        "\n",
        "\n"
      ],
      "metadata": {
        "id": "9oxQSLT5Owmd"
      }
    },
    {
      "cell_type": "code",
      "source": [
        "def get_key(input_dict, value):\n",
        "  possible_choices = []\n",
        "  for k, v in input_dict.items():\n",
        "    if v == value:\n",
        "      possible_choices.append(k)\n",
        "    \n",
        "  return possible_choices\n",
        "\n",
        "\n",
        "example_dict = {\"watermelon\": 3, \"banana\": 2, \"apple\": 10, \"peach\": 2}\n",
        "print(f\"Possible keys for value 2: {get_key(example_dict, 2)}\")\n",
        "print(f\"Possible keys for value 3: {get_key(example_dict, 3)}\")\n",
        "print(f\"Possible keys for value 10: {get_key(example_dict, 10)}\")\n",
        "print(f\"Possible keys for value 5: {get_key(example_dict, 5)}\")"
      ],
      "metadata": {
        "colab": {
          "base_uri": "https://localhost:8080/"
        },
        "id": "RI5vv_NwOmst",
        "outputId": "2d5378cf-3f47-4fa1-8351-3f4d4893cfdf"
      },
      "execution_count": null,
      "outputs": [
        {
          "output_type": "stream",
          "name": "stdout",
          "text": [
            "Possible keys for value 2: ['banana', 'peach']\n",
            "Possible keys for value 3: ['watermelon']\n",
            "Possible keys for value 10: ['apple']\n",
            "Possible keys for value 5: []\n"
          ]
        }
      ]
    },
    {
      "cell_type": "code",
      "source": [
        ""
      ],
      "metadata": {
        "id": "4oKEh6aTP0HF"
      },
      "execution_count": null,
      "outputs": []
    }
  ]
}